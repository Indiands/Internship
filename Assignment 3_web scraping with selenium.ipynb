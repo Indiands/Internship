{
 "cells": [
  {
   "cell_type": "code",
   "execution_count": 13,
   "id": "17f053fb",
   "metadata": {},
   "outputs": [],
   "source": [
    "import pandas as pd\n",
    "import selenium\n",
    "from selenium import webdriver\n",
    "from selenium.webdriver.common.by import By\n",
    "from bs4 import BeautifulSoup\n",
    "from selenium.common.exceptions import NoSuchElementException\n",
    "import time\n",
    "import warnings\n",
    "warnings.filterwarnings('ignore')"
   ]
  },
  {
   "cell_type": "code",
   "execution_count": 14,
   "id": "d4c5d1b3",
   "metadata": {},
   "outputs": [],
   "source": [
    "import requests\n",
    "driver = webdriver.Chrome('chromedriver.exe')\n",
    "\n",
    "#Loading web page:\n",
    "driver.get(\"https://www.amazon.in\")\n",
    "driver.maximize_window()\n",
    "driver.implicitly_wait(5)"
   ]
  },
  {
   "cell_type": "markdown",
   "id": "a9ae662e",
   "metadata": {},
   "source": [
    "# Q1. Write a python program which searches all the product under a particular product from www.amazon.in. The product to be searched will be taken as input from user. For e.g. If user input is ‘guitar’. Then search for guitars."
   ]
  },
  {
   "cell_type": "code",
   "execution_count": 15,
   "id": "a2ee387d",
   "metadata": {},
   "outputs": [],
   "source": [
    "# geting the input elements:\n",
    "input_search = driver.find_element_by_id('twotabsearchtextbox')\n",
    "search_button = driver.find_element_by_xpath(\"(//input[@type='submit'])[1]\")"
   ]
  },
  {
   "cell_type": "code",
   "execution_count": 16,
   "id": "bb9c3950",
   "metadata": {},
   "outputs": [
    {
     "name": "stdout",
     "output_type": "stream",
     "text": [
      "Enter Product Name :guitar\n"
     ]
    }
   ],
   "source": [
    "# sending the input to the webpage:\n",
    "val = input('Enter Product Name :')\n",
    "input_search.send_keys(val)\n",
    "time.sleep(1)\n",
    "search_button.click()"
   ]
  },
  {
   "cell_type": "markdown",
   "id": "dc9b0bf6",
   "metadata": {},
   "source": [
    "# 2. In the above question, now scrape the following details of each product listed in first 3 pages of your  search results and save it in a data frame and csv. In case if any product has less than 3 pages in search results then scrape all the products available under that product name. Details to be scraped are: \"Brand Name\", \"Name of the Product\", \"Price\", \"Return/Exchange\", \"Expected Delivery\", \"Availability\" and “Product URL”. In case, if any of the details are missing for any of the product then replace it by “-“."
   ]
  },
  {
   "cell_type": "code",
   "execution_count": null,
   "id": "7fc3b3ec",
   "metadata": {},
   "outputs": [],
   "source": [
    "# scraping the desired products:\n",
    "products = []\n",
    "for i in range(3):\n",
    "    print('Scraping page', i+1)\n",
    "    product = driver.find_elements_by_xpath('/html/body/div[1]/div[2]/div[1]/div[1]/div/span[3]/div[2]/div[3]/div/div/div/div/div/div/div[2]/div[1]/h2/a/span')\n",
    "    for p in product:\n",
    "        products.append(p.text)\n",
    "    next_button = driver.find_element_by_xpath(\"/html/body/div[1]/div[2]/div[1]/div[1]/div/span[3]/div[2]/div[67]/div/div/span/a[3]\")\n",
    "    next_button.click()\n",
    "    time.sleep(3)"
   ]
  },
  {
   "cell_type": "code",
   "execution_count": null,
   "id": "cec6247c",
   "metadata": {},
   "outputs": [],
   "source": [
    "# Creating empty list:\n",
    "product_list = []\n",
    "for i in range(10):\n",
    "    product_list.append(i[:3]).send_keys(products)\n",
    "\n",
    "# Scrapint the products:\n",
    "\n",
    "name = driver.find_elements(By.XPATH,\"//span[@class ='a-size-base-plus a-color-base a-text-normal']\")\n",
    "for i in name:\n",
    "    if i.text is None :\n",
    "        product_name.append('--')\n",
    "    else:\n",
    "        product_name.append(i.text)\n",
    "        \n",
    "\n",
    "# Scraping the price:\n",
    "price = driver.find_elements(By.XPATH, \"//span[@class = 'a-price-whole']\")\n",
    "for i in price:\n",
    "    if i.text is None :\n",
    "        price.append('--')\n",
    "    else:\n",
    "        price.append(i.text)\n",
    "        \n",
    "\n",
    "# Scraping the discount on product:\n",
    "discount = driver.find_elements(By.XPATH,\"//span[@class = 'a-price a-text-price']\")\n",
    "for i in discount:\n",
    "    if i.text is None :\n",
    "        discount.append('--')\n",
    "    else:\n",
    "        discount.append(i.text)\n",
    "        \n",
    "\n",
    "# Scraping the discounted % :\n",
    "discount_per = driver.find_elements(By.XPATH,\"//span[@class = 'a-letter-space']\")\n",
    "for i in discount_per:\n",
    "    if i.text is None :\n",
    "        discount_per.append('--')\n",
    "    else:\n",
    "        discount_per.append(i.text)\n",
    "        \n",
    "\n",
    "# Scraping the image of product:\n",
    "image = driver.find_elements(By.XPATH,\"//img[@class = 's-image']\")\n",
    "for i in image:\n",
    "    if i.text is None :\n",
    "        image.append('--')\n",
    "    else:\n",
    "        image.append(i.text)\n",
    "\n"
   ]
  },
  {
   "cell_type": "code",
   "execution_count": null,
   "id": "43c628cd",
   "metadata": {},
   "outputs": [],
   "source": [
    "len(product_name),len(price),len(discount),len(discount_per),len(image)"
   ]
  },
  {
   "cell_type": "code",
   "execution_count": null,
   "id": "e7cd97e5",
   "metadata": {},
   "outputs": [],
   "source": [
    "# creating the dataframe from the scraped data:\n",
    "df=pd.DataFrame({\"Product Name\":product_name,\n",
    "                 \"Price\":price,\n",
    "                 \"Discount\":discount,\n",
    "                \"Off\":discount_per,\n",
    "                \"Image\": image})\n",
    "df"
   ]
  },
  {
   "cell_type": "code",
   "execution_count": null,
   "id": "0c33dcd3",
   "metadata": {},
   "outputs": [],
   "source": []
  },
  {
   "cell_type": "markdown",
   "id": "00bf1980",
   "metadata": {},
   "source": [
    "# Q 3. A python program to access the search bar and search button on images.google.com and scrape 10 images each for keywords ‘fruits’, ‘cars’ and ‘Machine Learning’, ‘Guitar’, ‘Cakes’."
   ]
  },
  {
   "cell_type": "code",
   "execution_count": 28,
   "id": "5c5c3e85",
   "metadata": {},
   "outputs": [],
   "source": [
    "import selenium\n",
    "from selenium import webdriver\n",
    "import pandas as pd\n",
    "import warnings\n",
    "warnings.filterwarnings('ignore')"
   ]
  },
  {
   "cell_type": "code",
   "execution_count": 29,
   "id": "bfc1d5fa",
   "metadata": {},
   "outputs": [],
   "source": [
    "import requests\n",
    "driver = webdriver.Chrome('chromedriver.exe')\n",
    "driver.maximize_window()\n",
    "driver.get(\"https://www.google.com\")\n",
    "driver.implicitly_wait(5)"
   ]
  },
  {
   "cell_type": "code",
   "execution_count": 32,
   "id": "f3bdf3f8",
   "metadata": {},
   "outputs": [],
   "source": [
    "input_search = driver.find_element_by_xpath(\"/html/body/div[1]/div[3]/form/div[1]/div[1]/div[1]/div/div[2]/input\")\n",
    "search_button = driver.find_element_by_xpath(\"/html/body/div[1]/div[3]/form/div[1]/div[1]/div[3]/center/input[1]\")"
   ]
  },
  {
   "cell_type": "code",
   "execution_count": 33,
   "id": "a3ab4f35",
   "metadata": {},
   "outputs": [
    {
     "ename": "TypeError",
     "evalue": "'NoneType' object is not callable",
     "output_type": "error",
     "traceback": [
      "\u001b[1;31m---------------------------------------------------------------------------\u001b[0m",
      "\u001b[1;31mTypeError\u001b[0m                                 Traceback (most recent call last)",
      "\u001b[1;32m<ipython-input-33-3b6bc8790e06>\u001b[0m in \u001b[0;36m<module>\u001b[1;34m\u001b[0m\n\u001b[0;32m      2\u001b[0m \u001b[0mval\u001b[0m \u001b[1;33m=\u001b[0m \u001b[1;33m[\u001b[0m\u001b[1;34m'fruits'\u001b[0m\u001b[1;33m,\u001b[0m \u001b[1;34m'car'\u001b[0m\u001b[1;33m,\u001b[0m \u001b[1;34m'machine learning'\u001b[0m\u001b[1;33m,\u001b[0m \u001b[1;34m'cake'\u001b[0m\u001b[1;33m,\u001b[0m \u001b[1;34m'guitar'\u001b[0m\u001b[1;33m]\u001b[0m\u001b[1;33m\u001b[0m\u001b[1;33m\u001b[0m\u001b[0m\n\u001b[0;32m      3\u001b[0m \u001b[0minput_keys\u001b[0m \u001b[1;33m=\u001b[0m \u001b[0minput_search\u001b[0m\u001b[1;33m.\u001b[0m\u001b[0msend_keys\u001b[0m\u001b[1;33m(\u001b[0m\u001b[0mval\u001b[0m\u001b[1;33m)\u001b[0m\u001b[1;33m\u001b[0m\u001b[1;33m\u001b[0m\u001b[0m\n\u001b[1;32m----> 4\u001b[1;33m \u001b[1;32mfor\u001b[0m \u001b[0mi\u001b[0m \u001b[1;32min\u001b[0m \u001b[0minput_keys\u001b[0m\u001b[1;33m(\u001b[0m\u001b[1;33m)\u001b[0m\u001b[1;33m:\u001b[0m\u001b[1;33m\u001b[0m\u001b[1;33m\u001b[0m\u001b[0m\n\u001b[0m\u001b[0;32m      5\u001b[0m     \u001b[0mprint\u001b[0m\u001b[1;33m(\u001b[0m\u001b[0mi\u001b[0m\u001b[1;33m+\u001b[0m\u001b[1;36m1\u001b[0m\u001b[1;33m)\u001b[0m\u001b[1;33m\u001b[0m\u001b[1;33m\u001b[0m\u001b[0m\n\u001b[0;32m      6\u001b[0m \u001b[1;33m\u001b[0m\u001b[0m\n",
      "\u001b[1;31mTypeError\u001b[0m: 'NoneType' object is not callable"
     ]
    }
   ],
   "source": [
    "# sending the input to the webpage:\n",
    "input_keys = ['fruits', 'car', 'machine learning', 'cake', 'guitar']\n",
    "input_keys = input_search.send_keys(val)\n",
    "for i in input_keys():\n",
    "    print(i+1)\n",
    "        \n",
    "time.sleep(1)\n",
    "search_button.click()"
   ]
  },
  {
   "cell_type": "code",
   "execution_count": null,
   "id": "c81bfa85",
   "metadata": {},
   "outputs": [],
   "source": []
  },
  {
   "cell_type": "code",
   "execution_count": null,
   "id": "5f461f96",
   "metadata": {},
   "outputs": [],
   "source": []
  },
  {
   "cell_type": "code",
   "execution_count": null,
   "id": "db2365aa",
   "metadata": {},
   "outputs": [],
   "source": []
  },
  {
   "cell_type": "code",
   "execution_count": null,
   "id": "acc50f9a",
   "metadata": {},
   "outputs": [],
   "source": []
  },
  {
   "cell_type": "code",
   "execution_count": null,
   "id": "884be8dc",
   "metadata": {},
   "outputs": [],
   "source": []
  },
  {
   "cell_type": "code",
   "execution_count": null,
   "id": "91cfcf73",
   "metadata": {},
   "outputs": [],
   "source": []
  },
  {
   "cell_type": "code",
   "execution_count": null,
   "id": "46b9a88d",
   "metadata": {},
   "outputs": [],
   "source": []
  },
  {
   "cell_type": "code",
   "execution_count": null,
   "id": "4acad559",
   "metadata": {},
   "outputs": [],
   "source": []
  },
  {
   "cell_type": "code",
   "execution_count": null,
   "id": "982bba18",
   "metadata": {},
   "outputs": [],
   "source": []
  }
 ],
 "metadata": {
  "kernelspec": {
   "display_name": "Python 3",
   "language": "python",
   "name": "python3"
  },
  "language_info": {
   "codemirror_mode": {
    "name": "ipython",
    "version": 3
   },
   "file_extension": ".py",
   "mimetype": "text/x-python",
   "name": "python",
   "nbconvert_exporter": "python",
   "pygments_lexer": "ipython3",
   "version": "3.8.8"
  }
 },
 "nbformat": 4,
 "nbformat_minor": 5
}
