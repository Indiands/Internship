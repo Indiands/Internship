{
 "cells": [
  {
   "cell_type": "markdown",
   "id": "87dba107",
   "metadata": {},
   "source": [
    "# Fetching Libraries"
   ]
  },
  {
   "cell_type": "code",
   "execution_count": 1,
   "id": "1d0476e5",
   "metadata": {},
   "outputs": [],
   "source": [
    "import pandas as pd\n",
    "import numpy as np\n",
    "import matplotlib.pyplot as plt\n",
    "import seaborn as sns\n",
    "from sklearn.decomposition import PCA\n",
    "from sklearn.linear_model import LinearRegression\n",
    "from sklearn.metrics import mean_squared_error, mean_absolute_error\n",
    "from sklearn.model_selection import train_test_split\n",
    "import warnings\n",
    "warnings.filterwarnings('ignore')"
   ]
  },
  {
   "cell_type": "raw",
   "id": "6c156780",
   "metadata": {},
   "source": [
    "Observation: Importing necessary libraries."
   ]
  },
  {
   "cell_type": "markdown",
   "id": "da2b1986",
   "metadata": {},
   "source": [
    "# Loading Dataset"
   ]
  },
  {
   "cell_type": "code",
   "execution_count": 2,
   "id": "f9464376",
   "metadata": {},
   "outputs": [
    {
     "data": {
      "text/html": [
       "<div>\n",
       "<style scoped>\n",
       "    .dataframe tbody tr th:only-of-type {\n",
       "        vertical-align: middle;\n",
       "    }\n",
       "\n",
       "    .dataframe tbody tr th {\n",
       "        vertical-align: top;\n",
       "    }\n",
       "\n",
       "    .dataframe thead th {\n",
       "        text-align: right;\n",
       "    }\n",
       "</style>\n",
       "<table border=\"1\" class=\"dataframe\">\n",
       "  <thead>\n",
       "    <tr style=\"text-align: right;\">\n",
       "      <th></th>\n",
       "      <th>1Gender of respondent</th>\n",
       "      <th>2 How old are you?</th>\n",
       "      <th>3 Which city do you shop online from?</th>\n",
       "      <th>4 What is the Pin Code of where you shop online from?</th>\n",
       "      <th>5 Since How Long You are Shopping Online ?</th>\n",
       "      <th>6 How many times you have made an online purchase in the past 1 year?</th>\n",
       "      <th>7 How do you access the internet while shopping on-line?</th>\n",
       "      <th>8 Which device do you use to access the online shopping?</th>\n",
       "      <th>9 What is the screen size of your mobile device?\\t\\t\\t\\t\\t\\t</th>\n",
       "      <th>10 What is the operating system (OS) of your device?\\t\\t\\t\\t</th>\n",
       "      <th>...</th>\n",
       "      <th>Longer time to get logged in (promotion, sales period)</th>\n",
       "      <th>Longer time in displaying graphics and photos (promotion, sales period)</th>\n",
       "      <th>Late declaration of price (promotion, sales period)</th>\n",
       "      <th>Longer page loading time (promotion, sales period)</th>\n",
       "      <th>Limited mode of payment on most products (promotion, sales period)</th>\n",
       "      <th>Longer delivery period</th>\n",
       "      <th>Change in website/Application design</th>\n",
       "      <th>Frequent disruption when moving from one page to another</th>\n",
       "      <th>Website is as efficient as before</th>\n",
       "      <th>Which of the Indian online retailer would you recommend to a friend?</th>\n",
       "    </tr>\n",
       "  </thead>\n",
       "  <tbody>\n",
       "    <tr>\n",
       "      <th>0</th>\n",
       "      <td>0</td>\n",
       "      <td>3</td>\n",
       "      <td>Delhi</td>\n",
       "      <td>110009</td>\n",
       "      <td>5</td>\n",
       "      <td>4</td>\n",
       "      <td>4</td>\n",
       "      <td>3</td>\n",
       "      <td>5</td>\n",
       "      <td>1</td>\n",
       "      <td>...</td>\n",
       "      <td>Amazon.in</td>\n",
       "      <td>Amazon.in</td>\n",
       "      <td>Flipkart.com</td>\n",
       "      <td>Flipkart.com</td>\n",
       "      <td>Amazon.in</td>\n",
       "      <td>Paytm.com</td>\n",
       "      <td>Flipkart.com</td>\n",
       "      <td>Amazon.in</td>\n",
       "      <td>Amazon.in</td>\n",
       "      <td>Flipkart.com</td>\n",
       "    </tr>\n",
       "    <tr>\n",
       "      <th>1</th>\n",
       "      <td>1</td>\n",
       "      <td>2</td>\n",
       "      <td>Delhi</td>\n",
       "      <td>110030</td>\n",
       "      <td>5</td>\n",
       "      <td>5</td>\n",
       "      <td>2</td>\n",
       "      <td>1</td>\n",
       "      <td>2</td>\n",
       "      <td>3</td>\n",
       "      <td>...</td>\n",
       "      <td>Amazon.in, Flipkart.com</td>\n",
       "      <td>Myntra.com</td>\n",
       "      <td>snapdeal.com</td>\n",
       "      <td>Snapdeal.com</td>\n",
       "      <td>Snapdeal.com</td>\n",
       "      <td>Snapdeal.com</td>\n",
       "      <td>Amazon.in</td>\n",
       "      <td>Myntra.com</td>\n",
       "      <td>Amazon.in, Flipkart.com</td>\n",
       "      <td>Amazon.in, Myntra.com</td>\n",
       "    </tr>\n",
       "    <tr>\n",
       "      <th>2</th>\n",
       "      <td>1</td>\n",
       "      <td>2</td>\n",
       "      <td>Greater Noida</td>\n",
       "      <td>201308</td>\n",
       "      <td>4</td>\n",
       "      <td>5</td>\n",
       "      <td>3</td>\n",
       "      <td>1</td>\n",
       "      <td>4</td>\n",
       "      <td>2</td>\n",
       "      <td>...</td>\n",
       "      <td>Myntra.com</td>\n",
       "      <td>Myntra.com</td>\n",
       "      <td>Myntra.com</td>\n",
       "      <td>Myntra.com</td>\n",
       "      <td>Amazon.in</td>\n",
       "      <td>Paytm.com</td>\n",
       "      <td>Paytm.com</td>\n",
       "      <td>Paytm.com</td>\n",
       "      <td>Amazon.in</td>\n",
       "      <td>Amazon.in, Paytm.com, Myntra.com</td>\n",
       "    </tr>\n",
       "    <tr>\n",
       "      <th>3</th>\n",
       "      <td>0</td>\n",
       "      <td>2</td>\n",
       "      <td>Karnal</td>\n",
       "      <td>132001</td>\n",
       "      <td>4</td>\n",
       "      <td>1</td>\n",
       "      <td>3</td>\n",
       "      <td>1</td>\n",
       "      <td>4</td>\n",
       "      <td>3</td>\n",
       "      <td>...</td>\n",
       "      <td>Snapdeal.com</td>\n",
       "      <td>Myntra.com, Snapdeal.com</td>\n",
       "      <td>Myntra.com</td>\n",
       "      <td>Paytm.com</td>\n",
       "      <td>Paytm.com</td>\n",
       "      <td>Paytm.com</td>\n",
       "      <td>Amazon.in, Flipkart.com</td>\n",
       "      <td>Amazon.in, Flipkart.com</td>\n",
       "      <td>Amazon.in, Flipkart.com, Paytm.com</td>\n",
       "      <td>Amazon.in, Flipkart.com</td>\n",
       "    </tr>\n",
       "    <tr>\n",
       "      <th>4</th>\n",
       "      <td>1</td>\n",
       "      <td>2</td>\n",
       "      <td>Bangalore</td>\n",
       "      <td>530068</td>\n",
       "      <td>3</td>\n",
       "      <td>2</td>\n",
       "      <td>2</td>\n",
       "      <td>1</td>\n",
       "      <td>2</td>\n",
       "      <td>3</td>\n",
       "      <td>...</td>\n",
       "      <td>Flipkart.com, Paytm.com</td>\n",
       "      <td>Paytm.com</td>\n",
       "      <td>Paytm.com</td>\n",
       "      <td>Paytm.com</td>\n",
       "      <td>Snapdeal.com</td>\n",
       "      <td>Paytm.com</td>\n",
       "      <td>Amazon.in</td>\n",
       "      <td>Snapdeal.com</td>\n",
       "      <td>Paytm.com</td>\n",
       "      <td>Amazon.in, Myntra.com</td>\n",
       "    </tr>\n",
       "  </tbody>\n",
       "</table>\n",
       "<p>5 rows × 71 columns</p>\n",
       "</div>"
      ],
      "text/plain": [
       "   1Gender of respondent  2 How old are you?   \\\n",
       "0                      0                    3   \n",
       "1                      1                    2   \n",
       "2                      1                    2   \n",
       "3                      0                    2   \n",
       "4                      1                    2   \n",
       "\n",
       "  3 Which city do you shop online from?  \\\n",
       "0                                 Delhi   \n",
       "1                                 Delhi   \n",
       "2                         Greater Noida   \n",
       "3                               Karnal    \n",
       "4                            Bangalore    \n",
       "\n",
       "   4 What is the Pin Code of where you shop online from?  \\\n",
       "0                                             110009       \n",
       "1                                             110030       \n",
       "2                                             201308       \n",
       "3                                             132001       \n",
       "4                                             530068       \n",
       "\n",
       "   5 Since How Long You are Shopping Online ?  \\\n",
       "0                                           5   \n",
       "1                                           5   \n",
       "2                                           4   \n",
       "3                                           4   \n",
       "4                                           3   \n",
       "\n",
       "   6 How many times you have made an online purchase in the past 1 year?  \\\n",
       "0                                                  4                       \n",
       "1                                                  5                       \n",
       "2                                                  5                       \n",
       "3                                                  1                       \n",
       "4                                                  2                       \n",
       "\n",
       "   7 How do you access the internet while shopping on-line?  \\\n",
       "0                                                  4          \n",
       "1                                                  2          \n",
       "2                                                  3          \n",
       "3                                                  3          \n",
       "4                                                  2          \n",
       "\n",
       "   8 Which device do you use to access the online shopping?  \\\n",
       "0                                                  3          \n",
       "1                                                  1          \n",
       "2                                                  1          \n",
       "3                                                  1          \n",
       "4                                                  1          \n",
       "\n",
       "   9 What is the screen size of your mobile device?\\t\\t\\t\\t\\t\\t                                          \\\n",
       "0                                                  5                                                      \n",
       "1                                                  2                                                      \n",
       "2                                                  4                                                      \n",
       "3                                                  4                                                      \n",
       "4                                                  2                                                      \n",
       "\n",
       "   10 What is the operating system (OS) of your device?\\t\\t\\t\\t                                            \\\n",
       "0                                                  1                                                        \n",
       "1                                                  3                                                        \n",
       "2                                                  2                                                        \n",
       "3                                                  3                                                        \n",
       "4                                                  3                                                        \n",
       "\n",
       "   ...  Longer time to get logged in (promotion, sales period)  \\\n",
       "0  ...                                          Amazon.in        \n",
       "1  ...                            Amazon.in, Flipkart.com        \n",
       "2  ...                                         Myntra.com        \n",
       "3  ...                                       Snapdeal.com        \n",
       "4  ...                            Flipkart.com, Paytm.com        \n",
       "\n",
       "   Longer time in displaying graphics and photos (promotion, sales period)  \\\n",
       "0                                          Amazon.in                         \n",
       "1                                         Myntra.com                         \n",
       "2                                         Myntra.com                         \n",
       "3                           Myntra.com, Snapdeal.com                         \n",
       "4                                          Paytm.com                         \n",
       "\n",
       "   Late declaration of price (promotion, sales period)  \\\n",
       "0                                       Flipkart.com     \n",
       "1                                       snapdeal.com     \n",
       "2                                         Myntra.com     \n",
       "3                                         Myntra.com     \n",
       "4                                          Paytm.com     \n",
       "\n",
       "   Longer page loading time (promotion, sales period)  \\\n",
       "0                                       Flipkart.com    \n",
       "1                                       Snapdeal.com    \n",
       "2                                         Myntra.com    \n",
       "3                                          Paytm.com    \n",
       "4                                          Paytm.com    \n",
       "\n",
       "   Limited mode of payment on most products (promotion, sales period)  \\\n",
       "0                                          Amazon.in                    \n",
       "1                                       Snapdeal.com                    \n",
       "2                                          Amazon.in                    \n",
       "3                                          Paytm.com                    \n",
       "4                                       Snapdeal.com                    \n",
       "\n",
       "   Longer delivery period  Change in website/Application design  \\\n",
       "0               Paytm.com                          Flipkart.com   \n",
       "1            Snapdeal.com                             Amazon.in   \n",
       "2               Paytm.com                             Paytm.com   \n",
       "3               Paytm.com               Amazon.in, Flipkart.com   \n",
       "4               Paytm.com                             Amazon.in   \n",
       "\n",
       "   Frequent disruption when moving from one page to another  \\\n",
       "0                                          Amazon.in          \n",
       "1                                         Myntra.com          \n",
       "2                                          Paytm.com          \n",
       "3                            Amazon.in, Flipkart.com          \n",
       "4                                       Snapdeal.com          \n",
       "\n",
       "    Website is as efficient as before  \\\n",
       "0                           Amazon.in   \n",
       "1             Amazon.in, Flipkart.com   \n",
       "2                           Amazon.in   \n",
       "3  Amazon.in, Flipkart.com, Paytm.com   \n",
       "4                           Paytm.com   \n",
       "\n",
       "   Which of the Indian online retailer would you recommend to a friend?  \n",
       "0                                       Flipkart.com                     \n",
       "1                              Amazon.in, Myntra.com                     \n",
       "2                   Amazon.in, Paytm.com, Myntra.com                     \n",
       "3                            Amazon.in, Flipkart.com                     \n",
       "4                              Amazon.in, Myntra.com                     \n",
       "\n",
       "[5 rows x 71 columns]"
      ]
     },
     "execution_count": 2,
     "metadata": {},
     "output_type": "execute_result"
    }
   ],
   "source": [
    "df = pd.read_csv('C:/csv_files/customer_retention_codedsheet.csv')\n",
    "df.head()"
   ]
  },
  {
   "cell_type": "markdown",
   "id": "570419fd",
   "metadata": {},
   "source": [
    "Observation: Here, we are loading our dataset."
   ]
  },
  {
   "cell_type": "code",
   "execution_count": 3,
   "id": "9d405755",
   "metadata": {},
   "outputs": [
    {
     "data": {
      "text/plain": [
       "Index(['1Gender of respondent', '2 How old are you? ',\n",
       "       '3 Which city do you shop online from?',\n",
       "       '4 What is the Pin Code of where you shop online from?',\n",
       "       '5 Since How Long You are Shopping Online ?',\n",
       "       '6 How many times you have made an online purchase in the past 1 year?',\n",
       "       '7 How do you access the internet while shopping on-line?',\n",
       "       '8 Which device do you use to access the online shopping?',\n",
       "       '9 What is the screen size of your mobile device?\\t\\t\\t\\t\\t\\t                                        ',\n",
       "       '10 What is the operating system (OS) of your device?\\t\\t\\t\\t                                          ',\n",
       "       '11 What browser do you run on your device to access the website?\\t\\t\\t                                                          ',\n",
       "       '12 Which channel did you follow to arrive at your favorite online store for the first time?                                                                   ',\n",
       "       '13 After first visit, how do you reach the online retail store?\\t\\t\\t\\t                                                   ',\n",
       "       '14 How much time do you explore the e- retail store before making a purchase decision?                                                                   ',\n",
       "       '15 What is your preferred payment Option?\\t\\t\\t\\t\\t                                                                                                                               ',\n",
       "       '16 How 4 do you abandon (selecting an items and leaving without making payment) your shopping cart?\\t\\t\\t\\t\\t\\t\\t                                                   ',\n",
       "       '17 Why did you abandon the �Bag�, �Shopping Cart�?\\t\\t\\t\\t\\t                                                                                                                                                       ',\n",
       "       '18 The content on the website must be easy to read and understand',\n",
       "       '19 Information on similar product to the one highlighted  is important for product comparison',\n",
       "       '20 Complete information on listed seller and product being offered is important for purchase decision.',\n",
       "       '21 All relevant information on listed products must be stated clearly',\n",
       "       '22 Ease of navigation in website', '23 Loading and processing speed',\n",
       "       '24 User friendly Interface of the website',\n",
       "       '25 Convenient Payment methods',\n",
       "       '26 Trust that the online retail store will fulfill its part of the transaction at the stipulated time',\n",
       "       '27 Empathy (readiness to assist with queries) towards the customers',\n",
       "       '28 Being able to guarantee the privacy of the customer',\n",
       "       '29 Responsiveness, availability of several communication channels (email, online rep, twitter, phone etc.)',\n",
       "       '30 Online shopping gives monetary benefit and discounts',\n",
       "       '31 Enjoyment is derived from shopping online',\n",
       "       '32 Shopping online is convenient and flexible',\n",
       "       '33 Return and replacement policy of the e-tailer is important for purchase decision',\n",
       "       '34 Gaining access to loyalty programs is a benefit of shopping online',\n",
       "       '35 Displaying quality Information on the website improves satisfaction of customers',\n",
       "       '36 User derive satisfaction while shopping on a good quality website or application',\n",
       "       '37 Net Benefit derived from shopping online can lead to users satisfaction',\n",
       "       '38 User satisfaction cannot exist without trust',\n",
       "       '39 Offering a wide variety of listed product in several category',\n",
       "       '40 Provision of complete and relevant product information',\n",
       "       '41 Monetary savings',\n",
       "       '42 The Convenience of patronizing the online retailer',\n",
       "       '43 Shopping on the website gives you the sense of adventure',\n",
       "       '44 Shopping on your preferred e-tailer enhances your social status',\n",
       "       '45 You feel gratification shopping on your favorite e-tailer',\n",
       "       '46 Shopping on the website helps you fulfill certain roles',\n",
       "       '47 Getting value for money spent',\n",
       "       'From the following, tick any (or all) of the online retailers you have shopped from;                                                                           ',\n",
       "       'Easy to use website or application',\n",
       "       'Visual appealing web-page layout', 'Wild variety of product on offer',\n",
       "       'Complete, relevant description information of products',\n",
       "       'Fast loading website speed of website and application',\n",
       "       'Reliability of the website or application',\n",
       "       'Quickness to complete purchase',\n",
       "       'Availability of several payment options', 'Speedy order delivery ',\n",
       "       'Privacy of customers� information',\n",
       "       'Security of customer financial information',\n",
       "       'Perceived Trustworthiness',\n",
       "       'Presence of online assistance through multi-channel',\n",
       "       'Longer time to get logged in (promotion, sales period)',\n",
       "       'Longer time in displaying graphics and photos (promotion, sales period)',\n",
       "       'Late declaration of price (promotion, sales period)',\n",
       "       'Longer page loading time (promotion, sales period)',\n",
       "       'Limited mode of payment on most products (promotion, sales period)',\n",
       "       'Longer delivery period', 'Change in website/Application design',\n",
       "       'Frequent disruption when moving from one page to another',\n",
       "       'Website is as efficient as before',\n",
       "       'Which of the Indian online retailer would you recommend to a friend?'],\n",
       "      dtype='object')"
      ]
     },
     "execution_count": 3,
     "metadata": {},
     "output_type": "execute_result"
    }
   ],
   "source": [
    "df.columns"
   ]
  },
  {
   "cell_type": "markdown",
   "id": "f0ca552f",
   "metadata": {},
   "source": [
    "Observation: Here, we see the columns name. This is giving us information about our data. Here, our data tells about online shoping and their customer.And how much a company works to satisfy their customer by their different process?"
   ]
  },
  {
   "cell_type": "code",
   "execution_count": 4,
   "id": "823671fc",
   "metadata": {},
   "outputs": [
    {
     "data": {
      "text/plain": [
       "(269, 71)"
      ]
     },
     "execution_count": 4,
     "metadata": {},
     "output_type": "execute_result"
    }
   ],
   "source": [
    "df.shape"
   ]
  },
  {
   "cell_type": "markdown",
   "id": "b98a82a1",
   "metadata": {},
   "source": [
    "Observation: Here, we can see there are total 269 rowa and 71 columns."
   ]
  },
  {
   "cell_type": "code",
   "execution_count": 5,
   "id": "8394ec6e",
   "metadata": {},
   "outputs": [
    {
     "data": {
      "text/plain": [
       "1Gender of respondent                                                   0\n",
       "2 How old are you?                                                      0\n",
       "3 Which city do you shop online from?                                   0\n",
       "4 What is the Pin Code of where you shop online from?                   0\n",
       "5 Since How Long You are Shopping Online ?                              0\n",
       "                                                                       ..\n",
       "Longer delivery period                                                  0\n",
       "Change in website/Application design                                    0\n",
       "Frequent disruption when moving from one page to another                0\n",
       "Website is as efficient as before                                       0\n",
       "Which of the Indian online retailer would you recommend to a friend?    0\n",
       "Length: 71, dtype: int64"
      ]
     },
     "execution_count": 5,
     "metadata": {},
     "output_type": "execute_result"
    }
   ],
   "source": [
    "df.isnull().sum()"
   ]
  },
  {
   "cell_type": "markdown",
   "id": "e57232e2",
   "metadata": {},
   "source": [
    "Observation: Here, we can see there is no any null values in our dataset."
   ]
  },
  {
   "cell_type": "code",
   "execution_count": 6,
   "id": "11fc2843",
   "metadata": {},
   "outputs": [
    {
     "name": "stdout",
     "output_type": "stream",
     "text": [
      "<class 'pandas.core.frame.DataFrame'>\n",
      "RangeIndex: 269 entries, 0 to 268\n",
      "Data columns (total 71 columns):\n",
      " #   Column                                                                                                                                                                                                          Non-Null Count  Dtype \n",
      "---  ------                                                                                                                                                                                                          --------------  ----- \n",
      " 0   1Gender of respondent                                                                                                                                                                                           269 non-null    int64 \n",
      " 1   2 How old are you?                                                                                                                                                                                              269 non-null    int64 \n",
      " 2   3 Which city do you shop online from?                                                                                                                                                                           269 non-null    object\n",
      " 3   4 What is the Pin Code of where you shop online from?                                                                                                                                                           269 non-null    int64 \n",
      " 4   5 Since How Long You are Shopping Online ?                                                                                                                                                                      269 non-null    int64 \n",
      " 5   6 How many times you have made an online purchase in the past 1 year?                                                                                                                                           269 non-null    int64 \n",
      " 6   7 How do you access the internet while shopping on-line?                                                                                                                                                        269 non-null    int64 \n",
      " 7   8 Which device do you use to access the online shopping?                                                                                                                                                        269 non-null    int64 \n",
      " 8   9 What is the screen size of your mobile device?\t\t\t\t\t\t                                                                                                                                                          269 non-null    int64 \n",
      " 9   10 What is the operating system (OS) of your device?\t\t\t\t                                                                                                                                                        269 non-null    int64 \n",
      " 10  11 What browser do you run on your device to access the website?\t\t\t                                                                                                                                             269 non-null    int64 \n",
      " 11  12 Which channel did you follow to arrive at your favorite online store for the first time?                                                                                                                     269 non-null    int64 \n",
      " 12  13 After first visit, how do you reach the online retail store?\t\t\t\t                                                                                                                                             269 non-null    int64 \n",
      " 13  14 How much time do you explore the e- retail store before making a purchase decision?                                                                                                                          269 non-null    int64 \n",
      " 14  15 What is your preferred payment Option?\t\t\t\t\t                                                                                                                                                                  269 non-null    int64 \n",
      " 15  16 How 4 do you abandon (selecting an items and leaving without making payment) your shopping cart?\t\t\t\t\t\t\t                                                                                                      269 non-null    int64 \n",
      " 16  17 Why did you abandon the �Bag�, �Shopping Cart�?\t\t\t\t\t                                                                                                                                                         269 non-null    int64 \n",
      " 17  18 The content on the website must be easy to read and understand                                                                                                                                               269 non-null    int64 \n",
      " 18  19 Information on similar product to the one highlighted  is important for product comparison                                                                                                                   269 non-null    int64 \n",
      " 19  20 Complete information on listed seller and product being offered is important for purchase decision.                                                                                                          269 non-null    int64 \n",
      " 20  21 All relevant information on listed products must be stated clearly                                                                                                                                           269 non-null    int64 \n",
      " 21  22 Ease of navigation in website                                                                                                                                                                                269 non-null    int64 \n",
      " 22  23 Loading and processing speed                                                                                                                                                                                 269 non-null    int64 \n",
      " 23  24 User friendly Interface of the website                                                                                                                                                                       269 non-null    int64 \n",
      " 24  25 Convenient Payment methods                                                                                                                                                                                   269 non-null    int64 \n",
      " 25  26 Trust that the online retail store will fulfill its part of the transaction at the stipulated time                                                                                                           269 non-null    int64 \n",
      " 26  27 Empathy (readiness to assist with queries) towards the customers                                                                                                                                             269 non-null    int64 \n",
      " 27  28 Being able to guarantee the privacy of the customer                                                                                                                                                          269 non-null    int64 \n",
      " 28  29 Responsiveness, availability of several communication channels (email, online rep, twitter, phone etc.)                                                                                                      269 non-null    int64 \n",
      " 29  30 Online shopping gives monetary benefit and discounts                                                                                                                                                         269 non-null    int64 \n",
      " 30  31 Enjoyment is derived from shopping online                                                                                                                                                                    269 non-null    int64 \n",
      " 31  32 Shopping online is convenient and flexible                                                                                                                                                                   269 non-null    int64 \n",
      " 32  33 Return and replacement policy of the e-tailer is important for purchase decision                                                                                                                             269 non-null    int64 \n",
      " 33  34 Gaining access to loyalty programs is a benefit of shopping online                                                                                                                                           269 non-null    int64 \n",
      " 34  35 Displaying quality Information on the website improves satisfaction of customers                                                                                                                             269 non-null    int64 \n",
      " 35  36 User derive satisfaction while shopping on a good quality website or application                                                                                                                             269 non-null    int64 \n",
      " 36  37 Net Benefit derived from shopping online can lead to users satisfaction                                                                                                                                      269 non-null    int64 \n",
      " 37  38 User satisfaction cannot exist without trust                                                                                                                                                                 269 non-null    int64 \n",
      " 38  39 Offering a wide variety of listed product in several category                                                                                                                                                269 non-null    int64 \n",
      " 39  40 Provision of complete and relevant product information                                                                                                                                                       269 non-null    int64 \n",
      " 40  41 Monetary savings                                                                                                                                                                                             269 non-null    int64 \n",
      " 41  42 The Convenience of patronizing the online retailer                                                                                                                                                           269 non-null    int64 \n",
      " 42  43 Shopping on the website gives you the sense of adventure                                                                                                                                                     269 non-null    int64 \n",
      " 43  44 Shopping on your preferred e-tailer enhances your social status                                                                                                                                              269 non-null    int64 \n",
      " 44  45 You feel gratification shopping on your favorite e-tailer                                                                                                                                                    269 non-null    int64 \n",
      " 45  46 Shopping on the website helps you fulfill certain roles                                                                                                                                                      269 non-null    int64 \n",
      " 46  47 Getting value for money spent                                                                                                                                                                                269 non-null    int64 \n",
      " 47  From the following, tick any (or all) of the online retailers you have shopped from;                                                                                                                            269 non-null    object\n",
      " 48  Easy to use website or application                                                                                                                                                                              269 non-null    object\n",
      " 49  Visual appealing web-page layout                                                                                                                                                                                269 non-null    object\n",
      " 50  Wild variety of product on offer                                                                                                                                                                                269 non-null    object\n",
      " 51  Complete, relevant description information of products                                                                                                                                                          269 non-null    object\n",
      " 52  Fast loading website speed of website and application                                                                                                                                                           269 non-null    object\n",
      " 53  Reliability of the website or application                                                                                                                                                                       269 non-null    object\n",
      " 54  Quickness to complete purchase                                                                                                                                                                                  269 non-null    object\n",
      " 55  Availability of several payment options                                                                                                                                                                         269 non-null    object\n",
      " 56  Speedy order delivery                                                                                                                                                                                           269 non-null    object\n",
      " 57  Privacy of customers� information                                                                                                                                                                               269 non-null    object\n",
      " 58  Security of customer financial information                                                                                                                                                                      269 non-null    object\n",
      " 59  Perceived Trustworthiness                                                                                                                                                                                       269 non-null    object\n",
      " 60  Presence of online assistance through multi-channel                                                                                                                                                             269 non-null    object\n",
      " 61  Longer time to get logged in (promotion, sales period)                                                                                                                                                          269 non-null    object\n",
      " 62  Longer time in displaying graphics and photos (promotion, sales period)                                                                                                                                         269 non-null    object\n",
      " 63  Late declaration of price (promotion, sales period)                                                                                                                                                             269 non-null    object\n",
      " 64  Longer page loading time (promotion, sales period)                                                                                                                                                              269 non-null    object\n",
      " 65  Limited mode of payment on most products (promotion, sales period)                                                                                                                                              269 non-null    object\n",
      " 66  Longer delivery period                                                                                                                                                                                          269 non-null    object\n",
      " 67  Change in website/Application design                                                                                                                                                                            269 non-null    object\n",
      " 68  Frequent disruption when moving from one page to another                                                                                                                                                        269 non-null    object\n",
      " 69  Website is as efficient as before                                                                                                                                                                               269 non-null    object\n",
      " 70  Which of the Indian online retailer would you recommend to a friend?                                                                                                                                            269 non-null    object\n",
      "dtypes: int64(46), object(25)\n",
      "memory usage: 149.3+ KB\n"
     ]
    }
   ],
   "source": [
    "df.info()"
   ]
  },
  {
   "cell_type": "code",
   "execution_count": 7,
   "id": "3657fdbb",
   "metadata": {},
   "outputs": [
    {
     "data": {
      "text/plain": [
       "<AxesSubplot:>"
      ]
     },
     "execution_count": 7,
     "metadata": {},
     "output_type": "execute_result"
    },
    {
     "data": {
      "image/png": "[encoded data removed]",
      "text/plain": [
       "<Figure size 432x288 with 2 Axes>"
      ]
     },
     "metadata": {
      "needs_background": "light"
     },
     "output_type": "display_data"
    }
   ],
   "source": [
    "sns.heatmap(df.isnull(), cmap = 'viridis')"
   ]
  },
  {
   "cell_type": "markdown",
   "id": "6befec4c",
   "metadata": {},
   "source": [
    "Observation: Here, we can see there is no null values present through heatmap visulization process."
   ]
  },
  {
   "cell_type": "markdown",
   "id": "9cc81b4d",
   "metadata": {},
   "source": [
    "# Use the Label Encoder for converting object type columns:"
   ]
  },
  {
   "cell_type": "code",
   "execution_count": 8,
   "id": "380f0e6e",
   "metadata": {},
   "outputs": [],
   "source": [
    "from sklearn.preprocessing import LabelEncoder\n",
    "le = LabelEncoder()"
   ]
  },
  {
   "cell_type": "markdown",
   "id": "a54171ac",
   "metadata": {},
   "source": [
    "Observation: Here, we import Label Encoder from sklearn to convert object data type into integer."
   ]
  },
  {
   "cell_type": "code",
   "execution_count": 9,
   "id": "865dd141",
   "metadata": {},
   "outputs": [
    {
     "data": {
      "text/html": [
       "<div>\n",
       "<style scoped>\n",
       "    .dataframe tbody tr th:only-of-type {\n",
       "        vertical-align: middle;\n",
       "    }\n",
       "\n",
       "    .dataframe tbody tr th {\n",
       "        vertical-align: top;\n",
       "    }\n",
       "\n",
       "    .dataframe thead th {\n",
       "        text-align: right;\n",
       "    }\n",
       "</style>\n",
       "<table border=\"1\" class=\"dataframe\">\n",
       "  <thead>\n",
       "    <tr style=\"text-align: right;\">\n",
       "      <th></th>\n",
       "      <th>1Gender of respondent</th>\n",
       "      <th>2 How old are you?</th>\n",
       "      <th>3 Which city do you shop online from?</th>\n",
       "      <th>4 What is the Pin Code of where you shop online from?</th>\n",
       "      <th>5 Since How Long You are Shopping Online ?</th>\n",
       "      <th>6 How many times you have made an online purchase in the past 1 year?</th>\n",
       "      <th>7 How do you access the internet while shopping on-line?</th>\n",
       "      <th>8 Which device do you use to access the online shopping?</th>\n",
       "      <th>9 What is the screen size of your mobile device?\\t\\t\\t\\t\\t\\t</th>\n",
       "      <th>10 What is the operating system (OS) of your device?\\t\\t\\t\\t</th>\n",
       "      <th>...</th>\n",
       "      <th>Longer time to get logged in (promotion, sales period)</th>\n",
       "      <th>Longer time in displaying graphics and photos (promotion, sales period)</th>\n",
       "      <th>Late declaration of price (promotion, sales period)</th>\n",
       "      <th>Longer page loading time (promotion, sales period)</th>\n",
       "      <th>Limited mode of payment on most products (promotion, sales period)</th>\n",
       "      <th>Longer delivery period</th>\n",
       "      <th>Change in website/Application design</th>\n",
       "      <th>Frequent disruption when moving from one page to another</th>\n",
       "      <th>Website is as efficient as before</th>\n",
       "      <th>Which of the Indian online retailer would you recommend to a friend?</th>\n",
       "    </tr>\n",
       "  </thead>\n",
       "  <tbody>\n",
       "    <tr>\n",
       "      <th>0</th>\n",
       "      <td>0</td>\n",
       "      <td>3</td>\n",
       "      <td>2</td>\n",
       "      <td>110009</td>\n",
       "      <td>5</td>\n",
       "      <td>4</td>\n",
       "      <td>4</td>\n",
       "      <td>3</td>\n",
       "      <td>5</td>\n",
       "      <td>1</td>\n",
       "      <td>...</td>\n",
       "      <td>0</td>\n",
       "      <td>0</td>\n",
       "      <td>3</td>\n",
       "      <td>5</td>\n",
       "      <td>0</td>\n",
       "      <td>3</td>\n",
       "      <td>2</td>\n",
       "      <td>0</td>\n",
       "      <td>0</td>\n",
       "      <td>6</td>\n",
       "    </tr>\n",
       "    <tr>\n",
       "      <th>1</th>\n",
       "      <td>1</td>\n",
       "      <td>2</td>\n",
       "      <td>2</td>\n",
       "      <td>110030</td>\n",
       "      <td>5</td>\n",
       "      <td>5</td>\n",
       "      <td>2</td>\n",
       "      <td>1</td>\n",
       "      <td>2</td>\n",
       "      <td>3</td>\n",
       "      <td>...</td>\n",
       "      <td>1</td>\n",
       "      <td>6</td>\n",
       "      <td>7</td>\n",
       "      <td>10</td>\n",
       "      <td>7</td>\n",
       "      <td>5</td>\n",
       "      <td>0</td>\n",
       "      <td>4</td>\n",
       "      <td>1</td>\n",
       "      <td>3</td>\n",
       "    </tr>\n",
       "    <tr>\n",
       "      <th>2</th>\n",
       "      <td>1</td>\n",
       "      <td>2</td>\n",
       "      <td>4</td>\n",
       "      <td>201308</td>\n",
       "      <td>4</td>\n",
       "      <td>5</td>\n",
       "      <td>3</td>\n",
       "      <td>1</td>\n",
       "      <td>4</td>\n",
       "      <td>2</td>\n",
       "      <td>...</td>\n",
       "      <td>7</td>\n",
       "      <td>6</td>\n",
       "      <td>4</td>\n",
       "      <td>7</td>\n",
       "      <td>0</td>\n",
       "      <td>3</td>\n",
       "      <td>5</td>\n",
       "      <td>6</td>\n",
       "      <td>0</td>\n",
       "      <td>5</td>\n",
       "    </tr>\n",
       "    <tr>\n",
       "      <th>3</th>\n",
       "      <td>0</td>\n",
       "      <td>2</td>\n",
       "      <td>6</td>\n",
       "      <td>132001</td>\n",
       "      <td>4</td>\n",
       "      <td>1</td>\n",
       "      <td>3</td>\n",
       "      <td>1</td>\n",
       "      <td>4</td>\n",
       "      <td>3</td>\n",
       "      <td>...</td>\n",
       "      <td>9</td>\n",
       "      <td>7</td>\n",
       "      <td>4</td>\n",
       "      <td>8</td>\n",
       "      <td>5</td>\n",
       "      <td>3</td>\n",
       "      <td>1</td>\n",
       "      <td>1</td>\n",
       "      <td>2</td>\n",
       "      <td>1</td>\n",
       "    </tr>\n",
       "    <tr>\n",
       "      <th>4</th>\n",
       "      <td>1</td>\n",
       "      <td>2</td>\n",
       "      <td>0</td>\n",
       "      <td>530068</td>\n",
       "      <td>3</td>\n",
       "      <td>2</td>\n",
       "      <td>2</td>\n",
       "      <td>1</td>\n",
       "      <td>2</td>\n",
       "      <td>3</td>\n",
       "      <td>...</td>\n",
       "      <td>5</td>\n",
       "      <td>8</td>\n",
       "      <td>5</td>\n",
       "      <td>8</td>\n",
       "      <td>7</td>\n",
       "      <td>3</td>\n",
       "      <td>0</td>\n",
       "      <td>7</td>\n",
       "      <td>6</td>\n",
       "      <td>3</td>\n",
       "    </tr>\n",
       "  </tbody>\n",
       "</table>\n",
       "<p>5 rows × 71 columns</p>\n",
       "</div>"
      ],
      "text/plain": [
       "   1Gender of respondent  2 How old are you?   \\\n",
       "0                      0                    3   \n",
       "1                      1                    2   \n",
       "2                      1                    2   \n",
       "3                      0                    2   \n",
       "4                      1                    2   \n",
       "\n",
       "   3 Which city do you shop online from?  \\\n",
       "0                                      2   \n",
       "1                                      2   \n",
       "2                                      4   \n",
       "3                                      6   \n",
       "4                                      0   \n",
       "\n",
       "   4 What is the Pin Code of where you shop online from?  \\\n",
       "0                                             110009       \n",
       "1                                             110030       \n",
       "2                                             201308       \n",
       "3                                             132001       \n",
       "4                                             530068       \n",
       "\n",
       "   5 Since How Long You are Shopping Online ?  \\\n",
       "0                                           5   \n",
       "1                                           5   \n",
       "2                                           4   \n",
       "3                                           4   \n",
       "4                                           3   \n",
       "\n",
       "   6 How many times you have made an online purchase in the past 1 year?  \\\n",
       "0                                                  4                       \n",
       "1                                                  5                       \n",
       "2                                                  5                       \n",
       "3                                                  1                       \n",
       "4                                                  2                       \n",
       "\n",
       "   7 How do you access the internet while shopping on-line?  \\\n",
       "0                                                  4          \n",
       "1                                                  2          \n",
       "2                                                  3          \n",
       "3                                                  3          \n",
       "4                                                  2          \n",
       "\n",
       "   8 Which device do you use to access the online shopping?  \\\n",
       "0                                                  3          \n",
       "1                                                  1          \n",
       "2                                                  1          \n",
       "3                                                  1          \n",
       "4                                                  1          \n",
       "\n",
       "   9 What is the screen size of your mobile device?\\t\\t\\t\\t\\t\\t                                          \\\n",
       "0                                                  5                                                      \n",
       "1                                                  2                                                      \n",
       "2                                                  4                                                      \n",
       "3                                                  4                                                      \n",
       "4                                                  2                                                      \n",
       "\n",
       "   10 What is the operating system (OS) of your device?\\t\\t\\t\\t                                            \\\n",
       "0                                                  1                                                        \n",
       "1                                                  3                                                        \n",
       "2                                                  2                                                        \n",
       "3                                                  3                                                        \n",
       "4                                                  3                                                        \n",
       "\n",
       "   ...  Longer time to get logged in (promotion, sales period)  \\\n",
       "0  ...                                                  0        \n",
       "1  ...                                                  1        \n",
       "2  ...                                                  7        \n",
       "3  ...                                                  9        \n",
       "4  ...                                                  5        \n",
       "\n",
       "   Longer time in displaying graphics and photos (promotion, sales period)  \\\n",
       "0                                                  0                         \n",
       "1                                                  6                         \n",
       "2                                                  6                         \n",
       "3                                                  7                         \n",
       "4                                                  8                         \n",
       "\n",
       "   Late declaration of price (promotion, sales period)  \\\n",
       "0                                                  3     \n",
       "1                                                  7     \n",
       "2                                                  4     \n",
       "3                                                  4     \n",
       "4                                                  5     \n",
       "\n",
       "   Longer page loading time (promotion, sales period)  \\\n",
       "0                                                  5    \n",
       "1                                                 10    \n",
       "2                                                  7    \n",
       "3                                                  8    \n",
       "4                                                  8    \n",
       "\n",
       "   Limited mode of payment on most products (promotion, sales period)  \\\n",
       "0                                                  0                    \n",
       "1                                                  7                    \n",
       "2                                                  0                    \n",
       "3                                                  5                    \n",
       "4                                                  7                    \n",
       "\n",
       "   Longer delivery period  Change in website/Application design  \\\n",
       "0                       3                                     2   \n",
       "1                       5                                     0   \n",
       "2                       3                                     5   \n",
       "3                       3                                     1   \n",
       "4                       3                                     0   \n",
       "\n",
       "   Frequent disruption when moving from one page to another  \\\n",
       "0                                                  0          \n",
       "1                                                  4          \n",
       "2                                                  6          \n",
       "3                                                  1          \n",
       "4                                                  7          \n",
       "\n",
       "   Website is as efficient as before  \\\n",
       "0                                  0   \n",
       "1                                  1   \n",
       "2                                  0   \n",
       "3                                  2   \n",
       "4                                  6   \n",
       "\n",
       "   Which of the Indian online retailer would you recommend to a friend?  \n",
       "0                                                  6                     \n",
       "1                                                  3                     \n",
       "2                                                  5                     \n",
       "3                                                  1                     \n",
       "4                                                  3                     \n",
       "\n",
       "[5 rows x 71 columns]"
      ]
     },
     "execution_count": 9,
     "metadata": {},
     "output_type": "execute_result"
    }
   ],
   "source": [
    "for i in df.columns:\n",
    "    if df[i].dtypes == 'object':\n",
    "        df[i] = le.fit_transform(df[i].values.reshape(-1, 1))\n",
    "df.head()"
   ]
  },
  {
   "cell_type": "markdown",
   "id": "5b443c00",
   "metadata": {},
   "source": [
    "Observation: Here, we can see all the object data convert into integer one."
   ]
  },
  {
   "cell_type": "code",
   "execution_count": 10,
   "id": "93acb2d7",
   "metadata": {},
   "outputs": [
    {
     "name": "stdout",
     "output_type": "stream",
     "text": [
      "<class 'pandas.core.frame.DataFrame'>\n",
      "RangeIndex: 269 entries, 0 to 268\n",
      "Data columns (total 71 columns):\n",
      " #   Column                                                                                                                                                                                                          Non-Null Count  Dtype\n",
      "---  ------                                                                                                                                                                                                          --------------  -----\n",
      " 0   1Gender of respondent                                                                                                                                                                                           269 non-null    int64\n",
      " 1   2 How old are you?                                                                                                                                                                                              269 non-null    int64\n",
      " 2   3 Which city do you shop online from?                                                                                                                                                                           269 non-null    int32\n",
      " 3   4 What is the Pin Code of where you shop online from?                                                                                                                                                           269 non-null    int64\n",
      " 4   5 Since How Long You are Shopping Online ?                                                                                                                                                                      269 non-null    int64\n",
      " 5   6 How many times you have made an online purchase in the past 1 year?                                                                                                                                           269 non-null    int64\n",
      " 6   7 How do you access the internet while shopping on-line?                                                                                                                                                        269 non-null    int64\n",
      " 7   8 Which device do you use to access the online shopping?                                                                                                                                                        269 non-null    int64\n",
      " 8   9 What is the screen size of your mobile device?\t\t\t\t\t\t                                                                                                                                                          269 non-null    int64\n",
      " 9   10 What is the operating system (OS) of your device?\t\t\t\t                                                                                                                                                        269 non-null    int64\n",
      " 10  11 What browser do you run on your device to access the website?\t\t\t                                                                                                                                             269 non-null    int64\n",
      " 11  12 Which channel did you follow to arrive at your favorite online store for the first time?                                                                                                                     269 non-null    int64\n",
      " 12  13 After first visit, how do you reach the online retail store?\t\t\t\t                                                                                                                                             269 non-null    int64\n",
      " 13  14 How much time do you explore the e- retail store before making a purchase decision?                                                                                                                          269 non-null    int64\n",
      " 14  15 What is your preferred payment Option?\t\t\t\t\t                                                                                                                                                                  269 non-null    int64\n",
      " 15  16 How 4 do you abandon (selecting an items and leaving without making payment) your shopping cart?\t\t\t\t\t\t\t                                                                                                      269 non-null    int64\n",
      " 16  17 Why did you abandon the �Bag�, �Shopping Cart�?\t\t\t\t\t                                                                                                                                                         269 non-null    int64\n",
      " 17  18 The content on the website must be easy to read and understand                                                                                                                                               269 non-null    int64\n",
      " 18  19 Information on similar product to the one highlighted  is important for product comparison                                                                                                                   269 non-null    int64\n",
      " 19  20 Complete information on listed seller and product being offered is important for purchase decision.                                                                                                          269 non-null    int64\n",
      " 20  21 All relevant information on listed products must be stated clearly                                                                                                                                           269 non-null    int64\n",
      " 21  22 Ease of navigation in website                                                                                                                                                                                269 non-null    int64\n",
      " 22  23 Loading and processing speed                                                                                                                                                                                 269 non-null    int64\n",
      " 23  24 User friendly Interface of the website                                                                                                                                                                       269 non-null    int64\n",
      " 24  25 Convenient Payment methods                                                                                                                                                                                   269 non-null    int64\n",
      " 25  26 Trust that the online retail store will fulfill its part of the transaction at the stipulated time                                                                                                           269 non-null    int64\n",
      " 26  27 Empathy (readiness to assist with queries) towards the customers                                                                                                                                             269 non-null    int64\n",
      " 27  28 Being able to guarantee the privacy of the customer                                                                                                                                                          269 non-null    int64\n",
      " 28  29 Responsiveness, availability of several communication channels (email, online rep, twitter, phone etc.)                                                                                                      269 non-null    int64\n",
      " 29  30 Online shopping gives monetary benefit and discounts                                                                                                                                                         269 non-null    int64\n",
      " 30  31 Enjoyment is derived from shopping online                                                                                                                                                                    269 non-null    int64\n",
      " 31  32 Shopping online is convenient and flexible                                                                                                                                                                   269 non-null    int64\n",
      " 32  33 Return and replacement policy of the e-tailer is important for purchase decision                                                                                                                             269 non-null    int64\n",
      " 33  34 Gaining access to loyalty programs is a benefit of shopping online                                                                                                                                           269 non-null    int64\n",
      " 34  35 Displaying quality Information on the website improves satisfaction of customers                                                                                                                             269 non-null    int64\n",
      " 35  36 User derive satisfaction while shopping on a good quality website or application                                                                                                                             269 non-null    int64\n",
      " 36  37 Net Benefit derived from shopping online can lead to users satisfaction                                                                                                                                      269 non-null    int64\n",
      " 37  38 User satisfaction cannot exist without trust                                                                                                                                                                 269 non-null    int64\n",
      " 38  39 Offering a wide variety of listed product in several category                                                                                                                                                269 non-null    int64\n",
      " 39  40 Provision of complete and relevant product information                                                                                                                                                       269 non-null    int64\n",
      " 40  41 Monetary savings                                                                                                                                                                                             269 non-null    int64\n",
      " 41  42 The Convenience of patronizing the online retailer                                                                                                                                                           269 non-null    int64\n",
      " 42  43 Shopping on the website gives you the sense of adventure                                                                                                                                                     269 non-null    int64\n",
      " 43  44 Shopping on your preferred e-tailer enhances your social status                                                                                                                                              269 non-null    int64\n",
      " 44  45 You feel gratification shopping on your favorite e-tailer                                                                                                                                                    269 non-null    int64\n",
      " 45  46 Shopping on the website helps you fulfill certain roles                                                                                                                                                      269 non-null    int64\n",
      " 46  47 Getting value for money spent                                                                                                                                                                                269 non-null    int64\n",
      " 47  From the following, tick any (or all) of the online retailers you have shopped from;                                                                                                                            269 non-null    int32\n",
      " 48  Easy to use website or application                                                                                                                                                                              269 non-null    int32\n",
      " 49  Visual appealing web-page layout                                                                                                                                                                                269 non-null    int32\n",
      " 50  Wild variety of product on offer                                                                                                                                                                                269 non-null    int32\n",
      " 51  Complete, relevant description information of products                                                                                                                                                          269 non-null    int32\n",
      " 52  Fast loading website speed of website and application                                                                                                                                                           269 non-null    int32\n",
      " 53  Reliability of the website or application                                                                                                                                                                       269 non-null    int32\n",
      " 54  Quickness to complete purchase                                                                                                                                                                                  269 non-null    int32\n",
      " 55  Availability of several payment options                                                                                                                                                                         269 non-null    int32\n",
      " 56  Speedy order delivery                                                                                                                                                                                           269 non-null    int32\n",
      " 57  Privacy of customers� information                                                                                                                                                                               269 non-null    int32\n",
      " 58  Security of customer financial information                                                                                                                                                                      269 non-null    int32\n",
      " 59  Perceived Trustworthiness                                                                                                                                                                                       269 non-null    int32\n",
      " 60  Presence of online assistance through multi-channel                                                                                                                                                             269 non-null    int32\n",
      " 61  Longer time to get logged in (promotion, sales period)                                                                                                                                                          269 non-null    int32\n",
      " 62  Longer time in displaying graphics and photos (promotion, sales period)                                                                                                                                         269 non-null    int32\n",
      " 63  Late declaration of price (promotion, sales period)                                                                                                                                                             269 non-null    int32\n",
      " 64  Longer page loading time (promotion, sales period)                                                                                                                                                              269 non-null    int32\n",
      " 65  Limited mode of payment on most products (promotion, sales period)                                                                                                                                              269 non-null    int32\n",
      " 66  Longer delivery period                                                                                                                                                                                          269 non-null    int32\n",
      " 67  Change in website/Application design                                                                                                                                                                            269 non-null    int32\n",
      " 68  Frequent disruption when moving from one page to another                                                                                                                                                        269 non-null    int32\n",
      " 69  Website is as efficient as before                                                                                                                                                                               269 non-null    int32\n",
      " 70  Which of the Indian online retailer would you recommend to a friend?                                                                                                                                            269 non-null    int32\n",
      "dtypes: int32(25), int64(46)\n",
      "memory usage: 123.1 KB\n"
     ]
    }
   ],
   "source": [
    "df.info()"
   ]
  },
  {
   "cell_type": "markdown",
   "id": "ad33239a",
   "metadata": {},
   "source": [
    "Observation: Here, there is no any object type column present in our dataset."
   ]
  },
  {
   "cell_type": "markdown",
   "id": "dced60af",
   "metadata": {},
   "source": [
    "# EDA Processing"
   ]
  },
  {
   "cell_type": "code",
   "execution_count": 11,
   "id": "ab2e0745",
   "metadata": {},
   "outputs": [
    {
     "data": {
      "text/html": [
       "<div>\n",
       "<style scoped>\n",
       "    .dataframe tbody tr th:only-of-type {\n",
       "        vertical-align: middle;\n",
       "    }\n",
       "\n",
       "    .dataframe tbody tr th {\n",
       "        vertical-align: top;\n",
       "    }\n",
       "\n",
       "    .dataframe thead th {\n",
       "        text-align: right;\n",
       "    }\n",
       "</style>\n",
       "<table border=\"1\" class=\"dataframe\">\n",
       "  <thead>\n",
       "    <tr style=\"text-align: right;\">\n",
       "      <th></th>\n",
       "      <th>1Gender of respondent</th>\n",
       "      <th>2 How old are you?</th>\n",
       "      <th>3 Which city do you shop online from?</th>\n",
       "      <th>4 What is the Pin Code of where you shop online from?</th>\n",
       "      <th>5 Since How Long You are Shopping Online ?</th>\n",
       "      <th>6 How many times you have made an online purchase in the past 1 year?</th>\n",
       "      <th>7 How do you access the internet while shopping on-line?</th>\n",
       "      <th>8 Which device do you use to access the online shopping?</th>\n",
       "      <th>9 What is the screen size of your mobile device?\\t\\t\\t\\t\\t\\t</th>\n",
       "      <th>10 What is the operating system (OS) of your device?\\t\\t\\t\\t</th>\n",
       "      <th>...</th>\n",
       "      <th>Longer time to get logged in (promotion, sales period)</th>\n",
       "      <th>Longer time in displaying graphics and photos (promotion, sales period)</th>\n",
       "      <th>Late declaration of price (promotion, sales period)</th>\n",
       "      <th>Longer page loading time (promotion, sales period)</th>\n",
       "      <th>Limited mode of payment on most products (promotion, sales period)</th>\n",
       "      <th>Longer delivery period</th>\n",
       "      <th>Change in website/Application design</th>\n",
       "      <th>Frequent disruption when moving from one page to another</th>\n",
       "      <th>Website is as efficient as before</th>\n",
       "      <th>Which of the Indian online retailer would you recommend to a friend?</th>\n",
       "    </tr>\n",
       "  </thead>\n",
       "  <tbody>\n",
       "    <tr>\n",
       "      <th>count</th>\n",
       "      <td>269.000000</td>\n",
       "      <td>269.000000</td>\n",
       "      <td>269.000000</td>\n",
       "      <td>269.000000</td>\n",
       "      <td>269.000000</td>\n",
       "      <td>269.000000</td>\n",
       "      <td>269.000000</td>\n",
       "      <td>269.000000</td>\n",
       "      <td>269.000000</td>\n",
       "      <td>269.000000</td>\n",
       "      <td>...</td>\n",
       "      <td>269.000000</td>\n",
       "      <td>269.000000</td>\n",
       "      <td>269.000000</td>\n",
       "      <td>269.000000</td>\n",
       "      <td>269.000000</td>\n",
       "      <td>269.000000</td>\n",
       "      <td>269.000000</td>\n",
       "      <td>269.000000</td>\n",
       "      <td>269.000000</td>\n",
       "      <td>269.000000</td>\n",
       "    </tr>\n",
       "    <tr>\n",
       "      <th>mean</th>\n",
       "      <td>0.669145</td>\n",
       "      <td>2.959108</td>\n",
       "      <td>4.494424</td>\n",
       "      <td>220465.747212</td>\n",
       "      <td>3.524164</td>\n",
       "      <td>2.672862</td>\n",
       "      <td>3.260223</td>\n",
       "      <td>1.676580</td>\n",
       "      <td>4.282528</td>\n",
       "      <td>1.776952</td>\n",
       "      <td>...</td>\n",
       "      <td>4.044610</td>\n",
       "      <td>4.063197</td>\n",
       "      <td>3.843866</td>\n",
       "      <td>5.988848</td>\n",
       "      <td>3.717472</td>\n",
       "      <td>2.736059</td>\n",
       "      <td>2.189591</td>\n",
       "      <td>3.587361</td>\n",
       "      <td>2.133829</td>\n",
       "      <td>2.397770</td>\n",
       "    </tr>\n",
       "    <tr>\n",
       "      <th>std</th>\n",
       "      <td>0.471398</td>\n",
       "      <td>1.066012</td>\n",
       "      <td>3.187687</td>\n",
       "      <td>140524.341051</td>\n",
       "      <td>1.436586</td>\n",
       "      <td>1.651788</td>\n",
       "      <td>1.135887</td>\n",
       "      <td>0.843904</td>\n",
       "      <td>0.923426</td>\n",
       "      <td>0.797892</td>\n",
       "      <td>...</td>\n",
       "      <td>3.343218</td>\n",
       "      <td>3.177536</td>\n",
       "      <td>2.103162</td>\n",
       "      <td>2.855321</td>\n",
       "      <td>2.853728</td>\n",
       "      <td>1.725857</td>\n",
       "      <td>2.152169</td>\n",
       "      <td>2.557690</td>\n",
       "      <td>2.171029</td>\n",
       "      <td>2.362991</td>\n",
       "    </tr>\n",
       "    <tr>\n",
       "      <th>min</th>\n",
       "      <td>0.000000</td>\n",
       "      <td>1.000000</td>\n",
       "      <td>0.000000</td>\n",
       "      <td>110008.000000</td>\n",
       "      <td>1.000000</td>\n",
       "      <td>1.000000</td>\n",
       "      <td>2.000000</td>\n",
       "      <td>1.000000</td>\n",
       "      <td>2.000000</td>\n",
       "      <td>1.000000</td>\n",
       "      <td>...</td>\n",
       "      <td>0.000000</td>\n",
       "      <td>0.000000</td>\n",
       "      <td>0.000000</td>\n",
       "      <td>0.000000</td>\n",
       "      <td>0.000000</td>\n",
       "      <td>0.000000</td>\n",
       "      <td>0.000000</td>\n",
       "      <td>0.000000</td>\n",
       "      <td>0.000000</td>\n",
       "      <td>0.000000</td>\n",
       "    </tr>\n",
       "    <tr>\n",
       "      <th>25%</th>\n",
       "      <td>0.000000</td>\n",
       "      <td>2.000000</td>\n",
       "      <td>2.000000</td>\n",
       "      <td>122018.000000</td>\n",
       "      <td>3.000000</td>\n",
       "      <td>1.000000</td>\n",
       "      <td>2.000000</td>\n",
       "      <td>1.000000</td>\n",
       "      <td>4.000000</td>\n",
       "      <td>1.000000</td>\n",
       "      <td>...</td>\n",
       "      <td>1.000000</td>\n",
       "      <td>1.000000</td>\n",
       "      <td>3.000000</td>\n",
       "      <td>4.000000</td>\n",
       "      <td>1.000000</td>\n",
       "      <td>1.000000</td>\n",
       "      <td>0.000000</td>\n",
       "      <td>1.000000</td>\n",
       "      <td>0.000000</td>\n",
       "      <td>0.000000</td>\n",
       "    </tr>\n",
       "    <tr>\n",
       "      <th>50%</th>\n",
       "      <td>1.000000</td>\n",
       "      <td>3.000000</td>\n",
       "      <td>4.000000</td>\n",
       "      <td>201303.000000</td>\n",
       "      <td>4.000000</td>\n",
       "      <td>2.000000</td>\n",
       "      <td>3.000000</td>\n",
       "      <td>1.000000</td>\n",
       "      <td>4.000000</td>\n",
       "      <td>2.000000</td>\n",
       "      <td>...</td>\n",
       "      <td>3.000000</td>\n",
       "      <td>4.000000</td>\n",
       "      <td>4.000000</td>\n",
       "      <td>7.000000</td>\n",
       "      <td>3.000000</td>\n",
       "      <td>3.000000</td>\n",
       "      <td>1.000000</td>\n",
       "      <td>4.000000</td>\n",
       "      <td>1.000000</td>\n",
       "      <td>1.000000</td>\n",
       "    </tr>\n",
       "    <tr>\n",
       "      <th>75%</th>\n",
       "      <td>1.000000</td>\n",
       "      <td>4.000000</td>\n",
       "      <td>7.000000</td>\n",
       "      <td>201310.000000</td>\n",
       "      <td>5.000000</td>\n",
       "      <td>4.000000</td>\n",
       "      <td>5.000000</td>\n",
       "      <td>2.000000</td>\n",
       "      <td>5.000000</td>\n",
       "      <td>2.000000</td>\n",
       "      <td>...</td>\n",
       "      <td>7.000000</td>\n",
       "      <td>7.000000</td>\n",
       "      <td>5.000000</td>\n",
       "      <td>8.000000</td>\n",
       "      <td>7.000000</td>\n",
       "      <td>4.000000</td>\n",
       "      <td>5.000000</td>\n",
       "      <td>6.000000</td>\n",
       "      <td>4.000000</td>\n",
       "      <td>5.000000</td>\n",
       "    </tr>\n",
       "    <tr>\n",
       "      <th>max</th>\n",
       "      <td>1.000000</td>\n",
       "      <td>5.000000</td>\n",
       "      <td>10.000000</td>\n",
       "      <td>560037.000000</td>\n",
       "      <td>5.000000</td>\n",
       "      <td>5.000000</td>\n",
       "      <td>5.000000</td>\n",
       "      <td>4.000000</td>\n",
       "      <td>5.000000</td>\n",
       "      <td>3.000000</td>\n",
       "      <td>...</td>\n",
       "      <td>9.000000</td>\n",
       "      <td>9.000000</td>\n",
       "      <td>7.000000</td>\n",
       "      <td>10.000000</td>\n",
       "      <td>7.000000</td>\n",
       "      <td>5.000000</td>\n",
       "      <td>6.000000</td>\n",
       "      <td>7.000000</td>\n",
       "      <td>7.000000</td>\n",
       "      <td>7.000000</td>\n",
       "    </tr>\n",
       "  </tbody>\n",
       "</table>\n",
       "<p>8 rows × 71 columns</p>\n",
       "</div>"
      ],
      "text/plain": [
       "       1Gender of respondent  2 How old are you?   \\\n",
       "count             269.000000           269.000000   \n",
       "mean                0.669145             2.959108   \n",
       "std                 0.471398             1.066012   \n",
       "min                 0.000000             1.000000   \n",
       "25%                 0.000000             2.000000   \n",
       "50%                 1.000000             3.000000   \n",
       "75%                 1.000000             4.000000   \n",
       "max                 1.000000             5.000000   \n",
       "\n",
       "       3 Which city do you shop online from?  \\\n",
       "count                             269.000000   \n",
       "mean                                4.494424   \n",
       "std                                 3.187687   \n",
       "min                                 0.000000   \n",
       "25%                                 2.000000   \n",
       "50%                                 4.000000   \n",
       "75%                                 7.000000   \n",
       "max                                10.000000   \n",
       "\n",
       "       4 What is the Pin Code of where you shop online from?  \\\n",
       "count                                         269.000000       \n",
       "mean                                       220465.747212       \n",
       "std                                        140524.341051       \n",
       "min                                        110008.000000       \n",
       "25%                                        122018.000000       \n",
       "50%                                        201303.000000       \n",
       "75%                                        201310.000000       \n",
       "max                                        560037.000000       \n",
       "\n",
       "       5 Since How Long You are Shopping Online ?  \\\n",
       "count                                  269.000000   \n",
       "mean                                     3.524164   \n",
       "std                                      1.436586   \n",
       "min                                      1.000000   \n",
       "25%                                      3.000000   \n",
       "50%                                      4.000000   \n",
       "75%                                      5.000000   \n",
       "max                                      5.000000   \n",
       "\n",
       "       6 How many times you have made an online purchase in the past 1 year?  \\\n",
       "count                                         269.000000                       \n",
       "mean                                            2.672862                       \n",
       "std                                             1.651788                       \n",
       "min                                             1.000000                       \n",
       "25%                                             1.000000                       \n",
       "50%                                             2.000000                       \n",
       "75%                                             4.000000                       \n",
       "max                                             5.000000                       \n",
       "\n",
       "       7 How do you access the internet while shopping on-line?  \\\n",
       "count                                         269.000000          \n",
       "mean                                            3.260223          \n",
       "std                                             1.135887          \n",
       "min                                             2.000000          \n",
       "25%                                             2.000000          \n",
       "50%                                             3.000000          \n",
       "75%                                             5.000000          \n",
       "max                                             5.000000          \n",
       "\n",
       "       8 Which device do you use to access the online shopping?  \\\n",
       "count                                         269.000000          \n",
       "mean                                            1.676580          \n",
       "std                                             0.843904          \n",
       "min                                             1.000000          \n",
       "25%                                             1.000000          \n",
       "50%                                             1.000000          \n",
       "75%                                             2.000000          \n",
       "max                                             4.000000          \n",
       "\n",
       "       9 What is the screen size of your mobile device?\\t\\t\\t\\t\\t\\t                                          \\\n",
       "count                                         269.000000                                                      \n",
       "mean                                            4.282528                                                      \n",
       "std                                             0.923426                                                      \n",
       "min                                             2.000000                                                      \n",
       "25%                                             4.000000                                                      \n",
       "50%                                             4.000000                                                      \n",
       "75%                                             5.000000                                                      \n",
       "max                                             5.000000                                                      \n",
       "\n",
       "       10 What is the operating system (OS) of your device?\\t\\t\\t\\t                                            \\\n",
       "count                                         269.000000                                                        \n",
       "mean                                            1.776952                                                        \n",
       "std                                             0.797892                                                        \n",
       "min                                             1.000000                                                        \n",
       "25%                                             1.000000                                                        \n",
       "50%                                             2.000000                                                        \n",
       "75%                                             2.000000                                                        \n",
       "max                                             3.000000                                                        \n",
       "\n",
       "       ...  Longer time to get logged in (promotion, sales period)  \\\n",
       "count  ...                                         269.000000        \n",
       "mean   ...                                           4.044610        \n",
       "std    ...                                           3.343218        \n",
       "min    ...                                           0.000000        \n",
       "25%    ...                                           1.000000        \n",
       "50%    ...                                           3.000000        \n",
       "75%    ...                                           7.000000        \n",
       "max    ...                                           9.000000        \n",
       "\n",
       "       Longer time in displaying graphics and photos (promotion, sales period)  \\\n",
       "count                                         269.000000                         \n",
       "mean                                            4.063197                         \n",
       "std                                             3.177536                         \n",
       "min                                             0.000000                         \n",
       "25%                                             1.000000                         \n",
       "50%                                             4.000000                         \n",
       "75%                                             7.000000                         \n",
       "max                                             9.000000                         \n",
       "\n",
       "       Late declaration of price (promotion, sales period)  \\\n",
       "count                                         269.000000     \n",
       "mean                                            3.843866     \n",
       "std                                             2.103162     \n",
       "min                                             0.000000     \n",
       "25%                                             3.000000     \n",
       "50%                                             4.000000     \n",
       "75%                                             5.000000     \n",
       "max                                             7.000000     \n",
       "\n",
       "       Longer page loading time (promotion, sales period)  \\\n",
       "count                                         269.000000    \n",
       "mean                                            5.988848    \n",
       "std                                             2.855321    \n",
       "min                                             0.000000    \n",
       "25%                                             4.000000    \n",
       "50%                                             7.000000    \n",
       "75%                                             8.000000    \n",
       "max                                            10.000000    \n",
       "\n",
       "       Limited mode of payment on most products (promotion, sales period)  \\\n",
       "count                                         269.000000                    \n",
       "mean                                            3.717472                    \n",
       "std                                             2.853728                    \n",
       "min                                             0.000000                    \n",
       "25%                                             1.000000                    \n",
       "50%                                             3.000000                    \n",
       "75%                                             7.000000                    \n",
       "max                                             7.000000                    \n",
       "\n",
       "       Longer delivery period  Change in website/Application design  \\\n",
       "count              269.000000                            269.000000   \n",
       "mean                 2.736059                              2.189591   \n",
       "std                  1.725857                              2.152169   \n",
       "min                  0.000000                              0.000000   \n",
       "25%                  1.000000                              0.000000   \n",
       "50%                  3.000000                              1.000000   \n",
       "75%                  4.000000                              5.000000   \n",
       "max                  5.000000                              6.000000   \n",
       "\n",
       "       Frequent disruption when moving from one page to another  \\\n",
       "count                                         269.000000          \n",
       "mean                                            3.587361          \n",
       "std                                             2.557690          \n",
       "min                                             0.000000          \n",
       "25%                                             1.000000          \n",
       "50%                                             4.000000          \n",
       "75%                                             6.000000          \n",
       "max                                             7.000000          \n",
       "\n",
       "       Website is as efficient as before  \\\n",
       "count                         269.000000   \n",
       "mean                            2.133829   \n",
       "std                             2.171029   \n",
       "min                             0.000000   \n",
       "25%                             0.000000   \n",
       "50%                             1.000000   \n",
       "75%                             4.000000   \n",
       "max                             7.000000   \n",
       "\n",
       "       Which of the Indian online retailer would you recommend to a friend?  \n",
       "count                                         269.000000                     \n",
       "mean                                            2.397770                     \n",
       "std                                             2.362991                     \n",
       "min                                             0.000000                     \n",
       "25%                                             0.000000                     \n",
       "50%                                             1.000000                     \n",
       "75%                                             5.000000                     \n",
       "max                                             7.000000                     \n",
       "\n",
       "[8 rows x 71 columns]"
      ]
     },
     "execution_count": 11,
     "metadata": {},
     "output_type": "execute_result"
    }
   ],
   "source": [
    "df.describe()"
   ]
  },
  {
   "cell_type": "markdown",
   "id": "1852a714",
   "metadata": {},
   "source": [
    "Observation: \n",
    "Describe method shows us the total count value, mean, standard deviation, minimum value, maximum value, median, 25% and 75% of data of each columns.\n",
    "Standard deviation shows spread of data.\n",
    "50% is showing the median of data.\n",
    "The gap between maximum and 75% is shows us skewness of column. If it is higher then that column, has skewness else no skewnes is present.\n",
    "Here, we can see city name and pin code have skewness."
   ]
  },
  {
   "cell_type": "markdown",
   "id": "ddfffad5",
   "metadata": {},
   "source": [
    "# Data Cleaning Process"
   ]
  },
  {
   "cell_type": "code",
   "execution_count": 12,
   "id": "b6edc1d8",
   "metadata": {},
   "outputs": [],
   "source": [
    "df.drop(df.columns[[2,3]], axis = 1, inplace = True)"
   ]
  },
  {
   "cell_type": "code",
   "execution_count": 13,
   "id": "9bebd50a",
   "metadata": {},
   "outputs": [
    {
     "data": {
      "text/html": [
       "<div>\n",
       "<style scoped>\n",
       "    .dataframe tbody tr th:only-of-type {\n",
       "        vertical-align: middle;\n",
       "    }\n",
       "\n",
       "    .dataframe tbody tr th {\n",
       "        vertical-align: top;\n",
       "    }\n",
       "\n",
       "    .dataframe thead th {\n",
       "        text-align: right;\n",
       "    }\n",
       "</style>\n",
       "<table border=\"1\" class=\"dataframe\">\n",
       "  <thead>\n",
       "    <tr style=\"text-align: right;\">\n",
       "      <th></th>\n",
       "      <th>1Gender of respondent</th>\n",
       "      <th>2 How old are you?</th>\n",
       "      <th>5 Since How Long You are Shopping Online ?</th>\n",
       "      <th>6 How many times you have made an online purchase in the past 1 year?</th>\n",
       "      <th>7 How do you access the internet while shopping on-line?</th>\n",
       "      <th>8 Which device do you use to access the online shopping?</th>\n",
       "      <th>9 What is the screen size of your mobile device?\\t\\t\\t\\t\\t\\t</th>\n",
       "      <th>10 What is the operating system (OS) of your device?\\t\\t\\t\\t</th>\n",
       "      <th>11 What browser do you run on your device to access the website?\\t\\t\\t</th>\n",
       "      <th>12 Which channel did you follow to arrive at your favorite online store for the first time?</th>\n",
       "      <th>...</th>\n",
       "      <th>Longer time to get logged in (promotion, sales period)</th>\n",
       "      <th>Longer time in displaying graphics and photos (promotion, sales period)</th>\n",
       "      <th>Late declaration of price (promotion, sales period)</th>\n",
       "      <th>Longer page loading time (promotion, sales period)</th>\n",
       "      <th>Limited mode of payment on most products (promotion, sales period)</th>\n",
       "      <th>Longer delivery period</th>\n",
       "      <th>Change in website/Application design</th>\n",
       "      <th>Frequent disruption when moving from one page to another</th>\n",
       "      <th>Website is as efficient as before</th>\n",
       "      <th>Which of the Indian online retailer would you recommend to a friend?</th>\n",
       "    </tr>\n",
       "  </thead>\n",
       "  <tbody>\n",
       "    <tr>\n",
       "      <th>0</th>\n",
       "      <td>0</td>\n",
       "      <td>3</td>\n",
       "      <td>5</td>\n",
       "      <td>4</td>\n",
       "      <td>4</td>\n",
       "      <td>3</td>\n",
       "      <td>5</td>\n",
       "      <td>1</td>\n",
       "      <td>1</td>\n",
       "      <td>1</td>\n",
       "      <td>...</td>\n",
       "      <td>0</td>\n",
       "      <td>0</td>\n",
       "      <td>3</td>\n",
       "      <td>5</td>\n",
       "      <td>0</td>\n",
       "      <td>3</td>\n",
       "      <td>2</td>\n",
       "      <td>0</td>\n",
       "      <td>0</td>\n",
       "      <td>6</td>\n",
       "    </tr>\n",
       "    <tr>\n",
       "      <th>1</th>\n",
       "      <td>1</td>\n",
       "      <td>2</td>\n",
       "      <td>5</td>\n",
       "      <td>5</td>\n",
       "      <td>2</td>\n",
       "      <td>1</td>\n",
       "      <td>2</td>\n",
       "      <td>3</td>\n",
       "      <td>1</td>\n",
       "      <td>1</td>\n",
       "      <td>...</td>\n",
       "      <td>1</td>\n",
       "      <td>6</td>\n",
       "      <td>7</td>\n",
       "      <td>10</td>\n",
       "      <td>7</td>\n",
       "      <td>5</td>\n",
       "      <td>0</td>\n",
       "      <td>4</td>\n",
       "      <td>1</td>\n",
       "      <td>3</td>\n",
       "    </tr>\n",
       "    <tr>\n",
       "      <th>2</th>\n",
       "      <td>1</td>\n",
       "      <td>2</td>\n",
       "      <td>4</td>\n",
       "      <td>5</td>\n",
       "      <td>3</td>\n",
       "      <td>1</td>\n",
       "      <td>4</td>\n",
       "      <td>2</td>\n",
       "      <td>1</td>\n",
       "      <td>1</td>\n",
       "      <td>...</td>\n",
       "      <td>7</td>\n",
       "      <td>6</td>\n",
       "      <td>4</td>\n",
       "      <td>7</td>\n",
       "      <td>0</td>\n",
       "      <td>3</td>\n",
       "      <td>5</td>\n",
       "      <td>6</td>\n",
       "      <td>0</td>\n",
       "      <td>5</td>\n",
       "    </tr>\n",
       "    <tr>\n",
       "      <th>3</th>\n",
       "      <td>0</td>\n",
       "      <td>2</td>\n",
       "      <td>4</td>\n",
       "      <td>1</td>\n",
       "      <td>3</td>\n",
       "      <td>1</td>\n",
       "      <td>4</td>\n",
       "      <td>3</td>\n",
       "      <td>2</td>\n",
       "      <td>1</td>\n",
       "      <td>...</td>\n",
       "      <td>9</td>\n",
       "      <td>7</td>\n",
       "      <td>4</td>\n",
       "      <td>8</td>\n",
       "      <td>5</td>\n",
       "      <td>3</td>\n",
       "      <td>1</td>\n",
       "      <td>1</td>\n",
       "      <td>2</td>\n",
       "      <td>1</td>\n",
       "    </tr>\n",
       "    <tr>\n",
       "      <th>4</th>\n",
       "      <td>1</td>\n",
       "      <td>2</td>\n",
       "      <td>3</td>\n",
       "      <td>2</td>\n",
       "      <td>2</td>\n",
       "      <td>1</td>\n",
       "      <td>2</td>\n",
       "      <td>3</td>\n",
       "      <td>2</td>\n",
       "      <td>3</td>\n",
       "      <td>...</td>\n",
       "      <td>5</td>\n",
       "      <td>8</td>\n",
       "      <td>5</td>\n",
       "      <td>8</td>\n",
       "      <td>7</td>\n",
       "      <td>3</td>\n",
       "      <td>0</td>\n",
       "      <td>7</td>\n",
       "      <td>6</td>\n",
       "      <td>3</td>\n",
       "    </tr>\n",
       "  </tbody>\n",
       "</table>\n",
       "<p>5 rows × 69 columns</p>\n",
       "</div>"
      ],
      "text/plain": [
       "   1Gender of respondent  2 How old are you?   \\\n",
       "0                      0                    3   \n",
       "1                      1                    2   \n",
       "2                      1                    2   \n",
       "3                      0                    2   \n",
       "4                      1                    2   \n",
       "\n",
       "   5 Since How Long You are Shopping Online ?  \\\n",
       "0                                           5   \n",
       "1                                           5   \n",
       "2                                           4   \n",
       "3                                           4   \n",
       "4                                           3   \n",
       "\n",
       "   6 How many times you have made an online purchase in the past 1 year?  \\\n",
       "0                                                  4                       \n",
       "1                                                  5                       \n",
       "2                                                  5                       \n",
       "3                                                  1                       \n",
       "4                                                  2                       \n",
       "\n",
       "   7 How do you access the internet while shopping on-line?  \\\n",
       "0                                                  4          \n",
       "1                                                  2          \n",
       "2                                                  3          \n",
       "3                                                  3          \n",
       "4                                                  2          \n",
       "\n",
       "   8 Which device do you use to access the online shopping?  \\\n",
       "0                                                  3          \n",
       "1                                                  1          \n",
       "2                                                  1          \n",
       "3                                                  1          \n",
       "4                                                  1          \n",
       "\n",
       "   9 What is the screen size of your mobile device?\\t\\t\\t\\t\\t\\t                                          \\\n",
       "0                                                  5                                                      \n",
       "1                                                  2                                                      \n",
       "2                                                  4                                                      \n",
       "3                                                  4                                                      \n",
       "4                                                  2                                                      \n",
       "\n",
       "   10 What is the operating system (OS) of your device?\\t\\t\\t\\t                                            \\\n",
       "0                                                  1                                                        \n",
       "1                                                  3                                                        \n",
       "2                                                  2                                                        \n",
       "3                                                  3                                                        \n",
       "4                                                  3                                                        \n",
       "\n",
       "   11 What browser do you run on your device to access the website?\\t\\t\\t                                                            \\\n",
       "0                                                  1                                                                                  \n",
       "1                                                  1                                                                                  \n",
       "2                                                  1                                                                                  \n",
       "3                                                  2                                                                                  \n",
       "4                                                  2                                                                                  \n",
       "\n",
       "   12 Which channel did you follow to arrive at your favorite online store for the first time?                                                                     \\\n",
       "0                                                  1                                                                                                                \n",
       "1                                                  1                                                                                                                \n",
       "2                                                  1                                                                                                                \n",
       "3                                                  1                                                                                                                \n",
       "4                                                  3                                                                                                                \n",
       "\n",
       "   ...  Longer time to get logged in (promotion, sales period)  \\\n",
       "0  ...                                                  0        \n",
       "1  ...                                                  1        \n",
       "2  ...                                                  7        \n",
       "3  ...                                                  9        \n",
       "4  ...                                                  5        \n",
       "\n",
       "   Longer time in displaying graphics and photos (promotion, sales period)  \\\n",
       "0                                                  0                         \n",
       "1                                                  6                         \n",
       "2                                                  6                         \n",
       "3                                                  7                         \n",
       "4                                                  8                         \n",
       "\n",
       "   Late declaration of price (promotion, sales period)  \\\n",
       "0                                                  3     \n",
       "1                                                  7     \n",
       "2                                                  4     \n",
       "3                                                  4     \n",
       "4                                                  5     \n",
       "\n",
       "   Longer page loading time (promotion, sales period)  \\\n",
       "0                                                  5    \n",
       "1                                                 10    \n",
       "2                                                  7    \n",
       "3                                                  8    \n",
       "4                                                  8    \n",
       "\n",
       "   Limited mode of payment on most products (promotion, sales period)  \\\n",
       "0                                                  0                    \n",
       "1                                                  7                    \n",
       "2                                                  0                    \n",
       "3                                                  5                    \n",
       "4                                                  7                    \n",
       "\n",
       "   Longer delivery period  Change in website/Application design  \\\n",
       "0                       3                                     2   \n",
       "1                       5                                     0   \n",
       "2                       3                                     5   \n",
       "3                       3                                     1   \n",
       "4                       3                                     0   \n",
       "\n",
       "   Frequent disruption when moving from one page to another  \\\n",
       "0                                                  0          \n",
       "1                                                  4          \n",
       "2                                                  6          \n",
       "3                                                  1          \n",
       "4                                                  7          \n",
       "\n",
       "   Website is as efficient as before  \\\n",
       "0                                  0   \n",
       "1                                  1   \n",
       "2                                  0   \n",
       "3                                  2   \n",
       "4                                  6   \n",
       "\n",
       "   Which of the Indian online retailer would you recommend to a friend?  \n",
       "0                                                  6                     \n",
       "1                                                  3                     \n",
       "2                                                  5                     \n",
       "3                                                  1                     \n",
       "4                                                  3                     \n",
       "\n",
       "[5 rows x 69 columns]"
      ]
     },
     "execution_count": 13,
     "metadata": {},
     "output_type": "execute_result"
    }
   ],
   "source": [
    "df.head()"
   ]
  },
  {
   "cell_type": "code",
   "execution_count": 14,
   "id": "bc31bce8",
   "metadata": {},
   "outputs": [
    {
     "data": {
      "text/plain": [
       "1Gender of respondent                                                   -0.723007\n",
       "2 How old are you?                                                       0.063243\n",
       "5 Since How Long You are Shopping Online ?                              -0.554705\n",
       "6 How many times you have made an online purchase in the past 1 year?    0.227755\n",
       "7 How do you access the internet while shopping on-line?                 0.567694\n",
       "                                                                           ...   \n",
       "Longer delivery period                                                  -0.147702\n",
       "Change in website/Application design                                     0.354163\n",
       "Frequent disruption when moving from one page to another                -0.100608\n",
       "Website is as efficient as before                                        0.662084\n",
       "Which of the Indian online retailer would you recommend to a friend?     0.583614\n",
       "Length: 69, dtype: float64"
      ]
     },
     "execution_count": 14,
     "metadata": {},
     "output_type": "execute_result"
    }
   ],
   "source": [
    "df.skew()"
   ]
  },
  {
   "cell_type": "markdown",
   "id": "2d243cdf",
   "metadata": {},
   "source": [
    "Observation: Here, we can see there is no skewness present in dataset."
   ]
  },
  {
   "cell_type": "markdown",
   "id": "f71f73db",
   "metadata": {},
   "source": [
    "# Data Visualization"
   ]
  },
  {
   "cell_type": "code",
   "execution_count": 15,
   "id": "70a681bc",
   "metadata": {},
   "outputs": [
    {
     "data": {
      "text/plain": [
       "Index(['1Gender of respondent', '2 How old are you? ',\n",
       "       '5 Since How Long You are Shopping Online ?',\n",
       "       '6 How many times you have made an online purchase in the past 1 year?',\n",
       "       '7 How do you access the internet while shopping on-line?',\n",
       "       '8 Which device do you use to access the online shopping?',\n",
       "       '9 What is the screen size of your mobile device?\\t\\t\\t\\t\\t\\t                                        ',\n",
       "       '10 What is the operating system (OS) of your device?\\t\\t\\t\\t                                          ',\n",
       "       '11 What browser do you run on your device to access the website?\\t\\t\\t                                                          ',\n",
       "       '12 Which channel did you follow to arrive at your favorite online store for the first time?                                                                   ',\n",
       "       '13 After first visit, how do you reach the online retail store?\\t\\t\\t\\t                                                   ',\n",
       "       '14 How much time do you explore the e- retail store before making a purchase decision?                                                                   ',\n",
       "       '15 What is your preferred payment Option?\\t\\t\\t\\t\\t                                                                                                                               ',\n",
       "       '16 How 4 do you abandon (selecting an items and leaving without making payment) your shopping cart?\\t\\t\\t\\t\\t\\t\\t                                                   ',\n",
       "       '17 Why did you abandon the �Bag�, �Shopping Cart�?\\t\\t\\t\\t\\t                                                                                                                                                       ',\n",
       "       '18 The content on the website must be easy to read and understand',\n",
       "       '19 Information on similar product to the one highlighted  is important for product comparison',\n",
       "       '20 Complete information on listed seller and product being offered is important for purchase decision.',\n",
       "       '21 All relevant information on listed products must be stated clearly',\n",
       "       '22 Ease of navigation in website', '23 Loading and processing speed',\n",
       "       '24 User friendly Interface of the website',\n",
       "       '25 Convenient Payment methods',\n",
       "       '26 Trust that the online retail store will fulfill its part of the transaction at the stipulated time',\n",
       "       '27 Empathy (readiness to assist with queries) towards the customers',\n",
       "       '28 Being able to guarantee the privacy of the customer',\n",
       "       '29 Responsiveness, availability of several communication channels (email, online rep, twitter, phone etc.)',\n",
       "       '30 Online shopping gives monetary benefit and discounts',\n",
       "       '31 Enjoyment is derived from shopping online',\n",
       "       '32 Shopping online is convenient and flexible',\n",
       "       '33 Return and replacement policy of the e-tailer is important for purchase decision',\n",
       "       '34 Gaining access to loyalty programs is a benefit of shopping online',\n",
       "       '35 Displaying quality Information on the website improves satisfaction of customers',\n",
       "       '36 User derive satisfaction while shopping on a good quality website or application',\n",
       "       '37 Net Benefit derived from shopping online can lead to users satisfaction',\n",
       "       '38 User satisfaction cannot exist without trust',\n",
       "       '39 Offering a wide variety of listed product in several category',\n",
       "       '40 Provision of complete and relevant product information',\n",
       "       '41 Monetary savings',\n",
       "       '42 The Convenience of patronizing the online retailer',\n",
       "       '43 Shopping on the website gives you the sense of adventure',\n",
       "       '44 Shopping on your preferred e-tailer enhances your social status',\n",
       "       '45 You feel gratification shopping on your favorite e-tailer',\n",
       "       '46 Shopping on the website helps you fulfill certain roles',\n",
       "       '47 Getting value for money spent',\n",
       "       'From the following, tick any (or all) of the online retailers you have shopped from;                                                                           ',\n",
       "       'Easy to use website or application',\n",
       "       'Visual appealing web-page layout', 'Wild variety of product on offer',\n",
       "       'Complete, relevant description information of products',\n",
       "       'Fast loading website speed of website and application',\n",
       "       'Reliability of the website or application',\n",
       "       'Quickness to complete purchase',\n",
       "       'Availability of several payment options', 'Speedy order delivery ',\n",
       "       'Privacy of customers� information',\n",
       "       'Security of customer financial information',\n",
       "       'Perceived Trustworthiness',\n",
       "       'Presence of online assistance through multi-channel',\n",
       "       'Longer time to get logged in (promotion, sales period)',\n",
       "       'Longer time in displaying graphics and photos (promotion, sales period)',\n",
       "       'Late declaration of price (promotion, sales period)',\n",
       "       'Longer page loading time (promotion, sales period)',\n",
       "       'Limited mode of payment on most products (promotion, sales period)',\n",
       "       'Longer delivery period', 'Change in website/Application design',\n",
       "       'Frequent disruption when moving from one page to another',\n",
       "       'Website is as efficient as before',\n",
       "       'Which of the Indian online retailer would you recommend to a friend?'],\n",
       "      dtype='object')"
      ]
     },
     "execution_count": 15,
     "metadata": {},
     "output_type": "execute_result"
    }
   ],
   "source": [
    "df.columns"
   ]
  },
  {
   "cell_type": "code",
   "execution_count": 16,
   "id": "8a2b5b27",
   "metadata": {
    "scrolled": true
   },
   "outputs": [
    {
     "data": {
      "text/plain": [
       "<AxesSubplot:xlabel='5 Since How Long You are Shopping Online ?', ylabel='Count'>"
      ]
     },
     "execution_count": 16,
     "metadata": {},
     "output_type": "execute_result"
    },
    {
     "data": {
      "image/png": "[encoded data removed]",
      "text/plain": [
       "<Figure size 432x288 with 1 Axes>"
      ]
     },
     "metadata": {
      "needs_background": "light"
     },
     "output_type": "display_data"
    }
   ],
   "source": [
    "sns.histplot(df['5 Since How Long You are Shopping Online ?'], bins = 20)"
   ]
  },
  {
   "cell_type": "code",
   "execution_count": null,
   "id": "e1d04993",
   "metadata": {},
   "outputs": [],
   "source": [
    "Observation: Here, we can see that the person "
   ]
  },
  {
   "cell_type": "code",
   "execution_count": 17,
   "id": "55c22d59",
   "metadata": {},
   "outputs": [
    {
     "data": {
      "text/plain": [
       "<AxesSubplot:xlabel='6 How many times you have made an online purchase in the past 1 year?', ylabel='Count'>"
      ]
     },
     "execution_count": 17,
     "metadata": {},
     "output_type": "execute_result"
    },
    {
     "data": {
      "image/png": "[encoded data removed]",
      "text/plain": [
       "<Figure size 432x288 with 1 Axes>"
      ]
     },
     "metadata": {
      "needs_background": "light"
     },
     "output_type": "display_data"
    }
   ],
   "source": [
    "sns.histplot(df['6 How many times you have made an online purchase in the past 1 year?'], bins = 20)"
   ]
  },
  {
   "cell_type": "code",
   "execution_count": 18,
   "id": "e0fe7d29",
   "metadata": {},
   "outputs": [
    {
     "data": {
      "text/plain": [
       "<AxesSubplot:xlabel='24 User friendly Interface of the website', ylabel='Count'>"
      ]
     },
     "execution_count": 18,
     "metadata": {},
     "output_type": "execute_result"
    },
    {
     "data": {
      "image/png": "[encoded data removed]",
      "text/plain": [
       "<Figure size 432x288 with 1 Axes>"
      ]
     },
     "metadata": {
      "needs_background": "light"
     },
     "output_type": "display_data"
    }
   ],
   "source": [
    "sns.histplot(df['24 User friendly Interface of the website'], bins = 20)"
   ]
  },
  {
   "cell_type": "code",
   "execution_count": 19,
   "id": "6323f965",
   "metadata": {},
   "outputs": [
    {
     "data": {
      "text/plain": [
       "<AxesSubplot:xlabel='34 Gaining access to loyalty programs is a benefit of shopping online', ylabel='Count'>"
      ]
     },
     "execution_count": 19,
     "metadata": {},
     "output_type": "execute_result"
    },
    {
     "data": {
      "image/png": "[encoded data removed]",
      "text/plain": [
       "<Figure size 432x288 with 1 Axes>"
      ]
     },
     "metadata": {
      "needs_background": "light"
     },
     "output_type": "display_data"
    }
   ],
   "source": [
    "sns.histplot(df['34 Gaining access to loyalty programs is a benefit of shopping online'], bins = 20)"
   ]
  },
  {
   "cell_type": "code",
   "execution_count": 20,
   "id": "175d4dd5",
   "metadata": {},
   "outputs": [
    {
     "data": {
      "text/plain": [
       "<AxesSubplot:xlabel='35 Displaying quality Information on the website improves satisfaction of customers', ylabel='Count'>"
      ]
     },
     "execution_count": 20,
     "metadata": {},
     "output_type": "execute_result"
    },
    {
     "data": {
      "image/png": "[encoded data removed]",
      "text/plain": [
       "<Figure size 432x288 with 1 Axes>"
      ]
     },
     "metadata": {
      "needs_background": "light"
     },
     "output_type": "display_data"
    }
   ],
   "source": [
    "sns.histplot(df['35 Displaying quality Information on the website improves satisfaction of customers'], bins = 20)"
   ]
  },
  {
   "cell_type": "code",
   "execution_count": 21,
   "id": "ef0f8955",
   "metadata": {},
   "outputs": [
    {
     "data": {
      "text/plain": [
       "<AxesSubplot:xlabel='36 User derive satisfaction while shopping on a good quality website or application', ylabel='Count'>"
      ]
     },
     "execution_count": 21,
     "metadata": {},
     "output_type": "execute_result"
    },
    {
     "data": {
      "image/png": "[encoded data removed]",
      "text/plain": [
       "<Figure size 432x288 with 1 Axes>"
      ]
     },
     "metadata": {
      "needs_background": "light"
     },
     "output_type": "display_data"
    }
   ],
   "source": [
    "sns.histplot(df['36 User derive satisfaction while shopping on a good quality website or application'], bins = 20)"
   ]
  },
  {
   "cell_type": "code",
   "execution_count": 22,
   "id": "3a7e5c03",
   "metadata": {},
   "outputs": [
    {
     "data": {
      "text/plain": [
       "<AxesSubplot:xlabel='37 Net Benefit derived from shopping online can lead to users satisfaction', ylabel='Count'>"
      ]
     },
     "execution_count": 22,
     "metadata": {},
     "output_type": "execute_result"
    },
    {
     "data": {
      "image/png": "[encoded data removed]",
      "text/plain": [
       "<Figure size 432x288 with 1 Axes>"
      ]
     },
     "metadata": {
      "needs_background": "light"
     },
     "output_type": "display_data"
    }
   ],
   "source": [
    "sns.histplot(df['37 Net Benefit derived from shopping online can lead to users satisfaction'], bins = 20)"
   ]
  },
  {
   "cell_type": "code",
   "execution_count": 23,
   "id": "70814e64",
   "metadata": {},
   "outputs": [
    {
     "data": {
      "text/plain": [
       "<AxesSubplot:xlabel='39 Offering a wide variety of listed product in several category', ylabel='Count'>"
      ]
     },
     "execution_count": 23,
     "metadata": {},
     "output_type": "execute_result"
    },
    {
     "data": {
      "image/png": "[encoded data removed]",
      "text/plain": [
       "<Figure size 432x288 with 1 Axes>"
      ]
     },
     "metadata": {
      "needs_background": "light"
     },
     "output_type": "display_data"
    }
   ],
   "source": [
    "sns.histplot(df['39 Offering a wide variety of listed product in several category'], bins = 20)"
   ]
  },
  {
   "cell_type": "code",
   "execution_count": 24,
   "id": "cc861abb",
   "metadata": {},
   "outputs": [
    {
     "data": {
      "text/plain": [
       "<AxesSubplot:xlabel='41 Monetary savings', ylabel='Count'>"
      ]
     },
     "execution_count": 24,
     "metadata": {},
     "output_type": "execute_result"
    },
    {
     "data": {
      "image/png": "[encoded data removed]",
      "text/plain": [
       "<Figure size 432x288 with 1 Axes>"
      ]
     },
     "metadata": {
      "needs_background": "light"
     },
     "output_type": "display_data"
    }
   ],
   "source": [
    "sns.histplot(df['41 Monetary savings'], bins = 20)"
   ]
  },
  {
   "cell_type": "code",
   "execution_count": 25,
   "id": "78a1a7a4",
   "metadata": {},
   "outputs": [
    {
     "data": {
      "text/plain": [
       "<AxesSubplot:xlabel='45 You feel gratification shopping on your favorite e-tailer', ylabel='Count'>"
      ]
     },
     "execution_count": 25,
     "metadata": {},
     "output_type": "execute_result"
    },
    {
     "data": {
      "image/png": "[encoded data removed]",
      "text/plain": [
       "<Figure size 432x288 with 1 Axes>"
      ]
     },
     "metadata": {
      "needs_background": "light"
     },
     "output_type": "display_data"
    }
   ],
   "source": [
    "sns.histplot(df['45 You feel gratification shopping on your favorite e-tailer'], bins = 20)"
   ]
  },
  {
   "cell_type": "code",
   "execution_count": 26,
   "id": "2f946475",
   "metadata": {},
   "outputs": [
    {
     "data": {
      "text/plain": [
       "<AxesSubplot:xlabel='46 Shopping on the website helps you fulfill certain roles', ylabel='Count'>"
      ]
     },
     "execution_count": 26,
     "metadata": {},
     "output_type": "execute_result"
    },
    {
     "data": {
      "image/png": "[encoded data removed]",
      "text/plain": [
       "<Figure size 432x288 with 1 Axes>"
      ]
     },
     "metadata": {
      "needs_background": "light"
     },
     "output_type": "display_data"
    }
   ],
   "source": [
    "sns.histplot(df['46 Shopping on the website helps you fulfill certain roles'], bins = 20)"
   ]
  },
  {
   "cell_type": "code",
   "execution_count": 27,
   "id": "515dec81",
   "metadata": {},
   "outputs": [
    {
     "data": {
      "text/plain": [
       "<AxesSubplot:xlabel='Wild variety of product on offer', ylabel='Count'>"
      ]
     },
     "execution_count": 27,
     "metadata": {},
     "output_type": "execute_result"
    },
    {
     "data": {
      "image/png": "[encoded data removed]",
      "text/plain": [
       "<Figure size 432x288 with 1 Axes>"
      ]
     },
     "metadata": {
      "needs_background": "light"
     },
     "output_type": "display_data"
    }
   ],
   "source": [
    "sns.histplot(df['Wild variety of product on offer'], bins = 20)"
   ]
  },
  {
   "cell_type": "code",
   "execution_count": 28,
   "id": "05c2d199",
   "metadata": {},
   "outputs": [
    {
     "data": {
      "text/plain": [
       "<AxesSubplot:xlabel='Availability of several payment options', ylabel='Count'>"
      ]
     },
     "execution_count": 28,
     "metadata": {},
     "output_type": "execute_result"
    },
    {
     "data": {
      "image/png": "[encoded data removed]",
      "text/plain": [
       "<Figure size 432x288 with 1 Axes>"
      ]
     },
     "metadata": {
      "needs_background": "light"
     },
     "output_type": "display_data"
    }
   ],
   "source": [
    "sns.histplot(df['Availability of several payment options'], bins = 20)"
   ]
  },
  {
   "cell_type": "code",
   "execution_count": 29,
   "id": "634a0a22",
   "metadata": {},
   "outputs": [
    {
     "data": {
      "text/plain": [
       "<AxesSubplot:xlabel='Perceived Trustworthiness', ylabel='Count'>"
      ]
     },
     "execution_count": 29,
     "metadata": {},
     "output_type": "execute_result"
    },
    {
     "data": {
      "image/png": "[encoded data removed]",
      "text/plain": [
       "<Figure size 432x288 with 1 Axes>"
      ]
     },
     "metadata": {
      "needs_background": "light"
     },
     "output_type": "display_data"
    }
   ],
   "source": [
    "sns.histplot(df['Perceived Trustworthiness'], bins = 20)"
   ]
  },
  {
   "cell_type": "code",
   "execution_count": 30,
   "id": "a4ceadd4",
   "metadata": {},
   "outputs": [
    {
     "data": {
      "text/plain": [
       "<AxesSubplot:xlabel='Quickness to complete purchase', ylabel='Count'>"
      ]
     },
     "execution_count": 30,
     "metadata": {},
     "output_type": "execute_result"
    },
    {
     "data": {
      "image/png": "[encoded data removed]",
      "text/plain": [
       "<Figure size 432x288 with 1 Axes>"
      ]
     },
     "metadata": {
      "needs_background": "light"
     },
     "output_type": "display_data"
    }
   ],
   "source": [
    "sns.histplot(df['Quickness to complete purchase'], bins = 20)"
   ]
  },
  {
   "cell_type": "code",
   "execution_count": 31,
   "id": "621ac205",
   "metadata": {},
   "outputs": [
    {
     "data": {
      "text/plain": [
       "<AxesSubplot:xlabel='Which of the Indian online retailer would you recommend to a friend?', ylabel='Count'>"
      ]
     },
     "execution_count": 31,
     "metadata": {},
     "output_type": "execute_result"
    },
    {
     "data": {
      "image/png": "[encoded data removed]",
      "text/plain": [
       "<Figure size 432x288 with 1 Axes>"
      ]
     },
     "metadata": {
      "needs_background": "light"
     },
     "output_type": "display_data"
    }
   ],
   "source": [
    "sns.histplot(df['Which of the Indian online retailer would you recommend to a friend?'], bins = 20)"
   ]
  },
  {
   "cell_type": "markdown",
   "id": "443a9b04",
   "metadata": {},
   "source": [
    "# Find Correlation"
   ]
  },
  {
   "cell_type": "code",
   "execution_count": 32,
   "id": "08fc38c3",
   "metadata": {},
   "outputs": [
    {
     "data": {
      "text/html": [
       "<div>\n",
       "<style scoped>\n",
       "    .dataframe tbody tr th:only-of-type {\n",
       "        vertical-align: middle;\n",
       "    }\n",
       "\n",
       "    .dataframe tbody tr th {\n",
       "        vertical-align: top;\n",
       "    }\n",
       "\n",
       "    .dataframe thead th {\n",
       "        text-align: right;\n",
       "    }\n",
       "</style>\n",
       "<table border=\"1\" class=\"dataframe\">\n",
       "  <thead>\n",
       "    <tr style=\"text-align: right;\">\n",
       "      <th></th>\n",
       "      <th>1Gender of respondent</th>\n",
       "      <th>2 How old are you?</th>\n",
       "      <th>5 Since How Long You are Shopping Online ?</th>\n",
       "      <th>6 How many times you have made an online purchase in the past 1 year?</th>\n",
       "      <th>7 How do you access the internet while shopping on-line?</th>\n",
       "      <th>8 Which device do you use to access the online shopping?</th>\n",
       "      <th>9 What is the screen size of your mobile device?\\t\\t\\t\\t\\t\\t</th>\n",
       "      <th>10 What is the operating system (OS) of your device?\\t\\t\\t\\t</th>\n",
       "      <th>11 What browser do you run on your device to access the website?\\t\\t\\t</th>\n",
       "      <th>12 Which channel did you follow to arrive at your favorite online store for the first time?</th>\n",
       "      <th>...</th>\n",
       "      <th>Longer time to get logged in (promotion, sales period)</th>\n",
       "      <th>Longer time in displaying graphics and photos (promotion, sales period)</th>\n",
       "      <th>Late declaration of price (promotion, sales period)</th>\n",
       "      <th>Longer page loading time (promotion, sales period)</th>\n",
       "      <th>Limited mode of payment on most products (promotion, sales period)</th>\n",
       "      <th>Longer delivery period</th>\n",
       "      <th>Change in website/Application design</th>\n",
       "      <th>Frequent disruption when moving from one page to another</th>\n",
       "      <th>Website is as efficient as before</th>\n",
       "      <th>Which of the Indian online retailer would you recommend to a friend?</th>\n",
       "    </tr>\n",
       "  </thead>\n",
       "  <tbody>\n",
       "    <tr>\n",
       "      <th>1Gender of respondent</th>\n",
       "      <td>1.000000</td>\n",
       "      <td>-0.034449</td>\n",
       "      <td>-0.046005</td>\n",
       "      <td>0.076121</td>\n",
       "      <td>-0.200974</td>\n",
       "      <td>-0.241847</td>\n",
       "      <td>-0.058760</td>\n",
       "      <td>-0.038207</td>\n",
       "      <td>-0.116712</td>\n",
       "      <td>-0.166694</td>\n",
       "      <td>...</td>\n",
       "      <td>0.097002</td>\n",
       "      <td>0.230735</td>\n",
       "      <td>0.068137</td>\n",
       "      <td>0.002793</td>\n",
       "      <td>0.163248</td>\n",
       "      <td>-0.052701</td>\n",
       "      <td>0.154007</td>\n",
       "      <td>0.260813</td>\n",
       "      <td>-0.047723</td>\n",
       "      <td>-0.002005</td>\n",
       "    </tr>\n",
       "    <tr>\n",
       "      <th>2 How old are you?</th>\n",
       "      <td>-0.034449</td>\n",
       "      <td>1.000000</td>\n",
       "      <td>0.014049</td>\n",
       "      <td>0.005089</td>\n",
       "      <td>0.024228</td>\n",
       "      <td>0.292176</td>\n",
       "      <td>0.227841</td>\n",
       "      <td>-0.133597</td>\n",
       "      <td>-0.151708</td>\n",
       "      <td>-0.046915</td>\n",
       "      <td>...</td>\n",
       "      <td>-0.088480</td>\n",
       "      <td>-0.116001</td>\n",
       "      <td>0.118635</td>\n",
       "      <td>-0.137449</td>\n",
       "      <td>-0.040609</td>\n",
       "      <td>0.077265</td>\n",
       "      <td>0.076580</td>\n",
       "      <td>-0.063690</td>\n",
       "      <td>-0.076628</td>\n",
       "      <td>-0.002406</td>\n",
       "    </tr>\n",
       "    <tr>\n",
       "      <th>5 Since How Long You are Shopping Online ?</th>\n",
       "      <td>-0.046005</td>\n",
       "      <td>0.014049</td>\n",
       "      <td>1.000000</td>\n",
       "      <td>0.291104</td>\n",
       "      <td>0.080738</td>\n",
       "      <td>0.309634</td>\n",
       "      <td>0.118596</td>\n",
       "      <td>-0.141768</td>\n",
       "      <td>-0.236578</td>\n",
       "      <td>-0.112376</td>\n",
       "      <td>...</td>\n",
       "      <td>-0.063932</td>\n",
       "      <td>0.000073</td>\n",
       "      <td>0.048183</td>\n",
       "      <td>0.018714</td>\n",
       "      <td>-0.038376</td>\n",
       "      <td>0.146307</td>\n",
       "      <td>0.102906</td>\n",
       "      <td>-0.043482</td>\n",
       "      <td>-0.176908</td>\n",
       "      <td>0.029584</td>\n",
       "    </tr>\n",
       "    <tr>\n",
       "      <th>6 How many times you have made an online purchase in the past 1 year?</th>\n",
       "      <td>0.076121</td>\n",
       "      <td>0.005089</td>\n",
       "      <td>0.291104</td>\n",
       "      <td>1.000000</td>\n",
       "      <td>0.135034</td>\n",
       "      <td>0.057656</td>\n",
       "      <td>-0.127544</td>\n",
       "      <td>0.040689</td>\n",
       "      <td>-0.153269</td>\n",
       "      <td>-0.038415</td>\n",
       "      <td>...</td>\n",
       "      <td>-0.010861</td>\n",
       "      <td>-0.023772</td>\n",
       "      <td>0.086206</td>\n",
       "      <td>-0.061695</td>\n",
       "      <td>-0.155042</td>\n",
       "      <td>-0.006841</td>\n",
       "      <td>0.041653</td>\n",
       "      <td>-0.009108</td>\n",
       "      <td>-0.162551</td>\n",
       "      <td>0.159652</td>\n",
       "    </tr>\n",
       "    <tr>\n",
       "      <th>7 How do you access the internet while shopping on-line?</th>\n",
       "      <td>-0.200974</td>\n",
       "      <td>0.024228</td>\n",
       "      <td>0.080738</td>\n",
       "      <td>0.135034</td>\n",
       "      <td>1.000000</td>\n",
       "      <td>0.068663</td>\n",
       "      <td>0.036367</td>\n",
       "      <td>-0.009826</td>\n",
       "      <td>0.029232</td>\n",
       "      <td>-0.055767</td>\n",
       "      <td>...</td>\n",
       "      <td>0.018548</td>\n",
       "      <td>-0.046959</td>\n",
       "      <td>0.004575</td>\n",
       "      <td>0.017005</td>\n",
       "      <td>-0.096950</td>\n",
       "      <td>0.048490</td>\n",
       "      <td>-0.075205</td>\n",
       "      <td>-0.131151</td>\n",
       "      <td>-0.091342</td>\n",
       "      <td>0.037752</td>\n",
       "    </tr>\n",
       "    <tr>\n",
       "      <th>...</th>\n",
       "      <td>...</td>\n",
       "      <td>...</td>\n",
       "      <td>...</td>\n",
       "      <td>...</td>\n",
       "      <td>...</td>\n",
       "      <td>...</td>\n",
       "      <td>...</td>\n",
       "      <td>...</td>\n",
       "      <td>...</td>\n",
       "      <td>...</td>\n",
       "      <td>...</td>\n",
       "      <td>...</td>\n",
       "      <td>...</td>\n",
       "      <td>...</td>\n",
       "      <td>...</td>\n",
       "      <td>...</td>\n",
       "      <td>...</td>\n",
       "      <td>...</td>\n",
       "      <td>...</td>\n",
       "      <td>...</td>\n",
       "      <td>...</td>\n",
       "    </tr>\n",
       "    <tr>\n",
       "      <th>Longer delivery period</th>\n",
       "      <td>-0.052701</td>\n",
       "      <td>0.077265</td>\n",
       "      <td>0.146307</td>\n",
       "      <td>-0.006841</td>\n",
       "      <td>0.048490</td>\n",
       "      <td>0.279346</td>\n",
       "      <td>0.028235</td>\n",
       "      <td>-0.056460</td>\n",
       "      <td>-0.242751</td>\n",
       "      <td>-0.000958</td>\n",
       "      <td>...</td>\n",
       "      <td>0.268484</td>\n",
       "      <td>0.365030</td>\n",
       "      <td>0.598200</td>\n",
       "      <td>0.797480</td>\n",
       "      <td>0.593167</td>\n",
       "      <td>1.000000</td>\n",
       "      <td>0.329965</td>\n",
       "      <td>0.475654</td>\n",
       "      <td>0.247471</td>\n",
       "      <td>0.428419</td>\n",
       "    </tr>\n",
       "    <tr>\n",
       "      <th>Change in website/Application design</th>\n",
       "      <td>0.154007</td>\n",
       "      <td>0.076580</td>\n",
       "      <td>0.102906</td>\n",
       "      <td>0.041653</td>\n",
       "      <td>-0.075205</td>\n",
       "      <td>0.159209</td>\n",
       "      <td>0.408534</td>\n",
       "      <td>-0.325123</td>\n",
       "      <td>-0.341229</td>\n",
       "      <td>-0.135931</td>\n",
       "      <td>...</td>\n",
       "      <td>0.370649</td>\n",
       "      <td>0.152655</td>\n",
       "      <td>0.035417</td>\n",
       "      <td>0.225618</td>\n",
       "      <td>0.214103</td>\n",
       "      <td>0.329965</td>\n",
       "      <td>1.000000</td>\n",
       "      <td>0.436573</td>\n",
       "      <td>-0.189925</td>\n",
       "      <td>0.423877</td>\n",
       "    </tr>\n",
       "    <tr>\n",
       "      <th>Frequent disruption when moving from one page to another</th>\n",
       "      <td>0.260813</td>\n",
       "      <td>-0.063690</td>\n",
       "      <td>-0.043482</td>\n",
       "      <td>-0.009108</td>\n",
       "      <td>-0.131151</td>\n",
       "      <td>-0.062060</td>\n",
       "      <td>-0.086322</td>\n",
       "      <td>-0.072695</td>\n",
       "      <td>-0.260986</td>\n",
       "      <td>0.022791</td>\n",
       "      <td>...</td>\n",
       "      <td>0.274454</td>\n",
       "      <td>0.603750</td>\n",
       "      <td>0.332032</td>\n",
       "      <td>0.614528</td>\n",
       "      <td>0.506431</td>\n",
       "      <td>0.475654</td>\n",
       "      <td>0.436573</td>\n",
       "      <td>1.000000</td>\n",
       "      <td>0.363440</td>\n",
       "      <td>0.122953</td>\n",
       "    </tr>\n",
       "    <tr>\n",
       "      <th>Website is as efficient as before</th>\n",
       "      <td>-0.047723</td>\n",
       "      <td>-0.076628</td>\n",
       "      <td>-0.176908</td>\n",
       "      <td>-0.162551</td>\n",
       "      <td>-0.091342</td>\n",
       "      <td>0.105177</td>\n",
       "      <td>-0.087796</td>\n",
       "      <td>0.211161</td>\n",
       "      <td>0.058841</td>\n",
       "      <td>0.467133</td>\n",
       "      <td>...</td>\n",
       "      <td>0.122555</td>\n",
       "      <td>-0.010967</td>\n",
       "      <td>0.123087</td>\n",
       "      <td>0.319264</td>\n",
       "      <td>0.275338</td>\n",
       "      <td>0.247471</td>\n",
       "      <td>-0.189925</td>\n",
       "      <td>0.363440</td>\n",
       "      <td>1.000000</td>\n",
       "      <td>0.252154</td>\n",
       "    </tr>\n",
       "    <tr>\n",
       "      <th>Which of the Indian online retailer would you recommend to a friend?</th>\n",
       "      <td>-0.002005</td>\n",
       "      <td>-0.002406</td>\n",
       "      <td>0.029584</td>\n",
       "      <td>0.159652</td>\n",
       "      <td>0.037752</td>\n",
       "      <td>0.220059</td>\n",
       "      <td>0.047486</td>\n",
       "      <td>0.007651</td>\n",
       "      <td>-0.262845</td>\n",
       "      <td>0.155508</td>\n",
       "      <td>...</td>\n",
       "      <td>0.261774</td>\n",
       "      <td>-0.140519</td>\n",
       "      <td>0.231029</td>\n",
       "      <td>0.278281</td>\n",
       "      <td>0.028901</td>\n",
       "      <td>0.428419</td>\n",
       "      <td>0.423877</td>\n",
       "      <td>0.122953</td>\n",
       "      <td>0.252154</td>\n",
       "      <td>1.000000</td>\n",
       "    </tr>\n",
       "  </tbody>\n",
       "</table>\n",
       "<p>69 rows × 69 columns</p>\n",
       "</div>"
      ],
      "text/plain": [
       "                                                    1Gender of respondent  \\\n",
       "1Gender of respondent                                            1.000000   \n",
       "2 How old are you?                                              -0.034449   \n",
       "5 Since How Long You are Shopping Online ?                      -0.046005   \n",
       "6 How many times you have made an online purcha...               0.076121   \n",
       "7 How do you access the internet while shopping...              -0.200974   \n",
       "...                                                                   ...   \n",
       "Longer delivery period                                          -0.052701   \n",
       "Change in website/Application design                             0.154007   \n",
       "Frequent disruption when moving from one page t...               0.260813   \n",
       "Website is as efficient as before                               -0.047723   \n",
       "Which of the Indian online retailer would you r...              -0.002005   \n",
       "\n",
       "                                                    2 How old are you?   \\\n",
       "1Gender of respondent                                         -0.034449   \n",
       "2 How old are you?                                             1.000000   \n",
       "5 Since How Long You are Shopping Online ?                     0.014049   \n",
       "6 How many times you have made an online purcha...             0.005089   \n",
       "7 How do you access the internet while shopping...             0.024228   \n",
       "...                                                                 ...   \n",
       "Longer delivery period                                         0.077265   \n",
       "Change in website/Application design                           0.076580   \n",
       "Frequent disruption when moving from one page t...            -0.063690   \n",
       "Website is as efficient as before                             -0.076628   \n",
       "Which of the Indian online retailer would you r...            -0.002406   \n",
       "\n",
       "                                                    5 Since How Long You are Shopping Online ?  \\\n",
       "1Gender of respondent                                                                -0.046005   \n",
       "2 How old are you?                                                                    0.014049   \n",
       "5 Since How Long You are Shopping Online ?                                            1.000000   \n",
       "6 How many times you have made an online purcha...                                    0.291104   \n",
       "7 How do you access the internet while shopping...                                    0.080738   \n",
       "...                                                                                        ...   \n",
       "Longer delivery period                                                                0.146307   \n",
       "Change in website/Application design                                                  0.102906   \n",
       "Frequent disruption when moving from one page t...                                   -0.043482   \n",
       "Website is as efficient as before                                                    -0.176908   \n",
       "Which of the Indian online retailer would you r...                                    0.029584   \n",
       "\n",
       "                                                    6 How many times you have made an online purchase in the past 1 year?  \\\n",
       "1Gender of respondent                                                                        0.076121                       \n",
       "2 How old are you?                                                                           0.005089                       \n",
       "5 Since How Long You are Shopping Online ?                                                   0.291104                       \n",
       "6 How many times you have made an online purcha...                                           1.000000                       \n",
       "7 How do you access the internet while shopping...                                           0.135034                       \n",
       "...                                                                                               ...                       \n",
       "Longer delivery period                                                                      -0.006841                       \n",
       "Change in website/Application design                                                         0.041653                       \n",
       "Frequent disruption when moving from one page t...                                          -0.009108                       \n",
       "Website is as efficient as before                                                           -0.162551                       \n",
       "Which of the Indian online retailer would you r...                                           0.159652                       \n",
       "\n",
       "                                                    7 How do you access the internet while shopping on-line?  \\\n",
       "1Gender of respondent                                                                       -0.200974          \n",
       "2 How old are you?                                                                           0.024228          \n",
       "5 Since How Long You are Shopping Online ?                                                   0.080738          \n",
       "6 How many times you have made an online purcha...                                           0.135034          \n",
       "7 How do you access the internet while shopping...                                           1.000000          \n",
       "...                                                                                               ...          \n",
       "Longer delivery period                                                                       0.048490          \n",
       "Change in website/Application design                                                        -0.075205          \n",
       "Frequent disruption when moving from one page t...                                          -0.131151          \n",
       "Website is as efficient as before                                                           -0.091342          \n",
       "Which of the Indian online retailer would you r...                                           0.037752          \n",
       "\n",
       "                                                    8 Which device do you use to access the online shopping?  \\\n",
       "1Gender of respondent                                                                       -0.241847          \n",
       "2 How old are you?                                                                           0.292176          \n",
       "5 Since How Long You are Shopping Online ?                                                   0.309634          \n",
       "6 How many times you have made an online purcha...                                           0.057656          \n",
       "7 How do you access the internet while shopping...                                           0.068663          \n",
       "...                                                                                               ...          \n",
       "Longer delivery period                                                                       0.279346          \n",
       "Change in website/Application design                                                         0.159209          \n",
       "Frequent disruption when moving from one page t...                                          -0.062060          \n",
       "Website is as efficient as before                                                            0.105177          \n",
       "Which of the Indian online retailer would you r...                                           0.220059          \n",
       "\n",
       "                                                    9 What is the screen size of your mobile device?\\t\\t\\t\\t\\t\\t                                          \\\n",
       "1Gender of respondent                                                                       -0.058760                                                      \n",
       "2 How old are you?                                                                           0.227841                                                      \n",
       "5 Since How Long You are Shopping Online ?                                                   0.118596                                                      \n",
       "6 How many times you have made an online purcha...                                          -0.127544                                                      \n",
       "7 How do you access the internet while shopping...                                           0.036367                                                      \n",
       "...                                                                                               ...                                                      \n",
       "Longer delivery period                                                                       0.028235                                                      \n",
       "Change in website/Application design                                                         0.408534                                                      \n",
       "Frequent disruption when moving from one page t...                                          -0.086322                                                      \n",
       "Website is as efficient as before                                                           -0.087796                                                      \n",
       "Which of the Indian online retailer would you r...                                           0.047486                                                      \n",
       "\n",
       "                                                    10 What is the operating system (OS) of your device?\\t\\t\\t\\t                                            \\\n",
       "1Gender of respondent                                                                       -0.038207                                                        \n",
       "2 How old are you?                                                                          -0.133597                                                        \n",
       "5 Since How Long You are Shopping Online ?                                                  -0.141768                                                        \n",
       "6 How many times you have made an online purcha...                                           0.040689                                                        \n",
       "7 How do you access the internet while shopping...                                          -0.009826                                                        \n",
       "...                                                                                               ...                                                        \n",
       "Longer delivery period                                                                      -0.056460                                                        \n",
       "Change in website/Application design                                                        -0.325123                                                        \n",
       "Frequent disruption when moving from one page t...                                          -0.072695                                                        \n",
       "Website is as efficient as before                                                            0.211161                                                        \n",
       "Which of the Indian online retailer would you r...                                           0.007651                                                        \n",
       "\n",
       "                                                    11 What browser do you run on your device to access the website?\\t\\t\\t                                                            \\\n",
       "1Gender of respondent                                                                       -0.116712                                                                                  \n",
       "2 How old are you?                                                                          -0.151708                                                                                  \n",
       "5 Since How Long You are Shopping Online ?                                                  -0.236578                                                                                  \n",
       "6 How many times you have made an online purcha...                                          -0.153269                                                                                  \n",
       "7 How do you access the internet while shopping...                                           0.029232                                                                                  \n",
       "...                                                                                               ...                                                                                  \n",
       "Longer delivery period                                                                      -0.242751                                                                                  \n",
       "Change in website/Application design                                                        -0.341229                                                                                  \n",
       "Frequent disruption when moving from one page t...                                          -0.260986                                                                                  \n",
       "Website is as efficient as before                                                            0.058841                                                                                  \n",
       "Which of the Indian online retailer would you r...                                          -0.262845                                                                                  \n",
       "\n",
       "                                                    12 Which channel did you follow to arrive at your favorite online store for the first time?                                                                     \\\n",
       "1Gender of respondent                                                                       -0.166694                                                                                                                \n",
       "2 How old are you?                                                                          -0.046915                                                                                                                \n",
       "5 Since How Long You are Shopping Online ?                                                  -0.112376                                                                                                                \n",
       "6 How many times you have made an online purcha...                                          -0.038415                                                                                                                \n",
       "7 How do you access the internet while shopping...                                          -0.055767                                                                                                                \n",
       "...                                                                                               ...                                                                                                                \n",
       "Longer delivery period                                                                      -0.000958                                                                                                                \n",
       "Change in website/Application design                                                        -0.135931                                                                                                                \n",
       "Frequent disruption when moving from one page t...                                           0.022791                                                                                                                \n",
       "Website is as efficient as before                                                            0.467133                                                                                                                \n",
       "Which of the Indian online retailer would you r...                                           0.155508                                                                                                                \n",
       "\n",
       "                                                    ...  \\\n",
       "1Gender of respondent                               ...   \n",
       "2 How old are you?                                  ...   \n",
       "5 Since How Long You are Shopping Online ?          ...   \n",
       "6 How many times you have made an online purcha...  ...   \n",
       "7 How do you access the internet while shopping...  ...   \n",
       "...                                                 ...   \n",
       "Longer delivery period                              ...   \n",
       "Change in website/Application design                ...   \n",
       "Frequent disruption when moving from one page t...  ...   \n",
       "Website is as efficient as before                   ...   \n",
       "Which of the Indian online retailer would you r...  ...   \n",
       "\n",
       "                                                    Longer time to get logged in (promotion, sales period)  \\\n",
       "1Gender of respondent                                                                        0.097002        \n",
       "2 How old are you?                                                                          -0.088480        \n",
       "5 Since How Long You are Shopping Online ?                                                  -0.063932        \n",
       "6 How many times you have made an online purcha...                                          -0.010861        \n",
       "7 How do you access the internet while shopping...                                           0.018548        \n",
       "...                                                                                               ...        \n",
       "Longer delivery period                                                                       0.268484        \n",
       "Change in website/Application design                                                         0.370649        \n",
       "Frequent disruption when moving from one page t...                                           0.274454        \n",
       "Website is as efficient as before                                                            0.122555        \n",
       "Which of the Indian online retailer would you r...                                           0.261774        \n",
       "\n",
       "                                                    Longer time in displaying graphics and photos (promotion, sales period)  \\\n",
       "1Gender of respondent                                                                        0.230735                         \n",
       "2 How old are you?                                                                          -0.116001                         \n",
       "5 Since How Long You are Shopping Online ?                                                   0.000073                         \n",
       "6 How many times you have made an online purcha...                                          -0.023772                         \n",
       "7 How do you access the internet while shopping...                                          -0.046959                         \n",
       "...                                                                                               ...                         \n",
       "Longer delivery period                                                                       0.365030                         \n",
       "Change in website/Application design                                                         0.152655                         \n",
       "Frequent disruption when moving from one page t...                                           0.603750                         \n",
       "Website is as efficient as before                                                           -0.010967                         \n",
       "Which of the Indian online retailer would you r...                                          -0.140519                         \n",
       "\n",
       "                                                    Late declaration of price (promotion, sales period)  \\\n",
       "1Gender of respondent                                                                        0.068137     \n",
       "2 How old are you?                                                                           0.118635     \n",
       "5 Since How Long You are Shopping Online ?                                                   0.048183     \n",
       "6 How many times you have made an online purcha...                                           0.086206     \n",
       "7 How do you access the internet while shopping...                                           0.004575     \n",
       "...                                                                                               ...     \n",
       "Longer delivery period                                                                       0.598200     \n",
       "Change in website/Application design                                                         0.035417     \n",
       "Frequent disruption when moving from one page t...                                           0.332032     \n",
       "Website is as efficient as before                                                            0.123087     \n",
       "Which of the Indian online retailer would you r...                                           0.231029     \n",
       "\n",
       "                                                    Longer page loading time (promotion, sales period)  \\\n",
       "1Gender of respondent                                                                        0.002793    \n",
       "2 How old are you?                                                                          -0.137449    \n",
       "5 Since How Long You are Shopping Online ?                                                   0.018714    \n",
       "6 How many times you have made an online purcha...                                          -0.061695    \n",
       "7 How do you access the internet while shopping...                                           0.017005    \n",
       "...                                                                                               ...    \n",
       "Longer delivery period                                                                       0.797480    \n",
       "Change in website/Application design                                                         0.225618    \n",
       "Frequent disruption when moving from one page t...                                           0.614528    \n",
       "Website is as efficient as before                                                            0.319264    \n",
       "Which of the Indian online retailer would you r...                                           0.278281    \n",
       "\n",
       "                                                    Limited mode of payment on most products (promotion, sales period)  \\\n",
       "1Gender of respondent                                                                        0.163248                    \n",
       "2 How old are you?                                                                          -0.040609                    \n",
       "5 Since How Long You are Shopping Online ?                                                  -0.038376                    \n",
       "6 How many times you have made an online purcha...                                          -0.155042                    \n",
       "7 How do you access the internet while shopping...                                          -0.096950                    \n",
       "...                                                                                               ...                    \n",
       "Longer delivery period                                                                       0.593167                    \n",
       "Change in website/Application design                                                         0.214103                    \n",
       "Frequent disruption when moving from one page t...                                           0.506431                    \n",
       "Website is as efficient as before                                                            0.275338                    \n",
       "Which of the Indian online retailer would you r...                                           0.028901                    \n",
       "\n",
       "                                                    Longer delivery period  \\\n",
       "1Gender of respondent                                            -0.052701   \n",
       "2 How old are you?                                                0.077265   \n",
       "5 Since How Long You are Shopping Online ?                        0.146307   \n",
       "6 How many times you have made an online purcha...               -0.006841   \n",
       "7 How do you access the internet while shopping...                0.048490   \n",
       "...                                                                    ...   \n",
       "Longer delivery period                                            1.000000   \n",
       "Change in website/Application design                              0.329965   \n",
       "Frequent disruption when moving from one page t...                0.475654   \n",
       "Website is as efficient as before                                 0.247471   \n",
       "Which of the Indian online retailer would you r...                0.428419   \n",
       "\n",
       "                                                    Change in website/Application design  \\\n",
       "1Gender of respondent                                                           0.154007   \n",
       "2 How old are you?                                                              0.076580   \n",
       "5 Since How Long You are Shopping Online ?                                      0.102906   \n",
       "6 How many times you have made an online purcha...                              0.041653   \n",
       "7 How do you access the internet while shopping...                             -0.075205   \n",
       "...                                                                                  ...   \n",
       "Longer delivery period                                                          0.329965   \n",
       "Change in website/Application design                                            1.000000   \n",
       "Frequent disruption when moving from one page t...                              0.436573   \n",
       "Website is as efficient as before                                              -0.189925   \n",
       "Which of the Indian online retailer would you r...                              0.423877   \n",
       "\n",
       "                                                    Frequent disruption when moving from one page to another  \\\n",
       "1Gender of respondent                                                                        0.260813          \n",
       "2 How old are you?                                                                          -0.063690          \n",
       "5 Since How Long You are Shopping Online ?                                                  -0.043482          \n",
       "6 How many times you have made an online purcha...                                          -0.009108          \n",
       "7 How do you access the internet while shopping...                                          -0.131151          \n",
       "...                                                                                               ...          \n",
       "Longer delivery period                                                                       0.475654          \n",
       "Change in website/Application design                                                         0.436573          \n",
       "Frequent disruption when moving from one page t...                                           1.000000          \n",
       "Website is as efficient as before                                                            0.363440          \n",
       "Which of the Indian online retailer would you r...                                           0.122953          \n",
       "\n",
       "                                                    Website is as efficient as before  \\\n",
       "1Gender of respondent                                                       -0.047723   \n",
       "2 How old are you?                                                          -0.076628   \n",
       "5 Since How Long You are Shopping Online ?                                  -0.176908   \n",
       "6 How many times you have made an online purcha...                          -0.162551   \n",
       "7 How do you access the internet while shopping...                          -0.091342   \n",
       "...                                                                               ...   \n",
       "Longer delivery period                                                       0.247471   \n",
       "Change in website/Application design                                        -0.189925   \n",
       "Frequent disruption when moving from one page t...                           0.363440   \n",
       "Website is as efficient as before                                            1.000000   \n",
       "Which of the Indian online retailer would you r...                           0.252154   \n",
       "\n",
       "                                                    Which of the Indian online retailer would you recommend to a friend?  \n",
       "1Gender of respondent                                                                       -0.002005                     \n",
       "2 How old are you?                                                                          -0.002406                     \n",
       "5 Since How Long You are Shopping Online ?                                                   0.029584                     \n",
       "6 How many times you have made an online purcha...                                           0.159652                     \n",
       "7 How do you access the internet while shopping...                                           0.037752                     \n",
       "...                                                                                               ...                     \n",
       "Longer delivery period                                                                       0.428419                     \n",
       "Change in website/Application design                                                         0.423877                     \n",
       "Frequent disruption when moving from one page t...                                           0.122953                     \n",
       "Website is as efficient as before                                                            0.252154                     \n",
       "Which of the Indian online retailer would you r...                                           1.000000                     \n",
       "\n",
       "[69 rows x 69 columns]"
      ]
     },
     "execution_count": 32,
     "metadata": {},
     "output_type": "execute_result"
    }
   ],
   "source": [
    "df_cor = df.corr()\n",
    "df_cor"
   ]
  },
  {
   "cell_type": "markdown",
   "id": "cacb8718",
   "metadata": {},
   "source": [
    "Observation: Here we see correlations between each and every column. Here 1 shows highly correlated value, negative figure shows less correlated and between 1 to 0 shows positive correlated values."
   ]
  },
  {
   "cell_type": "markdown",
   "id": "9a37e742",
   "metadata": {},
   "source": [
    "# Find Outliers"
   ]
  },
  {
   "cell_type": "code",
   "execution_count": 33,
   "id": "035a32d3",
   "metadata": {},
   "outputs": [
    {
     "data": {
      "image/png": "[encoded data removed]",
      "text/plain": [
       "<Figure size 432x288 with 70 Axes>"
      ]
     },
     "metadata": {
      "needs_background": "light"
     },
     "output_type": "display_data"
    }
   ],
   "source": [
    "df.plot(kind = 'box', subplots = True, layout = (14, 5))\n",
    "plt.show()"
   ]
  },
  {
   "cell_type": "markdown",
   "id": "5b65f0ea",
   "metadata": {},
   "source": [
    "Observation: Here, we can not see clear visualization of outliers."
   ]
  },
  {
   "cell_type": "markdown",
   "id": "ef3a13bb",
   "metadata": {},
   "source": [
    "# Removing outlier if any:"
   ]
  },
  {
   "cell_type": "code",
   "execution_count": 34,
   "id": "6356b20d",
   "metadata": {},
   "outputs": [
    {
     "data": {
      "text/plain": [
       "array([[1.42213639, 0.03843148, 1.02923681, ..., 1.40519246, 0.98469733,\n",
       "        1.52727829],\n",
       "       [0.70316744, 0.9013929 , 1.02923681, ..., 0.16163354, 0.52322768,\n",
       "        0.25533445],\n",
       "       [0.70316744, 0.9013929 , 0.33184461, ..., 0.94504654, 0.98469733,\n",
       "        1.10329701],\n",
       "       ...,\n",
       "       [0.70316744, 0.97825586, 0.36554758, ..., 1.33675303, 0.98469733,\n",
       "        1.01660938],\n",
       "       [0.70316744, 1.84121727, 0.36554758, ..., 0.55334004, 1.32265095,\n",
       "        1.01660938],\n",
       "       [0.70316744, 0.97825586, 0.36554758, ..., 1.40519246, 0.98469733,\n",
       "        1.01660938]])"
      ]
     },
     "execution_count": 34,
     "metadata": {},
     "output_type": "execute_result"
    }
   ],
   "source": [
    "from scipy.stats import zscore\n",
    "z = np.abs(zscore(df))\n",
    "z"
   ]
  },
  {
   "cell_type": "code",
   "execution_count": 35,
   "id": "f48e552c",
   "metadata": {},
   "outputs": [
    {
     "name": "stdout",
     "output_type": "stream",
     "text": [
      "(array([  0,   7,   7,   7,  13,  21,  21,  21,  27,  31,  38,  38,  38,\n",
      "        44,  52,  52,  52,  53,  53,  53,  59,  64,  64,  64,  65,  65,\n",
      "        65,  66,  70,  70,  70,  74,  82,  82,  82,  88, 101, 103, 103,\n",
      "       103, 110, 110, 110, 112, 113, 122, 124, 124, 124, 131, 131, 131,\n",
      "       133, 134, 143, 143, 143, 147, 151, 153, 156, 156, 156, 157, 157,\n",
      "       157, 158, 158, 158, 172, 182, 182, 182, 193, 196, 198, 198, 198,\n",
      "       203, 203, 203, 206, 206, 206, 207, 210, 214, 231, 231, 231, 232,\n",
      "       232, 232, 233, 233, 233, 245, 247, 250, 259, 263, 263, 263, 264,\n",
      "       264, 264], dtype=int64), array([30, 15, 19, 24, 26, 15, 19, 24, 26, 30, 15, 19, 24, 30, 15, 19, 24,\n",
      "       15, 19, 24, 30, 15, 19, 24, 15, 19, 24, 30, 15, 19, 24, 26,  8, 30,\n",
      "       33, 37, 26,  8, 30, 33, 15, 19, 24, 37, 30, 26,  8, 30, 33, 15, 19,\n",
      "       24, 37, 30, 15, 19, 24, 26, 26, 26, 15, 19, 24, 15, 19, 24, 15, 19,\n",
      "       24, 30,  8, 30, 33, 30, 37,  8, 30, 33,  8, 30, 33,  8, 30, 33, 37,\n",
      "       30, 30, 15, 19, 24, 15, 19, 24, 15, 19, 24, 26, 26, 30, 26, 15, 19,\n",
      "       24,  8, 30, 33], dtype=int64))\n"
     ]
    }
   ],
   "source": [
    "threshold = 3\n",
    "print(np.where(z>3))"
   ]
  },
  {
   "cell_type": "markdown",
   "id": "910e74f3",
   "metadata": {},
   "source": [
    "# Spliting Dataset Into Target And Featuer Variable"
   ]
  },
  {
   "cell_type": "code",
   "execution_count": 36,
   "id": "3111e6b1",
   "metadata": {},
   "outputs": [
    {
     "data": {
      "text/html": [
       "<div>\n",
       "<style scoped>\n",
       "    .dataframe tbody tr th:only-of-type {\n",
       "        vertical-align: middle;\n",
       "    }\n",
       "\n",
       "    .dataframe tbody tr th {\n",
       "        vertical-align: top;\n",
       "    }\n",
       "\n",
       "    .dataframe thead th {\n",
       "        text-align: right;\n",
       "    }\n",
       "</style>\n",
       "<table border=\"1\" class=\"dataframe\">\n",
       "  <thead>\n",
       "    <tr style=\"text-align: right;\">\n",
       "      <th></th>\n",
       "      <th>1Gender of respondent</th>\n",
       "      <th>2 How old are you?</th>\n",
       "      <th>5 Since How Long You are Shopping Online ?</th>\n",
       "      <th>6 How many times you have made an online purchase in the past 1 year?</th>\n",
       "      <th>7 How do you access the internet while shopping on-line?</th>\n",
       "      <th>8 Which device do you use to access the online shopping?</th>\n",
       "      <th>9 What is the screen size of your mobile device?\\t\\t\\t\\t\\t\\t</th>\n",
       "      <th>10 What is the operating system (OS) of your device?\\t\\t\\t\\t</th>\n",
       "      <th>11 What browser do you run on your device to access the website?\\t\\t\\t</th>\n",
       "      <th>12 Which channel did you follow to arrive at your favorite online store for the first time?</th>\n",
       "      <th>...</th>\n",
       "      <th>Presence of online assistance through multi-channel</th>\n",
       "      <th>Longer time to get logged in (promotion, sales period)</th>\n",
       "      <th>Longer time in displaying graphics and photos (promotion, sales period)</th>\n",
       "      <th>Late declaration of price (promotion, sales period)</th>\n",
       "      <th>Longer page loading time (promotion, sales period)</th>\n",
       "      <th>Limited mode of payment on most products (promotion, sales period)</th>\n",
       "      <th>Longer delivery period</th>\n",
       "      <th>Change in website/Application design</th>\n",
       "      <th>Frequent disruption when moving from one page to another</th>\n",
       "      <th>Website is as efficient as before</th>\n",
       "    </tr>\n",
       "  </thead>\n",
       "  <tbody>\n",
       "    <tr>\n",
       "      <th>0</th>\n",
       "      <td>0</td>\n",
       "      <td>3</td>\n",
       "      <td>5</td>\n",
       "      <td>4</td>\n",
       "      <td>4</td>\n",
       "      <td>3</td>\n",
       "      <td>5</td>\n",
       "      <td>1</td>\n",
       "      <td>1</td>\n",
       "      <td>1</td>\n",
       "      <td>...</td>\n",
       "      <td>9</td>\n",
       "      <td>0</td>\n",
       "      <td>0</td>\n",
       "      <td>3</td>\n",
       "      <td>5</td>\n",
       "      <td>0</td>\n",
       "      <td>3</td>\n",
       "      <td>2</td>\n",
       "      <td>0</td>\n",
       "      <td>0</td>\n",
       "    </tr>\n",
       "    <tr>\n",
       "      <th>1</th>\n",
       "      <td>1</td>\n",
       "      <td>2</td>\n",
       "      <td>5</td>\n",
       "      <td>5</td>\n",
       "      <td>2</td>\n",
       "      <td>1</td>\n",
       "      <td>2</td>\n",
       "      <td>3</td>\n",
       "      <td>1</td>\n",
       "      <td>1</td>\n",
       "      <td>...</td>\n",
       "      <td>2</td>\n",
       "      <td>1</td>\n",
       "      <td>6</td>\n",
       "      <td>7</td>\n",
       "      <td>10</td>\n",
       "      <td>7</td>\n",
       "      <td>5</td>\n",
       "      <td>0</td>\n",
       "      <td>4</td>\n",
       "      <td>1</td>\n",
       "    </tr>\n",
       "    <tr>\n",
       "      <th>2</th>\n",
       "      <td>1</td>\n",
       "      <td>2</td>\n",
       "      <td>4</td>\n",
       "      <td>5</td>\n",
       "      <td>3</td>\n",
       "      <td>1</td>\n",
       "      <td>4</td>\n",
       "      <td>2</td>\n",
       "      <td>1</td>\n",
       "      <td>1</td>\n",
       "      <td>...</td>\n",
       "      <td>8</td>\n",
       "      <td>7</td>\n",
       "      <td>6</td>\n",
       "      <td>4</td>\n",
       "      <td>7</td>\n",
       "      <td>0</td>\n",
       "      <td>3</td>\n",
       "      <td>5</td>\n",
       "      <td>6</td>\n",
       "      <td>0</td>\n",
       "    </tr>\n",
       "    <tr>\n",
       "      <th>3</th>\n",
       "      <td>0</td>\n",
       "      <td>2</td>\n",
       "      <td>4</td>\n",
       "      <td>1</td>\n",
       "      <td>3</td>\n",
       "      <td>1</td>\n",
       "      <td>4</td>\n",
       "      <td>3</td>\n",
       "      <td>2</td>\n",
       "      <td>1</td>\n",
       "      <td>...</td>\n",
       "      <td>3</td>\n",
       "      <td>9</td>\n",
       "      <td>7</td>\n",
       "      <td>4</td>\n",
       "      <td>8</td>\n",
       "      <td>5</td>\n",
       "      <td>3</td>\n",
       "      <td>1</td>\n",
       "      <td>1</td>\n",
       "      <td>2</td>\n",
       "    </tr>\n",
       "    <tr>\n",
       "      <th>4</th>\n",
       "      <td>1</td>\n",
       "      <td>2</td>\n",
       "      <td>3</td>\n",
       "      <td>2</td>\n",
       "      <td>2</td>\n",
       "      <td>1</td>\n",
       "      <td>2</td>\n",
       "      <td>3</td>\n",
       "      <td>2</td>\n",
       "      <td>3</td>\n",
       "      <td>...</td>\n",
       "      <td>5</td>\n",
       "      <td>5</td>\n",
       "      <td>8</td>\n",
       "      <td>5</td>\n",
       "      <td>8</td>\n",
       "      <td>7</td>\n",
       "      <td>3</td>\n",
       "      <td>0</td>\n",
       "      <td>7</td>\n",
       "      <td>6</td>\n",
       "    </tr>\n",
       "  </tbody>\n",
       "</table>\n",
       "<p>5 rows × 68 columns</p>\n",
       "</div>"
      ],
      "text/plain": [
       "   1Gender of respondent  2 How old are you?   \\\n",
       "0                      0                    3   \n",
       "1                      1                    2   \n",
       "2                      1                    2   \n",
       "3                      0                    2   \n",
       "4                      1                    2   \n",
       "\n",
       "   5 Since How Long You are Shopping Online ?  \\\n",
       "0                                           5   \n",
       "1                                           5   \n",
       "2                                           4   \n",
       "3                                           4   \n",
       "4                                           3   \n",
       "\n",
       "   6 How many times you have made an online purchase in the past 1 year?  \\\n",
       "0                                                  4                       \n",
       "1                                                  5                       \n",
       "2                                                  5                       \n",
       "3                                                  1                       \n",
       "4                                                  2                       \n",
       "\n",
       "   7 How do you access the internet while shopping on-line?  \\\n",
       "0                                                  4          \n",
       "1                                                  2          \n",
       "2                                                  3          \n",
       "3                                                  3          \n",
       "4                                                  2          \n",
       "\n",
       "   8 Which device do you use to access the online shopping?  \\\n",
       "0                                                  3          \n",
       "1                                                  1          \n",
       "2                                                  1          \n",
       "3                                                  1          \n",
       "4                                                  1          \n",
       "\n",
       "   9 What is the screen size of your mobile device?\\t\\t\\t\\t\\t\\t                                          \\\n",
       "0                                                  5                                                      \n",
       "1                                                  2                                                      \n",
       "2                                                  4                                                      \n",
       "3                                                  4                                                      \n",
       "4                                                  2                                                      \n",
       "\n",
       "   10 What is the operating system (OS) of your device?\\t\\t\\t\\t                                            \\\n",
       "0                                                  1                                                        \n",
       "1                                                  3                                                        \n",
       "2                                                  2                                                        \n",
       "3                                                  3                                                        \n",
       "4                                                  3                                                        \n",
       "\n",
       "   11 What browser do you run on your device to access the website?\\t\\t\\t                                                            \\\n",
       "0                                                  1                                                                                  \n",
       "1                                                  1                                                                                  \n",
       "2                                                  1                                                                                  \n",
       "3                                                  2                                                                                  \n",
       "4                                                  2                                                                                  \n",
       "\n",
       "   12 Which channel did you follow to arrive at your favorite online store for the first time?                                                                     \\\n",
       "0                                                  1                                                                                                                \n",
       "1                                                  1                                                                                                                \n",
       "2                                                  1                                                                                                                \n",
       "3                                                  1                                                                                                                \n",
       "4                                                  3                                                                                                                \n",
       "\n",
       "   ...  Presence of online assistance through multi-channel  \\\n",
       "0  ...                                                  9     \n",
       "1  ...                                                  2     \n",
       "2  ...                                                  8     \n",
       "3  ...                                                  3     \n",
       "4  ...                                                  5     \n",
       "\n",
       "   Longer time to get logged in (promotion, sales period)  \\\n",
       "0                                                  0        \n",
       "1                                                  1        \n",
       "2                                                  7        \n",
       "3                                                  9        \n",
       "4                                                  5        \n",
       "\n",
       "   Longer time in displaying graphics and photos (promotion, sales period)  \\\n",
       "0                                                  0                         \n",
       "1                                                  6                         \n",
       "2                                                  6                         \n",
       "3                                                  7                         \n",
       "4                                                  8                         \n",
       "\n",
       "   Late declaration of price (promotion, sales period)  \\\n",
       "0                                                  3     \n",
       "1                                                  7     \n",
       "2                                                  4     \n",
       "3                                                  4     \n",
       "4                                                  5     \n",
       "\n",
       "   Longer page loading time (promotion, sales period)  \\\n",
       "0                                                  5    \n",
       "1                                                 10    \n",
       "2                                                  7    \n",
       "3                                                  8    \n",
       "4                                                  8    \n",
       "\n",
       "   Limited mode of payment on most products (promotion, sales period)  \\\n",
       "0                                                  0                    \n",
       "1                                                  7                    \n",
       "2                                                  0                    \n",
       "3                                                  5                    \n",
       "4                                                  7                    \n",
       "\n",
       "   Longer delivery period  Change in website/Application design  \\\n",
       "0                       3                                     2   \n",
       "1                       5                                     0   \n",
       "2                       3                                     5   \n",
       "3                       3                                     1   \n",
       "4                       3                                     0   \n",
       "\n",
       "   Frequent disruption when moving from one page to another  \\\n",
       "0                                                  0          \n",
       "1                                                  4          \n",
       "2                                                  6          \n",
       "3                                                  1          \n",
       "4                                                  7          \n",
       "\n",
       "   Website is as efficient as before  \n",
       "0                                  0  \n",
       "1                                  1  \n",
       "2                                  0  \n",
       "3                                  2  \n",
       "4                                  6  \n",
       "\n",
       "[5 rows x 68 columns]"
      ]
     },
     "execution_count": 36,
     "metadata": {},
     "output_type": "execute_result"
    }
   ],
   "source": [
    "x = df.iloc[:,:-1]\n",
    "x.head()"
   ]
  },
  {
   "cell_type": "code",
   "execution_count": 37,
   "id": "f8aa21bd",
   "metadata": {},
   "outputs": [
    {
     "data": {
      "text/plain": [
       "0      6\n",
       "1      3\n",
       "2      5\n",
       "3      1\n",
       "4      3\n",
       "      ..\n",
       "264    0\n",
       "265    6\n",
       "266    0\n",
       "267    0\n",
       "268    0\n",
       "Name: Which of the Indian online retailer would you recommend to a friend?, Length: 269, dtype: int32"
      ]
     },
     "execution_count": 37,
     "metadata": {},
     "output_type": "execute_result"
    }
   ],
   "source": [
    "y = df.iloc[:,-1]\n",
    "y"
   ]
  },
  {
   "cell_type": "markdown",
   "id": "a4e0eff1",
   "metadata": {},
   "source": [
    "# Train And Test The Model"
   ]
  },
  {
   "cell_type": "code",
   "execution_count": 38,
   "id": "5637194f",
   "metadata": {},
   "outputs": [],
   "source": [
    "x_train, x_test, y_train, y_test = train_test_split(x, y, test_size = 0.2, random_state = 45)"
   ]
  },
  {
   "cell_type": "markdown",
   "id": "919b1c64",
   "metadata": {},
   "source": [
    "Observation: Here, we train our data and prepare for test."
   ]
  },
  {
   "cell_type": "code",
   "execution_count": 39,
   "id": "acc15e0f",
   "metadata": {},
   "outputs": [
    {
     "data": {
      "text/plain": [
       "(215, 68)"
      ]
     },
     "execution_count": 39,
     "metadata": {},
     "output_type": "execute_result"
    }
   ],
   "source": [
    "x_train.shape"
   ]
  },
  {
   "cell_type": "markdown",
   "id": "9af5bfbe",
   "metadata": {},
   "source": [
    "Observation: Here, we can see x_train shape."
   ]
  },
  {
   "cell_type": "code",
   "execution_count": 40,
   "id": "ba8d471e",
   "metadata": {},
   "outputs": [
    {
     "data": {
      "text/plain": [
       "(54, 68)"
      ]
     },
     "execution_count": 40,
     "metadata": {},
     "output_type": "execute_result"
    }
   ],
   "source": [
    "x_test.shape"
   ]
  },
  {
   "cell_type": "code",
   "execution_count": 41,
   "id": "5e35cad7",
   "metadata": {},
   "outputs": [
    {
     "data": {
      "text/plain": [
       "(215,)"
      ]
     },
     "execution_count": 41,
     "metadata": {},
     "output_type": "execute_result"
    }
   ],
   "source": [
    "y_train.shape"
   ]
  },
  {
   "cell_type": "code",
   "execution_count": 42,
   "id": "ac97d2de",
   "metadata": {},
   "outputs": [
    {
     "data": {
      "text/plain": [
       "(54,)"
      ]
     },
     "execution_count": 42,
     "metadata": {},
     "output_type": "execute_result"
    }
   ],
   "source": [
    "y_test.shape"
   ]
  },
  {
   "cell_type": "markdown",
   "id": "5276f322",
   "metadata": {},
   "source": [
    "# Model Selection"
   ]
  },
  {
   "cell_type": "code",
   "execution_count": 43,
   "id": "97370395",
   "metadata": {},
   "outputs": [],
   "source": [
    "lr = LinearRegression()"
   ]
  },
  {
   "cell_type": "code",
   "execution_count": 44,
   "id": "66369ce2",
   "metadata": {},
   "outputs": [
    {
     "data": {
      "text/plain": [
       "LinearRegression()"
      ]
     },
     "execution_count": 44,
     "metadata": {},
     "output_type": "execute_result"
    }
   ],
   "source": [
    "lr.fit(x_train, y_train)"
   ]
  },
  {
   "cell_type": "code",
   "execution_count": 45,
   "id": "f569db08",
   "metadata": {},
   "outputs": [
    {
     "data": {
      "text/plain": [
       "array([ 1.65882802e-15, -3.18321758e-16,  6.93889390e-16, -5.16947596e-16,\n",
       "        2.22044605e-16, -1.27675648e-15,  4.96824804e-15,  2.62463662e-15,\n",
       "        3.25957572e-02,  1.53713149e-01,  1.05332048e-03,  1.54990937e-01,\n",
       "        1.11565952e-01, -2.21344964e-02, -2.47230410e-02, -1.90242616e-01,\n",
       "        1.11560275e-01, -9.95754785e-02, -8.02906822e-02,  7.88266965e-02,\n",
       "        3.04241507e-02, -1.22684992e-01, -2.36457343e-01,  8.63247660e-02,\n",
       "       -5.77112935e-02, -9.89711179e-02,  2.11081560e-01, -1.48791235e-01,\n",
       "        7.94792788e-02, -9.54542580e-02, -5.16142541e-02,  2.76336382e-01,\n",
       "        5.23419765e-02, -1.18005778e-01,  2.51523549e-01, -3.97536671e-02,\n",
       "        1.46538246e-01,  8.99368689e-02, -2.06792718e-01,  1.54884590e-01,\n",
       "        1.62719080e-01,  5.70536511e-02,  6.80669751e-02,  3.75854806e-02,\n",
       "        9.39969564e-02, -3.81284814e-01,  2.18494828e-02,  4.06327388e-02,\n",
       "       -9.66374455e-02,  3.93447676e-01, -1.10494647e-01,  5.80141618e-02,\n",
       "        6.50938364e-02,  3.67968518e-02, -9.97844389e-02, -1.80872356e-02,\n",
       "        2.87776199e-03,  1.50941365e-01,  1.12272613e-01,  2.06791443e-01,\n",
       "       -1.99063618e-01, -1.04941445e-02,  1.41547289e-01,  8.28193504e-02,\n",
       "        2.61511204e-01,  2.92845342e-01,  3.26613956e-02,  1.41999812e-02])"
      ]
     },
     "execution_count": 45,
     "metadata": {},
     "output_type": "execute_result"
    }
   ],
   "source": [
    "lr.coef_"
   ]
  },
  {
   "cell_type": "code",
   "execution_count": 46,
   "id": "23693d3c",
   "metadata": {},
   "outputs": [
    {
     "data": {
      "text/plain": [
       "-3.0472014091110182"
      ]
     },
     "execution_count": 46,
     "metadata": {},
     "output_type": "execute_result"
    }
   ],
   "source": [
    "lr.intercept_"
   ]
  },
  {
   "cell_type": "code",
   "execution_count": 47,
   "id": "07a7a6df",
   "metadata": {},
   "outputs": [
    {
     "data": {
      "text/plain": [
       "1.0"
      ]
     },
     "execution_count": 47,
     "metadata": {},
     "output_type": "execute_result"
    }
   ],
   "source": [
    "lr.score(x_train, y_train)"
   ]
  },
  {
   "cell_type": "code",
   "execution_count": 48,
   "id": "41d33b12",
   "metadata": {},
   "outputs": [
    {
     "name": "stdout",
     "output_type": "stream",
     "text": [
      "Predicted result: [ 4.44089210e-15  3.00000000e+00  7.00000000e+00  3.00000000e+00\n",
      "  1.00000000e+00  1.00000000e+00  7.00000000e+00  1.00000000e+00\n",
      "  3.00000000e+00  3.00000000e+00  2.00000000e+00  1.00000000e+00\n",
      "  6.00000000e+00  6.00000000e+00  1.00000000e+00  3.10862447e-15\n",
      "  5.00000000e+00 -2.66453526e-15  4.00000000e+00  1.00000000e+00\n",
      "  6.00000000e+00  3.00000000e+00 -1.77635684e-15  2.00000000e+00\n",
      "  3.55271368e-15  1.33226763e-15 -8.88178420e-16  6.00000000e+00\n",
      "  1.77635684e-15  1.00000000e+00  1.00000000e+00  4.00000000e+00\n",
      " -3.10862447e-15 -3.99680289e-15  1.00000000e+00  3.00000000e+00\n",
      "  4.00000000e+00  6.00000000e+00  5.00000000e+00  1.00000000e+00\n",
      " -1.77635684e-15 -1.33226763e-15  2.00000000e+00  3.10862447e-15\n",
      "  5.00000000e+00  1.00000000e+00  5.00000000e+00  5.00000000e+00\n",
      "  3.00000000e+00  6.00000000e+00  1.00000000e+00  3.00000000e+00\n",
      "  3.00000000e+00  1.00000000e+00]\n",
      "Actual result  182    0\n",
      "159    3\n",
      "89     7\n",
      "45     3\n",
      "69     1\n",
      "83     1\n",
      "191    7\n",
      "153    1\n",
      "30     3\n",
      "1      3\n",
      "100    2\n",
      "47     1\n",
      "172    6\n",
      "257    6\n",
      "104    1\n",
      "200    0\n",
      "138    5\n",
      "38     0\n",
      "177    4\n",
      "166    1\n",
      "161    6\n",
      "4      3\n",
      "137    0\n",
      "254    2\n",
      "128    0\n",
      "8      0\n",
      "76     0\n",
      "210    6\n",
      "199    0\n",
      "141    1\n",
      "122    1\n",
      "50     4\n",
      "157    0\n",
      "156    0\n",
      "151    1\n",
      "79     3\n",
      "176    4\n",
      "174    6\n",
      "218    5\n",
      "256    1\n",
      "10     0\n",
      "233    0\n",
      "242    2\n",
      "84     0\n",
      "115    5\n",
      "3      1\n",
      "46     5\n",
      "33     5\n",
      "67     3\n",
      "119    6\n",
      "192    1\n",
      "184    3\n",
      "258    3\n",
      "240    1\n",
      "Name: Which of the Indian online retailer would you recommend to a friend?, dtype: int32\n"
     ]
    }
   ],
   "source": [
    "pred = lr.predict(x_test)\n",
    "print('Predicted result:', pred)\n",
    "print('Actual result ', y_test)"
   ]
  },
  {
   "cell_type": "code",
   "execution_count": 49,
   "id": "f33ff8da",
   "metadata": {},
   "outputs": [
    {
     "name": "stdout",
     "output_type": "stream",
     "text": [
      "error:\n",
      "Mean absolute error: 3.1250722174634037e-15\n",
      "Mean squared error: 1.3461765262243746e-29\n",
      "Root Mean Squared Error: 3.6690278361227715e-15\n"
     ]
    }
   ],
   "source": [
    "print('error:')\n",
    "print('Mean absolute error:', mean_absolute_error(y_test,pred))\n",
    "print('Mean squared error:', mean_squared_error(y_test,pred))\n",
    "\n",
    "print('Root Mean Squared Error:',np.sqrt(mean_squared_error(y_test,pred)))"
   ]
  },
  {
   "cell_type": "code",
   "execution_count": 50,
   "id": "cb6ea2dd",
   "metadata": {},
   "outputs": [
    {
     "name": "stdout",
     "output_type": "stream",
     "text": [
      "1.0\n"
     ]
    }
   ],
   "source": [
    "from sklearn.metrics import r2_score\n",
    "print(r2_score(y_test,pred))"
   ]
  },
  {
   "cell_type": "code",
   "execution_count": 51,
   "id": "c8101fba",
   "metadata": {},
   "outputs": [],
   "source": [
    "# Pridicting the house price by providing the values\n",
    "i = np.array([0.00632,18.0,2.31,0.0,0.538,6.575,65.2,4.0900,1.0,296.0,15.3,396.90,33.22,\n",
    "             0.87,4.37,0.785,9.765,654,242.76,111.111,22.45,66.211,0.993,47.99,27.55,76.333,\n",
    "             435.433,63.435,452.004,0.888,78.554,11.775,23.345,44.887,98.478,76.033,0.04,10.33,\n",
    "             34.222,44.387,49.889,11.787,76.002,4.223,4.345,6.645,34.22,4.567,8.77,55.234,78.77,\n",
    "             5.066,229,75.387,90.909,11,22,33,44,5,57,55,90,21,31,43,54,5.03])"
   ]
  },
  {
   "cell_type": "code",
   "execution_count": 52,
   "id": "6790d384",
   "metadata": {},
   "outputs": [
    {
     "data": {
      "text/plain": [
       "(68,)"
      ]
     },
     "execution_count": 52,
     "metadata": {},
     "output_type": "execute_result"
    }
   ],
   "source": [
    "i.shape"
   ]
  },
  {
   "cell_type": "code",
   "execution_count": 53,
   "id": "81fc0af0",
   "metadata": {},
   "outputs": [
    {
     "data": {
      "text/plain": [
       "(1, 68)"
      ]
     },
     "execution_count": 53,
     "metadata": {},
     "output_type": "execute_result"
    }
   ],
   "source": [
    "i = i.reshape(1,-1)\n",
    "i.shape"
   ]
  },
  {
   "cell_type": "code",
   "execution_count": 54,
   "id": "8ab7744e",
   "metadata": {},
   "outputs": [
    {
     "data": {
      "text/plain": [
       "array([225.84344369])"
      ]
     },
     "execution_count": 54,
     "metadata": {},
     "output_type": "execute_result"
    }
   ],
   "source": [
    "lr.predict(i)"
   ]
  },
  {
   "cell_type": "code",
   "execution_count": 55,
   "id": "63a22292",
   "metadata": {},
   "outputs": [],
   "source": [
    "df = pd.DataFrame(pred)\n",
    "df.to_csv('Recommendation_of_ol_app.csv')"
   ]
  },
  {
   "cell_type": "code",
   "execution_count": null,
   "id": "8d455dff",
   "metadata": {},
   "outputs": [],
   "source": []
  },
  {
   "cell_type": "markdown",
   "id": "80a0c9bf",
   "metadata": {},
   "source": [
    "Observation: Here, we can see that this dataset is showing us, how a customer is able to purchase any product repeatedly? Here, we see total 71 columns are present but most important are those who satisfy the customer most.\n",
    "Here dataset is belongs to Linear Regression. I use different function to get relation between target variable and feature variables.After taking a detailed look, we see that the designe of application,\n",
    "internet speed, offers which promoted by company, how much discount is giving, payment option, quality of product and payment method etc."
   ]
  },
  {
   "cell_type": "code",
   "execution_count": null,
   "id": "9e7b038e",
   "metadata": {},
   "outputs": [],
   "source": []
  }
 ],
 "metadata": {
  "kernelspec": {
   "display_name": "Python 3",
   "language": "python",
   "name": "python3"
  },
  "language_info": {
   "codemirror_mode": {
    "name": "ipython",
    "version": 3
   },
   "file_extension": ".py",
   "mimetype": "text/x-python",
   "name": "python",
   "nbconvert_exporter": "python",
   "pygments_lexer": "ipython3",
   "version": "3.8.8"
  }
 },
 "nbformat": 4,
 "nbformat_minor": 5
}
