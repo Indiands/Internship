{
 "cells": [
  {
   "cell_type": "markdown",
   "id": "737baf76",
   "metadata": {},
   "source": [
    "# Q1: Write a python program to scrape data for “Data Analyst” Job position in “Bangalore” location. You have to scrape the job-title, job-location, company_name, experience_required. You have to scrape first 10 jobs data."
   ]
  },
  {
   "cell_type": "code",
   "execution_count": null,
   "id": "803a4571",
   "metadata": {},
   "outputs": [],
   "source": [
    "import selenium\n",
    "from selenium import webdriver\n",
    "import pandas as pd\n",
    "import warnings\n",
    "warnings.filterwarnings('ignore')"
   ]
  },
  {
   "cell_type": "code",
   "execution_count": null,
   "id": "c62a6662",
   "metadata": {},
   "outputs": [],
   "source": [
    "driver = webdriver.Chrome('chromedriver.exe')"
   ]
  },
  {
   "cell_type": "code",
   "execution_count": null,
   "id": "f94a72f7",
   "metadata": {},
   "outputs": [],
   "source": [
    "url = 'https://www.naukri.com/'\n",
    "driver.get(url)"
   ]
  },
  {
   "cell_type": "code",
   "execution_count": null,
   "id": "bb0cce80",
   "metadata": {},
   "outputs": [],
   "source": [
    "search_job = driver.find_element_by_class_name('suggestor-input ')\n",
    "search_job"
   ]
  },
  {
   "cell_type": "code",
   "execution_count": null,
   "id": "1a2cfcbd",
   "metadata": {},
   "outputs": [],
   "source": [
    "search_job.send_keys('Data Analyst')"
   ]
  },
  {
   "cell_type": "code",
   "execution_count": null,
   "id": "9fd69b75",
   "metadata": {},
   "outputs": [],
   "source": [
    "search_location = driver.find_element_by_xpath('/html/body/div/div[2]/div[3]/div/div/div[3]/div/div/div/input')\n",
    "search_location"
   ]
  },
  {
   "cell_type": "code",
   "execution_count": null,
   "id": "41b1b5ba",
   "metadata": {},
   "outputs": [],
   "source": [
    "search_location.send_keys('Bangalore')"
   ]
  },
  {
   "cell_type": "code",
   "execution_count": null,
   "id": "f1476e2a",
   "metadata": {},
   "outputs": [],
   "source": [
    "search_searching = driver.find_element_by_xpath('/html/body/div/div[2]/div[3]/div/div/div[6]')\n",
    "search_searching"
   ]
  },
  {
   "cell_type": "code",
   "execution_count": null,
   "id": "ef84c2e2",
   "metadata": {},
   "outputs": [],
   "source": [
    "search_searching.click()"
   ]
  },
  {
   "cell_type": "code",
   "execution_count": null,
   "id": "de30706d",
   "metadata": {},
   "outputs": [],
   "source": [
    "salary_check = driver.find_element_by_xpath('/html/body/div/div[3]/div[2]/section[1]/div[2]/div[4]/div[2]/div[1]/label/i')\n",
    "salary_check"
   ]
  },
  {
   "cell_type": "code",
   "execution_count": null,
   "id": "fc3221ee",
   "metadata": {},
   "outputs": [],
   "source": [
    "salary_check.click()"
   ]
  },
  {
   "cell_type": "code",
   "execution_count": null,
   "id": "c25139a0",
   "metadata": {},
   "outputs": [],
   "source": [
    "# scraping titles tags:\n",
    "title_tags = driver.find_elements_by_xpath('//a[@class=\"title fw500 ellipsis\"]')\n",
    "title_tags[0:10]"
   ]
  },
  {
   "cell_type": "code",
   "execution_count": null,
   "id": "6153741a",
   "metadata": {},
   "outputs": [],
   "source": [
    "# storing scraped data into empty list:\n",
    "job_titles = []\n",
    "\n",
    "for i in title_tags:\n",
    "    job_titles.append(i.text)\n",
    "len(job_titles)\n",
    "job_titles[0:10]"
   ]
  },
  {
   "cell_type": "code",
   "execution_count": null,
   "id": "76115acb",
   "metadata": {},
   "outputs": [],
   "source": [
    "# Extracting Company Names From Page:\n",
    "company_tags = driver.find_elements_by_xpath('//a[@ class = \"subTitle ellipsis fleft\"]')\n",
    "len(company_tags)\n",
    "company_tags[0:10]"
   ]
  },
  {
   "cell_type": "code",
   "execution_count": null,
   "id": "821293e7",
   "metadata": {},
   "outputs": [],
   "source": [
    "company_names = []\n",
    "for i in company_tags:\n",
    "    company_names.append(i.text)\n",
    "company_names[0:10]"
   ]
  },
  {
   "cell_type": "code",
   "execution_count": null,
   "id": "f4383b39",
   "metadata": {},
   "outputs": [],
   "source": [
    "# Extracting experience:\n",
    "exp_tags = driver.find_elements_by_xpath('//li[@class = \"fleft grey-text br2 placeHolderLi experience\"]')\n",
    "len(exp_tags)"
   ]
  },
  {
   "cell_type": "code",
   "execution_count": null,
   "id": "1cd8c2a6",
   "metadata": {},
   "outputs": [],
   "source": [
    "experience = []\n",
    "for i in exp_tags:\n",
    "    experience.append(i.text)\n",
    "    \n",
    "experience[0:10]"
   ]
  },
  {
   "cell_type": "code",
   "execution_count": null,
   "id": "5d164aee",
   "metadata": {},
   "outputs": [],
   "source": [
    "# Extracting Location:\n",
    "location_tags = driver.find_elements_by_xpath('//li[@class = \"fleft grey-text br2 placeHolderLi location\"]')\n",
    "len(location_tags)"
   ]
  },
  {
   "cell_type": "code",
   "execution_count": null,
   "id": "467ed05a",
   "metadata": {},
   "outputs": [],
   "source": [
    "location = []\n",
    "for i in location_tags:\n",
    "    location.append(i.text)\n",
    "location[0:10]"
   ]
  },
  {
   "cell_type": "code",
   "execution_count": null,
   "id": "f87ee6ad",
   "metadata": {},
   "outputs": [],
   "source": [
    "len(job_titles[0:10]), len(company_names[0:10]), len(experience[0:10]), len(location[0:10])"
   ]
  },
  {
   "cell_type": "code",
   "execution_count": null,
   "id": "066276ac",
   "metadata": {},
   "outputs": [],
   "source": [
    "# Creating Data Frame:\n",
    "jobs = pd.DataFrame()\n",
    "jobs['Job Title'] = job_titles[0:10]\n",
    "jobs['Company'] = company_names[0:10]\n",
    "jobs['Experience'] = experience[0:10]\n",
    "jobs['Location'] = location[0:10]\n",
    "jobs"
   ]
  },
  {
   "cell_type": "code",
   "execution_count": null,
   "id": "107e3692",
   "metadata": {},
   "outputs": [],
   "source": []
  },
  {
   "cell_type": "markdown",
   "id": "c3ea66d2",
   "metadata": {},
   "source": [
    "# Q2: Write a python program to scrape data for “Data Scientist” Job position in “Bangalore” location. You have to scrape the job-title, job-location, company_name. You have to scrape first 10 jobs data."
   ]
  },
  {
   "cell_type": "code",
   "execution_count": null,
   "id": "a2b8ef08",
   "metadata": {},
   "outputs": [],
   "source": [
    "import selenium\n",
    "from selenium import webdriver\n",
    "import pandas as pd\n",
    "import warnings\n",
    "warnings.filterwarnings('ignore')"
   ]
  },
  {
   "cell_type": "code",
   "execution_count": null,
   "id": "2a9edbd7",
   "metadata": {},
   "outputs": [],
   "source": [
    "driver = webdriver.Chrome('chromedriver.exe')"
   ]
  },
  {
   "cell_type": "code",
   "execution_count": null,
   "id": "618fa26f",
   "metadata": {},
   "outputs": [],
   "source": [
    "url = 'https://www.naukri.com/'\n",
    "driver.get(url)"
   ]
  },
  {
   "cell_type": "code",
   "execution_count": null,
   "id": "8e533354",
   "metadata": {},
   "outputs": [],
   "source": [
    "search_job = driver.find_element_by_class_name('suggestor-input ')\n",
    "search_job"
   ]
  },
  {
   "cell_type": "code",
   "execution_count": null,
   "id": "c0e3523d",
   "metadata": {},
   "outputs": [],
   "source": [
    "search_job.send_keys('Data Scientist')"
   ]
  },
  {
   "cell_type": "code",
   "execution_count": null,
   "id": "006780a5",
   "metadata": {},
   "outputs": [],
   "source": [
    "search_loca = driver.find_element_by_xpath('/html/body/div/div[2]/div[3]/div/div/div[3]/div/div/div/input')\n",
    "search_loca"
   ]
  },
  {
   "cell_type": "code",
   "execution_count": null,
   "id": "a8698ac2",
   "metadata": {},
   "outputs": [],
   "source": [
    "search_loca.send_keys('Bangalore')"
   ]
  },
  {
   "cell_type": "markdown",
   "id": "3c583a4f",
   "metadata": {},
   "source": [
    "# Filtering search bar and click the button"
   ]
  },
  {
   "cell_type": "code",
   "execution_count": null,
   "id": "181d7e31",
   "metadata": {},
   "outputs": [],
   "source": [
    "search_searching = driver.find_element_by_xpath('/html/body/div/div[2]/div[3]/div/div/div[6]')\n",
    "search_searching"
   ]
  },
  {
   "cell_type": "code",
   "execution_count": null,
   "id": "e6a129b9",
   "metadata": {},
   "outputs": [],
   "source": [
    "search_searching.click()"
   ]
  },
  {
   "cell_type": "markdown",
   "id": "4b9679be",
   "metadata": {},
   "source": [
    "# Extracting Job Titles"
   ]
  },
  {
   "cell_type": "code",
   "execution_count": null,
   "id": "fa18d5c6",
   "metadata": {},
   "outputs": [],
   "source": [
    "title_tags = driver.find_elements_by_xpath('//a[@class = \"title fw500 ellipsis\"]')\n",
    "title_tags[0:5]"
   ]
  },
  {
   "cell_type": "code",
   "execution_count": null,
   "id": "b1325805",
   "metadata": {},
   "outputs": [],
   "source": [
    "job_titles = []\n",
    "\n",
    "for i in title_tags:\n",
    "    job_titles.append(i.text)\n",
    "job_titles[0:5]"
   ]
  },
  {
   "cell_type": "markdown",
   "id": "c3989906",
   "metadata": {},
   "source": [
    "# Extracting Company Names"
   ]
  },
  {
   "cell_type": "code",
   "execution_count": null,
   "id": "8f5c8f53",
   "metadata": {},
   "outputs": [],
   "source": [
    "company_tags = driver.find_elements_by_xpath('//a[@ class = \"subTitle ellipsis fleft\"]')\n",
    "company_tags[0:5]"
   ]
  },
  {
   "cell_type": "code",
   "execution_count": null,
   "id": "04d50bd5",
   "metadata": {},
   "outputs": [],
   "source": [
    "company_names = []\n",
    "for i in company_tags:\n",
    "    company_names.append(i.text)\n",
    "company_names[0:5]"
   ]
  },
  {
   "cell_type": "markdown",
   "id": "f40aa977",
   "metadata": {},
   "source": [
    "# Extracting experience"
   ]
  },
  {
   "cell_type": "code",
   "execution_count": null,
   "id": "e4ca36d1",
   "metadata": {},
   "outputs": [],
   "source": [
    "exp_tags = driver.find_elements_by_xpath('//li[@ class = \"fleft grey-text br2 placeHolderLi experience\"]')\n",
    "exp_tags[0:5]\n"
   ]
  },
  {
   "cell_type": "code",
   "execution_count": null,
   "id": "e2b0e993",
   "metadata": {},
   "outputs": [],
   "source": [
    "experience = []\n",
    "for i in exp_tags:\n",
    "    experience.append(i.text)\n",
    "experience[0:5]"
   ]
  },
  {
   "cell_type": "markdown",
   "id": "7828ea04",
   "metadata": {},
   "source": [
    "# Extracting Location"
   ]
  },
  {
   "cell_type": "code",
   "execution_count": null,
   "id": "c6eef41a",
   "metadata": {},
   "outputs": [],
   "source": [
    "location_tags = driver.find_elements_by_xpath('//li[@ class = \"fleft grey-text br2 placeHolderLi location\"]')\n",
    "len(location_tags)"
   ]
  },
  {
   "cell_type": "code",
   "execution_count": null,
   "id": "6a85e1b7",
   "metadata": {},
   "outputs": [],
   "source": [
    "location = []\n",
    "for i in location_tags:\n",
    "    location.append(i.text)\n",
    "location[0:5]"
   ]
  },
  {
   "cell_type": "code",
   "execution_count": null,
   "id": "53c447f1",
   "metadata": {},
   "outputs": [],
   "source": [
    "len(job_titles), len(company_names), len(experience), len(location)"
   ]
  },
  {
   "cell_type": "markdown",
   "id": "b69d6047",
   "metadata": {},
   "source": [
    "# Creating Data Frame"
   ]
  },
  {
   "cell_type": "code",
   "execution_count": null,
   "id": "d95593a5",
   "metadata": {},
   "outputs": [],
   "source": [
    "jobs = pd.DataFrame()\n",
    "jobs['Job Title'] = job_titles[0:10]\n",
    "jobs['Company'] = company_names[0:10]\n",
    "jobs['Experience'] = experience[0:10]\n",
    "jobs['Location'] = location[0:10]\n",
    "jobs"
   ]
  },
  {
   "cell_type": "code",
   "execution_count": null,
   "id": "9ec40f89",
   "metadata": {},
   "outputs": [],
   "source": []
  },
  {
   "cell_type": "markdown",
   "id": "d5e52451",
   "metadata": {},
   "source": [
    "# Q3. Scrap Data From webpage https://www.naukri.com/"
   ]
  },
  {
   "cell_type": "code",
   "execution_count": null,
   "id": "004a536e",
   "metadata": {},
   "outputs": [],
   "source": [
    "import selenium\n",
    "from selenium import webdriver\n",
    "import pandas as pd\n",
    "import warnings\n",
    "warnings.filterwarnings('ignore')"
   ]
  },
  {
   "cell_type": "code",
   "execution_count": null,
   "id": "c13673da",
   "metadata": {},
   "outputs": [],
   "source": [
    "driver = webdriver.Chrome('chromedriver.exe')"
   ]
  },
  {
   "cell_type": "code",
   "execution_count": null,
   "id": "71551ea4",
   "metadata": {},
   "outputs": [],
   "source": [
    "url = 'https://www.naukri.com/'\n",
    "driver.get(url)"
   ]
  },
  {
   "cell_type": "code",
   "execution_count": null,
   "id": "cfe2e64f",
   "metadata": {},
   "outputs": [],
   "source": [
    "search_job = driver.find_element_by_class_name('suggestor-input ')\n",
    "search_job"
   ]
  },
  {
   "cell_type": "code",
   "execution_count": null,
   "id": "e4904a2e",
   "metadata": {},
   "outputs": [],
   "source": [
    "search_job.send_keys('Data Scientist')"
   ]
  },
  {
   "cell_type": "code",
   "execution_count": null,
   "id": "467476bb",
   "metadata": {},
   "outputs": [],
   "source": [
    "search_searching = driver.find_element_by_xpath('/html/body/div/div[2]/div[3]/div/div/div[6]')\n",
    "search_searching"
   ]
  },
  {
   "cell_type": "code",
   "execution_count": null,
   "id": "fced7464",
   "metadata": {},
   "outputs": [],
   "source": [
    "search_searching.click()"
   ]
  },
  {
   "cell_type": "markdown",
   "id": "e142c0b5",
   "metadata": {},
   "source": [
    "# Filtering Location By checking Box"
   ]
  },
  {
   "cell_type": "code",
   "execution_count": null,
   "id": "8ad5670f",
   "metadata": {},
   "outputs": [],
   "source": [
    "search_location = driver.find_element_by_xpath('/html/body/div[1]/div[3]/div[2]/section[1]/div[2]/div[3]/div[2]/div[3]/label/i')\n",
    "search_location"
   ]
  },
  {
   "cell_type": "code",
   "execution_count": null,
   "id": "ad17d711",
   "metadata": {},
   "outputs": [],
   "source": [
    "# check box('Delhi/NCR')\n",
    "search_location.click()"
   ]
  },
  {
   "cell_type": "markdown",
   "id": "9068f75c",
   "metadata": {},
   "source": [
    "# Filtering salary by checking box"
   ]
  },
  {
   "cell_type": "code",
   "execution_count": null,
   "id": "b3f98952",
   "metadata": {},
   "outputs": [],
   "source": [
    "salary_check = driver.find_element_by_xpath('/html/body/div[1]/div[3]/div[2]/section[1]/div[2]/div[4]/div[2]/div[2]/label/i')\n",
    "salary_check"
   ]
  },
  {
   "cell_type": "code",
   "execution_count": null,
   "id": "2476466d",
   "metadata": {},
   "outputs": [],
   "source": [
    "salary_check.click()"
   ]
  },
  {
   "cell_type": "markdown",
   "id": "d8d3ebf8",
   "metadata": {},
   "source": [
    "# Extracting Job Titles"
   ]
  },
  {
   "cell_type": "code",
   "execution_count": null,
   "id": "2f2c9fa6",
   "metadata": {},
   "outputs": [],
   "source": [
    "title_tags = driver.find_elements_by_xpath('//a[@ class = \"title fw500 ellipsis\"]')\n",
    "len(title_tags)"
   ]
  },
  {
   "cell_type": "code",
   "execution_count": null,
   "id": "80cce31c",
   "metadata": {},
   "outputs": [],
   "source": [
    "job_titles = []\n",
    "for i in title_tags:\n",
    "    job_titles.append(i.text)\n",
    "job_titles[0:5]"
   ]
  },
  {
   "cell_type": "markdown",
   "id": "1afca1ae",
   "metadata": {},
   "source": [
    "# Extracting Company Names"
   ]
  },
  {
   "cell_type": "code",
   "execution_count": null,
   "id": "f169e30b",
   "metadata": {},
   "outputs": [],
   "source": [
    "company_tags = driver.find_elements_by_xpath('//a[@ class = \"subTitle ellipsis fleft\"]')\n",
    "len(company_tags)"
   ]
  },
  {
   "cell_type": "code",
   "execution_count": null,
   "id": "653bd8ec",
   "metadata": {},
   "outputs": [],
   "source": [
    "company_names = []\n",
    "for i in company_tags:\n",
    "    company_names.append(i.text)\n",
    "company_names[0:5]"
   ]
  },
  {
   "cell_type": "markdown",
   "id": "ac1a6727",
   "metadata": {},
   "source": [
    "# Extracting experience"
   ]
  },
  {
   "cell_type": "code",
   "execution_count": null,
   "id": "a7681b4b",
   "metadata": {},
   "outputs": [],
   "source": [
    "exp_tags = driver.find_elements_by_xpath('//li[@ class = \"fleft grey-text br2 placeHolderLi experience\"]')\n",
    "len(exp_tags)"
   ]
  },
  {
   "cell_type": "code",
   "execution_count": null,
   "id": "525b6eff",
   "metadata": {},
   "outputs": [],
   "source": [
    "experience = []\n",
    "\n",
    "for i in exp_tags:\n",
    "    experience.append(i.text)\n",
    "experience[0:5]"
   ]
  },
  {
   "cell_type": "code",
   "execution_count": null,
   "id": "319747f8",
   "metadata": {},
   "outputs": [],
   "source": [
    "len(job_titles), len(company_names), len(experience)"
   ]
  },
  {
   "cell_type": "markdown",
   "id": "bbeb6a00",
   "metadata": {},
   "source": [
    "# Creating Data Frame"
   ]
  },
  {
   "cell_type": "code",
   "execution_count": null,
   "id": "9cc31855",
   "metadata": {},
   "outputs": [],
   "source": [
    "jobs = pd.DataFrame()\n",
    "jobs['Job Title'] = job_titles\n",
    "jobs['Company'] = company_names\n",
    "jobs['Experience'] = experience\n",
    "#jobs['Location'] = location\n",
    "jobs"
   ]
  },
  {
   "cell_type": "code",
   "execution_count": null,
   "id": "c0876097",
   "metadata": {},
   "outputs": [],
   "source": []
  },
  {
   "cell_type": "markdown",
   "id": "710152cf",
   "metadata": {},
   "source": [
    "# Q4: Scrape data of first 100 sunglasses listings on flipkart.com.\n",
    "You have to scrape four attributes:\n",
    "1. Brand\n",
    "2. Product Description\n",
    "3. Price"
   ]
  },
  {
   "cell_type": "code",
   "execution_count": null,
   "id": "f2f9a252",
   "metadata": {},
   "outputs": [],
   "source": [
    "import selenium\n",
    "from selenium import webdriver\n",
    "import pandas as pd\n",
    "import warnings\n",
    "warnings.filterwarnings('ignore')"
   ]
  },
  {
   "cell_type": "code",
   "execution_count": null,
   "id": "2d0f0a27",
   "metadata": {},
   "outputs": [],
   "source": [
    "driver = webdriver.Chrome('chromedriver.exe')"
   ]
  },
  {
   "cell_type": "code",
   "execution_count": null,
   "id": "cc37ab57",
   "metadata": {},
   "outputs": [],
   "source": [
    "url = ' https://www.flipkart.com/'\n",
    "driver.get(url)"
   ]
  },
  {
   "cell_type": "code",
   "execution_count": null,
   "id": "cc856e93",
   "metadata": {},
   "outputs": [],
   "source": [
    "search_sunglasses = driver.find_element_by_class_name('_3704LK')\n",
    "search_sunglasses"
   ]
  },
  {
   "cell_type": "code",
   "execution_count": null,
   "id": "ad046292",
   "metadata": {},
   "outputs": [],
   "source": [
    "search_sunglasses.send_keys('Sunglasses')"
   ]
  },
  {
   "cell_type": "code",
   "execution_count": null,
   "id": "14d4971a",
   "metadata": {},
   "outputs": [],
   "source": [
    "# clicking button:\n",
    "search_searching = driver.find_element_by_xpath('/html/body/div[1]/div/div[1]/div[1]/div[2]/div[2]/form/div/button')\n",
    "search_searching"
   ]
  },
  {
   "cell_type": "code",
   "execution_count": null,
   "id": "e68a3177",
   "metadata": {},
   "outputs": [],
   "source": [
    "search_searching.click()"
   ]
  },
  {
   "cell_type": "markdown",
   "id": "d1ab14a5",
   "metadata": {},
   "source": [
    "# Extracting Sunglass Tags"
   ]
  },
  {
   "cell_type": "code",
   "execution_count": null,
   "id": "6d37b10b",
   "metadata": {},
   "outputs": [],
   "source": [
    "title_tags = driver.find_elements_by_xpath('//div[@ class = \"_2WkVRV\"]')\n",
    "len(title_tags)"
   ]
  },
  {
   "cell_type": "code",
   "execution_count": null,
   "id": "360150d4",
   "metadata": {},
   "outputs": [],
   "source": [
    "sung_name = []\n",
    "\n",
    "for i in title_tags:\n",
    "    sung_name.append(i.text)\n",
    "sung_name[0:2]"
   ]
  },
  {
   "cell_type": "markdown",
   "id": "0f037569",
   "metadata": {},
   "source": [
    "# Extracting Company Tags"
   ]
  },
  {
   "cell_type": "code",
   "execution_count": null,
   "id": "d7820565",
   "metadata": {},
   "outputs": [],
   "source": [
    "com_tags = driver.find_elements_by_xpath('//a[@ class = \"IRpwTa\"]')\n",
    "len(com_tags)"
   ]
  },
  {
   "cell_type": "code",
   "execution_count": null,
   "id": "54fbc10f",
   "metadata": {},
   "outputs": [],
   "source": [
    "com_name = []\n",
    "for i in com_tags:\n",
    "    com_name.append(i.text)\n",
    "com_name[0:2]"
   ]
  },
  {
   "cell_type": "markdown",
   "id": "a3f8bf0d",
   "metadata": {},
   "source": [
    "# Extractiong Price Tags"
   ]
  },
  {
   "cell_type": "code",
   "execution_count": null,
   "id": "763f3fe4",
   "metadata": {},
   "outputs": [],
   "source": [
    "price_tags = driver.find_elements_by_xpath('//div[@ class = \"_30jeq3\"]')\n",
    "len(price_tags)"
   ]
  },
  {
   "cell_type": "code",
   "execution_count": null,
   "id": "d3221a99",
   "metadata": {},
   "outputs": [],
   "source": [
    "price = []\n",
    "for i in price_tags:\n",
    "    price.append(i.text)\n",
    "price[0:2]"
   ]
  },
  {
   "cell_type": "markdown",
   "id": "7c339bd6",
   "metadata": {},
   "source": [
    "# Extracting Discount Tags"
   ]
  },
  {
   "cell_type": "code",
   "execution_count": null,
   "id": "362713dc",
   "metadata": {},
   "outputs": [],
   "source": [
    "dis_tags = driver.find_elements_by_xpath('//div[@ class = \"_3Ay6Sb\"]')\n",
    "len(dis_tags)"
   ]
  },
  {
   "cell_type": "code",
   "execution_count": null,
   "id": "16b70b58",
   "metadata": {},
   "outputs": [],
   "source": [
    "discount = []\n",
    "for i in dis_tags:\n",
    "    discount.append(i.text)\n",
    "discount[0:2]"
   ]
  },
  {
   "cell_type": "markdown",
   "id": "83854e9e",
   "metadata": {},
   "source": [
    "# Clicking Next Button"
   ]
  },
  {
   "cell_type": "code",
   "execution_count": null,
   "id": "abe81314",
   "metadata": {},
   "outputs": [],
   "source": [
    "click_next = driver.find_element_by_xpath('/html/body/div[1]/div/div[3]/div[1]/div[2]/div[12]/div/div/nav/a[11]')\n",
    "click_next"
   ]
  },
  {
   "cell_type": "code",
   "execution_count": null,
   "id": "d93398d1",
   "metadata": {},
   "outputs": [],
   "source": [
    "click_next.click()"
   ]
  },
  {
   "cell_type": "markdown",
   "id": "4ce209ca",
   "metadata": {},
   "source": [
    "# Extracting Sunglasses Info From Next Page"
   ]
  },
  {
   "cell_type": "markdown",
   "id": "31ac4a2c",
   "metadata": {},
   "source": [
    "# Featching Name"
   ]
  },
  {
   "cell_type": "code",
   "execution_count": null,
   "id": "f9f95c90",
   "metadata": {},
   "outputs": [],
   "source": [
    "title_tags = driver.find_elements_by_xpath('//div[@ class = \"_2WkVRV\"]')\n",
    "len(title_tags)"
   ]
  },
  {
   "cell_type": "code",
   "execution_count": null,
   "id": "8a9b0fc1",
   "metadata": {},
   "outputs": [],
   "source": [
    "sung_name1 = []\n",
    "\n",
    "for i in title_tags:\n",
    "    sung_name1.append(i.text)\n",
    "sung_name1[0:2]"
   ]
  },
  {
   "cell_type": "markdown",
   "id": "401e29d4",
   "metadata": {},
   "source": [
    "# Featching Company"
   ]
  },
  {
   "cell_type": "code",
   "execution_count": null,
   "id": "cacd9fd8",
   "metadata": {},
   "outputs": [],
   "source": [
    "com_tags = driver.find_elements_by_xpath('//a[@ class = \"IRpwTa\"]')\n",
    "len(com_tags)"
   ]
  },
  {
   "cell_type": "code",
   "execution_count": null,
   "id": "1a0e5086",
   "metadata": {},
   "outputs": [],
   "source": [
    "com_name1 = []\n",
    "for i in com_tags:\n",
    "    com_name1.append(i.text)\n",
    "com_name1[0:2]"
   ]
  },
  {
   "cell_type": "markdown",
   "id": "8c4d8a2b",
   "metadata": {},
   "source": [
    "# Featching Price"
   ]
  },
  {
   "cell_type": "code",
   "execution_count": null,
   "id": "548f3c8c",
   "metadata": {},
   "outputs": [],
   "source": [
    "price_tags = driver.find_elements_by_xpath('//div[@ class = \"_30jeq3\"]')\n",
    "len(price_tags)"
   ]
  },
  {
   "cell_type": "code",
   "execution_count": null,
   "id": "c8afd738",
   "metadata": {},
   "outputs": [],
   "source": [
    "price1 = []\n",
    "for i in price_tags:\n",
    "    price1.append(i.text)\n",
    "price1[0:2]"
   ]
  },
  {
   "cell_type": "markdown",
   "id": "e6d98663",
   "metadata": {},
   "source": [
    "# Featching Discount"
   ]
  },
  {
   "cell_type": "code",
   "execution_count": null,
   "id": "45d16efc",
   "metadata": {},
   "outputs": [],
   "source": [
    "dis_tags = driver.find_elements_by_xpath('//div[@ class = \"_3Ay6Sb\"]')\n",
    "len(dis_tags)"
   ]
  },
  {
   "cell_type": "code",
   "execution_count": null,
   "id": "cce33279",
   "metadata": {},
   "outputs": [],
   "source": [
    "discount1 = []\n",
    "for i in dis_tags:\n",
    "    discount1.append(i.text)\n",
    "discount1[0:2]"
   ]
  },
  {
   "cell_type": "markdown",
   "id": "0ab801b6",
   "metadata": {},
   "source": [
    "# Clicking Next Button"
   ]
  },
  {
   "cell_type": "code",
   "execution_count": null,
   "id": "374076de",
   "metadata": {},
   "outputs": [],
   "source": [
    "click_next = driver.find_element_by_xpath('/html/body/div[1]/div/div[3]/div[1]/div[2]/div[12]/div/div/nav/a[12]')\n",
    "click_next"
   ]
  },
  {
   "cell_type": "code",
   "execution_count": null,
   "id": "fa63aa73",
   "metadata": {},
   "outputs": [],
   "source": [
    "click_next.click()"
   ]
  },
  {
   "cell_type": "markdown",
   "id": "b1faf359",
   "metadata": {},
   "source": [
    "# Extraction Data From Next Data"
   ]
  },
  {
   "cell_type": "markdown",
   "id": "9a8cbd43",
   "metadata": {},
   "source": [
    "# Featching Sunglass Name"
   ]
  },
  {
   "cell_type": "code",
   "execution_count": null,
   "id": "376c2163",
   "metadata": {},
   "outputs": [],
   "source": [
    "title_tags = driver.find_elements_by_xpath('//div[@ class = \"_2WkVRV\"]')\n",
    "len(title_tags)"
   ]
  },
  {
   "cell_type": "code",
   "execution_count": null,
   "id": "e1c4ed30",
   "metadata": {},
   "outputs": [],
   "source": [
    "sung_name2 = []\n",
    "\n",
    "for i in title_tags:\n",
    "    sung_name2.append(i.text)\n",
    "sung_name2[0:2]"
   ]
  },
  {
   "cell_type": "markdown",
   "id": "1f7be122",
   "metadata": {},
   "source": [
    "# Featching Company Name"
   ]
  },
  {
   "cell_type": "code",
   "execution_count": null,
   "id": "297ee858",
   "metadata": {},
   "outputs": [],
   "source": [
    "com_tags = driver.find_elements_by_xpath('//a[@ class = \"IRpwTa\"]')\n",
    "len(com_tags)"
   ]
  },
  {
   "cell_type": "code",
   "execution_count": null,
   "id": "9fe8f830",
   "metadata": {},
   "outputs": [],
   "source": [
    "com_name2 = []\n",
    "for i in com_tags:\n",
    "    com_name2.append(i.text)\n",
    "com_name2[0:2]"
   ]
  },
  {
   "cell_type": "markdown",
   "id": "fb835df6",
   "metadata": {},
   "source": [
    "# Featching Price"
   ]
  },
  {
   "cell_type": "code",
   "execution_count": null,
   "id": "688a4c3a",
   "metadata": {},
   "outputs": [],
   "source": [
    "price_tags = driver.find_elements_by_xpath('//div[@ class = \"_30jeq3\"]')\n",
    "len(price_tags)"
   ]
  },
  {
   "cell_type": "code",
   "execution_count": null,
   "id": "5129f51e",
   "metadata": {},
   "outputs": [],
   "source": [
    "price2 = []\n",
    "for i in price_tags:\n",
    "    price2.append(i.text)\n",
    "price2[0:2]"
   ]
  },
  {
   "cell_type": "markdown",
   "id": "2f56ca98",
   "metadata": {},
   "source": [
    "# Featching Discount"
   ]
  },
  {
   "cell_type": "code",
   "execution_count": null,
   "id": "fc523575",
   "metadata": {},
   "outputs": [],
   "source": [
    "dis_tags = driver.find_elements_by_xpath('//div[@ class = \"_3Ay6Sb\"]')\n",
    "len(dis_tags)"
   ]
  },
  {
   "cell_type": "code",
   "execution_count": null,
   "id": "f380d1dd",
   "metadata": {},
   "outputs": [],
   "source": [
    "discount2 = []\n",
    "for i in dis_tags:\n",
    "    discount2.append(i.text)\n",
    "discount2[0:2]"
   ]
  },
  {
   "cell_type": "code",
   "execution_count": null,
   "id": "d8756dfa",
   "metadata": {},
   "outputs": [],
   "source": [
    "len(sung_name),len(com_name),len(price),len(discount)"
   ]
  },
  {
   "cell_type": "code",
   "execution_count": null,
   "id": "0d21c890",
   "metadata": {},
   "outputs": [],
   "source": [
    "len(sung_name1),len(com_name1),len(price1),len(discount1)\n"
   ]
  },
  {
   "cell_type": "code",
   "execution_count": null,
   "id": "2da1a217",
   "metadata": {},
   "outputs": [],
   "source": [
    "len(sung_name2),len(com_name2),len(price2),len(discount2)"
   ]
  },
  {
   "cell_type": "markdown",
   "id": "0a20a55f",
   "metadata": {},
   "source": [
    "# Creating Data Frame"
   ]
  },
  {
   "cell_type": "code",
   "execution_count": null,
   "id": "d7dfd110",
   "metadata": {},
   "outputs": [],
   "source": [
    "data = pd.DataFrame()\n",
    "data['Company Name'] = sung_name\n",
    "data['Sunglasses Name'] = com_name\n",
    "data['Price'] = price\n",
    "data['Discount'] = discount\n",
    "data\n"
   ]
  },
  {
   "cell_type": "code",
   "execution_count": null,
   "id": "90d8ce6e",
   "metadata": {},
   "outputs": [],
   "source": [
    "data1 = pd.DataFrame()\n",
    "data1['Company Name'] = sung_name1\n",
    "data1['Sunglasses Name'] = com_name1\n",
    "data1['Price'] = price1\n",
    "data1['Discount'] = discount1\n",
    "data1\n"
   ]
  },
  {
   "cell_type": "code",
   "execution_count": null,
   "id": "439e6024",
   "metadata": {},
   "outputs": [],
   "source": [
    "data2 = pd.DataFrame()\n",
    "data2['Company Name'] = sung_name2[0:20]\n",
    "data2['Sunglasses Name'] = com_name2[0:20]\n",
    "data2['Price'] = price2[0:20]\n",
    "data2['Discount'] = discount2[0:20]\n",
    "data2\n"
   ]
  },
  {
   "cell_type": "code",
   "execution_count": null,
   "id": "37c94828",
   "metadata": {},
   "outputs": [],
   "source": [
    "#Now Append Data Frame\n",
    "df = data.append(data1, ignore_index = True)\n",
    "df"
   ]
  },
  {
   "cell_type": "code",
   "execution_count": null,
   "id": "490a09ca",
   "metadata": {},
   "outputs": [],
   "source": [
    "# 100 data of sunglasses from flipkart.com: \n",
    "sunglass_df = df.append(data2, ignore_index = True)\n",
    "sunglass_df"
   ]
  },
  {
   "cell_type": "markdown",
   "id": "c9ffc9a8",
   "metadata": {},
   "source": [
    "# Q5: Scrape 100 reviews data from flipkart.com for iphone11 phone. You have to go the link: https://www.flipkart.com/apple-iphone-11-black-64-gb-includes- earpods-power\u0002adapter/p/itm0f37c2240b217?pid=MOBFKCTSVZAXUHGR&lid=LSTMOBFKCTSVZAXUHGREPBFGI&marketplace."
   ]
  },
  {
   "cell_type": "code",
   "execution_count": null,
   "id": "1a552708",
   "metadata": {},
   "outputs": [],
   "source": [
    "import selenium\n",
    "from selenium import webdriver\n",
    "import pandas as pd\n",
    "import warnings\n",
    "warnings.filterwarnings('ignore')"
   ]
  },
  {
   "cell_type": "code",
   "execution_count": null,
   "id": "e3286b8e",
   "metadata": {},
   "outputs": [],
   "source": [
    "driver = webdriver.Chrome('chromedriver.exe')"
   ]
  },
  {
   "cell_type": "code",
   "execution_count": null,
   "id": "e621ce59",
   "metadata": {},
   "outputs": [],
   "source": [
    "url = 'https://www.flipkart.com/'\n",
    "driver.get(url)"
   ]
  },
  {
   "cell_type": "code",
   "execution_count": null,
   "id": "96fe221e",
   "metadata": {},
   "outputs": [],
   "source": [
    "search_phone = driver.find_element_by_class_name('_3704LK')\n",
    "search_phone"
   ]
  },
  {
   "cell_type": "code",
   "execution_count": null,
   "id": "1342aaaa",
   "metadata": {},
   "outputs": [],
   "source": [
    "search_phone.send_keys('iphone 11 black 64 GB')"
   ]
  },
  {
   "cell_type": "code",
   "execution_count": null,
   "id": "289517b7",
   "metadata": {},
   "outputs": [],
   "source": [
    "search_searching = driver.find_element_by_xpath('/html/body/div[1]/div/div[1]/div[1]/div[2]/div[2]/form/div/button')\n",
    "search_searching"
   ]
  },
  {
   "cell_type": "code",
   "execution_count": null,
   "id": "20d85f37",
   "metadata": {},
   "outputs": [],
   "source": [
    "search_searching.click()"
   ]
  },
  {
   "cell_type": "code",
   "execution_count": null,
   "id": "6386b8ee",
   "metadata": {},
   "outputs": [],
   "source": [
    "search_iphone = driver.find_element_by_xpath('/html/body/div[1]/div/div[3]/div[1]/div[2]/div[2]/div/div/div/a/div[2]/div[1]/div[1]')\n",
    "search_iphone"
   ]
  },
  {
   "cell_type": "code",
   "execution_count": null,
   "id": "8056ed51",
   "metadata": {},
   "outputs": [],
   "source": [
    "search_iphone.click()"
   ]
  },
  {
   "cell_type": "markdown",
   "id": "863a468a",
   "metadata": {},
   "source": [
    "# Extracting ratings"
   ]
  },
  {
   "cell_type": "code",
   "execution_count": null,
   "id": "b9be0e65",
   "metadata": {},
   "outputs": [],
   "source": [
    "rating_tags = driver.find_elements_by_xpath('//span[@ class = \"_1lRcqv\"]')\n",
    "len(rating_tags)"
   ]
  },
  {
   "cell_type": "code",
   "execution_count": null,
   "id": "0eb54f7c",
   "metadata": {},
   "outputs": [],
   "source": [
    "rating = []\n",
    "\n",
    "for i in rating_tags:\n",
    "    rating.append(i.text)\n",
    "len(rating)\n",
    "rating"
   ]
  },
  {
   "cell_type": "markdown",
   "id": "aac410b0",
   "metadata": {},
   "source": [
    "# Extracting Reviews"
   ]
  },
  {
   "cell_type": "code",
   "execution_count": null,
   "id": "20c24c1c",
   "metadata": {},
   "outputs": [],
   "source": [
    "review_tags = driver.find_element_by_xpath('//p[@ class = \"_2-N8zT\"]')\n",
    "review_tags"
   ]
  },
  {
   "cell_type": "code",
   "execution_count": null,
   "id": "7615c79c",
   "metadata": {},
   "outputs": [],
   "source": [
    "review = []\n",
    "\n",
    "for i in review_tags:\n",
    "    review.append(i.text)\n",
    "len(reviewg)\n",
    "review[0:5]"
   ]
  },
  {
   "cell_type": "code",
   "execution_count": null,
   "id": "b551a404",
   "metadata": {},
   "outputs": [],
   "source": []
  },
  {
   "cell_type": "code",
   "execution_count": null,
   "id": "d5224bd9",
   "metadata": {},
   "outputs": [],
   "source": []
  },
  {
   "cell_type": "markdown",
   "id": "bb706f7d",
   "metadata": {},
   "source": [
    "# Q6: Scrape data for first 100 sneakers you find when you visit flipkart.com andsearch for “sneakers” in the search field."
   ]
  },
  {
   "cell_type": "code",
   "execution_count": null,
   "id": "334d1936",
   "metadata": {},
   "outputs": [],
   "source": [
    "import selenium\n",
    "from selenium import webdriver\n",
    "import pandas as pd\n",
    "import warnings\n",
    "warnings.filterwarnings('ignore')"
   ]
  },
  {
   "cell_type": "code",
   "execution_count": null,
   "id": "3b779cfb",
   "metadata": {},
   "outputs": [],
   "source": [
    "driver = webdriver.Chrome('chromedriver.exe')"
   ]
  },
  {
   "cell_type": "code",
   "execution_count": null,
   "id": "94281d12",
   "metadata": {},
   "outputs": [],
   "source": [
    "url = 'https://www.flipkart.com/'\n",
    "driver.get(url)"
   ]
  },
  {
   "cell_type": "code",
   "execution_count": null,
   "id": "96afb1ed",
   "metadata": {},
   "outputs": [],
   "source": [
    "search_bar = driver.find_element_by_class_name('_3704LK')\n",
    "search_bar"
   ]
  },
  {
   "cell_type": "code",
   "execution_count": null,
   "id": "63c6abbb",
   "metadata": {},
   "outputs": [],
   "source": [
    "search_bar.send_keys('sneakers for men')"
   ]
  },
  {
   "cell_type": "code",
   "execution_count": null,
   "id": "8b2ce888",
   "metadata": {},
   "outputs": [],
   "source": [
    "# clicking button:\n",
    "search_searching = driver.find_element_by_xpath('/html/body/div[1]/div/div[1]/div[1]/div[2]/div[2]/form/div/button')\n",
    "search_searching"
   ]
  },
  {
   "cell_type": "code",
   "execution_count": null,
   "id": "91e40496",
   "metadata": {},
   "outputs": [],
   "source": [
    "search_searching.click()"
   ]
  },
  {
   "cell_type": "markdown",
   "id": "459867b2",
   "metadata": {},
   "source": [
    "# Extracting Company Name:"
   ]
  },
  {
   "cell_type": "code",
   "execution_count": null,
   "id": "5529622c",
   "metadata": {},
   "outputs": [],
   "source": [
    "com_tags = driver.find_elements_by_xpath('//div[@ class = \"_2WkVRV\"]')\n",
    "len(com_tags)"
   ]
  },
  {
   "cell_type": "code",
   "execution_count": null,
   "id": "9fbe2075",
   "metadata": {},
   "outputs": [],
   "source": [
    "com_name = []\n",
    "for i in com_tags:\n",
    "    com_name.append(i.text)\n",
    "com_name[0:2]"
   ]
  },
  {
   "cell_type": "markdown",
   "id": "2b38e018",
   "metadata": {},
   "source": [
    "# Extracting Iteam Info:"
   ]
  },
  {
   "cell_type": "code",
   "execution_count": null,
   "id": "c690379e",
   "metadata": {},
   "outputs": [],
   "source": [
    "iteam_tags = driver.find_elements_by_xpath('//a[@ class = \"IRpwTa\"]')\n",
    "len(iteam_tags)"
   ]
  },
  {
   "cell_type": "code",
   "execution_count": null,
   "id": "45acc9f9",
   "metadata": {},
   "outputs": [],
   "source": [
    "iteam_name = []\n",
    "for i in iteam_tags:\n",
    "    iteam_name.append(i.text)\n",
    "iteam_name[0:2]"
   ]
  },
  {
   "cell_type": "markdown",
   "id": "9cd016c2",
   "metadata": {},
   "source": [
    "# Extracting Price:"
   ]
  },
  {
   "cell_type": "code",
   "execution_count": null,
   "id": "16009078",
   "metadata": {},
   "outputs": [],
   "source": [
    "price_tags = driver.find_elements_by_xpath('//div[@ class = \"_30jeq3\"]')\n",
    "len(price_tags)"
   ]
  },
  {
   "cell_type": "code",
   "execution_count": null,
   "id": "60f4a3d0",
   "metadata": {},
   "outputs": [],
   "source": [
    "price = []\n",
    "for i in price_tags:\n",
    "    price.append(i.text)\n",
    "price[0:2]"
   ]
  },
  {
   "cell_type": "markdown",
   "id": "78ab2126",
   "metadata": {},
   "source": [
    "# Extracting Discount:"
   ]
  },
  {
   "cell_type": "code",
   "execution_count": null,
   "id": "b2f1a141",
   "metadata": {},
   "outputs": [],
   "source": [
    "dis_tags = driver.find_elements_by_xpath('//div[@ class = \"_3Ay6Sb\"]')\n",
    "len(price_tags)"
   ]
  },
  {
   "cell_type": "code",
   "execution_count": null,
   "id": "6fa29bd7",
   "metadata": {},
   "outputs": [],
   "source": [
    "discount = []\n",
    "for i in dis_tags:\n",
    "    discount.append(i.text)\n",
    "discount[0:2]"
   ]
  },
  {
   "cell_type": "markdown",
   "id": "fa30cc6c",
   "metadata": {},
   "source": [
    "# clicking Next Button:"
   ]
  },
  {
   "cell_type": "code",
   "execution_count": null,
   "id": "8eff9b58",
   "metadata": {},
   "outputs": [],
   "source": [
    "click_next = driver.find_element_by_xpath('/html/body/div[1]/div/div[3]/div[1]/div[2]/div[12]/div/div/nav/a[11]/span')\n",
    "click_next"
   ]
  },
  {
   "cell_type": "code",
   "execution_count": null,
   "id": "82b40123",
   "metadata": {},
   "outputs": [],
   "source": [
    "click_next.click()"
   ]
  },
  {
   "cell_type": "markdown",
   "id": "7451cd79",
   "metadata": {},
   "source": [
    "# Extracting Data From Next Button:"
   ]
  },
  {
   "cell_type": "code",
   "execution_count": null,
   "id": "fdaf8f8e",
   "metadata": {},
   "outputs": [],
   "source": [
    "# Fetching company name:\n",
    "com_tags = driver.find_elements_by_xpath('//div[@ class = \"_2WkVRV\"]')\n",
    "len(com_tags)"
   ]
  },
  {
   "cell_type": "code",
   "execution_count": null,
   "id": "441a9fb4",
   "metadata": {},
   "outputs": [],
   "source": [
    "com_name1 = []\n",
    "for i in com_tags:\n",
    "    com_name1.append(i.text)\n",
    "com_name1[0:2]"
   ]
  },
  {
   "cell_type": "code",
   "execution_count": null,
   "id": "7749bd01",
   "metadata": {},
   "outputs": [],
   "source": [
    "# Fetching Iteam Name:\n",
    "iteam_tags = driver.find_elements_by_xpath('//a[@ class = \"IRpwTa\"]')\n",
    "len(iteam_tags)"
   ]
  },
  {
   "cell_type": "code",
   "execution_count": null,
   "id": "9d4421ff",
   "metadata": {},
   "outputs": [],
   "source": [
    "iteam_name1 = []\n",
    "for i in iteam_tags:\n",
    "    iteam_name1.append(i.text)\n",
    "iteam_name1[0:2]"
   ]
  },
  {
   "cell_type": "code",
   "execution_count": null,
   "id": "9006bdc5",
   "metadata": {},
   "outputs": [],
   "source": [
    "# Fetching Price:\n",
    "price_tags = driver.find_elements_by_xpath('//div[@ class = \"_30jeq3\"]')\n",
    "len(price_tags)"
   ]
  },
  {
   "cell_type": "code",
   "execution_count": null,
   "id": "9a978272",
   "metadata": {},
   "outputs": [],
   "source": [
    "price1 = []\n",
    "for i in price_tags:\n",
    "    price1.append(i.text)\n",
    "price1[0:2]"
   ]
  },
  {
   "cell_type": "code",
   "execution_count": null,
   "id": "7d9c9632",
   "metadata": {},
   "outputs": [],
   "source": [
    "# Fetching Discount:\n",
    "dis_tags = driver.find_elements_by_xpath('//div[@ class = \"_3Ay6Sb\"]')\n",
    "len(dis_tags)"
   ]
  },
  {
   "cell_type": "code",
   "execution_count": null,
   "id": "cb07c32a",
   "metadata": {},
   "outputs": [],
   "source": [
    "discount1 = []\n",
    "for i in dis_tags:\n",
    "    discount1.append(i.text)\n",
    "discount1[0:2]"
   ]
  },
  {
   "cell_type": "markdown",
   "id": "ac1f45ca",
   "metadata": {},
   "source": [
    "# Clicking Next Button:"
   ]
  },
  {
   "cell_type": "code",
   "execution_count": null,
   "id": "39e7eb9b",
   "metadata": {},
   "outputs": [],
   "source": [
    "click_next = driver.find_element_by_xpath('/html/body/div[1]/div/div[3]/div[1]/div[2]/div[12]/div/div/nav/a[12]/span')\n",
    "click_next"
   ]
  },
  {
   "cell_type": "code",
   "execution_count": null,
   "id": "07812613",
   "metadata": {},
   "outputs": [],
   "source": [
    "click_next.click()"
   ]
  },
  {
   "cell_type": "code",
   "execution_count": null,
   "id": "9e8b6d4f",
   "metadata": {},
   "outputs": [],
   "source": [
    "# Fetching Company Name:\n",
    "com_tags = driver.find_elements_by_xpath('//div[@ class = \"_2WkVRV\"]')\n",
    "len(com_tags)"
   ]
  },
  {
   "cell_type": "code",
   "execution_count": null,
   "id": "1ea8071d",
   "metadata": {},
   "outputs": [],
   "source": [
    "com_name2 = []\n",
    "for i in com_tags:\n",
    "    com_name2.append(i.text)\n",
    "com_name2[0:2]"
   ]
  },
  {
   "cell_type": "code",
   "execution_count": null,
   "id": "a30a3769",
   "metadata": {},
   "outputs": [],
   "source": [
    "# Featching Iteam Name:\n",
    "iteam_tags = driver.find_elements_by_xpath('//a[@ class = \"IRpwTa\"]')\n",
    "len(iteam_tags)"
   ]
  },
  {
   "cell_type": "code",
   "execution_count": null,
   "id": "641933f9",
   "metadata": {},
   "outputs": [],
   "source": [
    "iteam_name2 = []\n",
    "for i in iteam_tags:\n",
    "    iteam_name2.append(i.text)\n",
    "iteam_name2[0:2]"
   ]
  },
  {
   "cell_type": "code",
   "execution_count": null,
   "id": "c7a6566a",
   "metadata": {},
   "outputs": [],
   "source": [
    "# Featching Price:\n",
    "price_tags = driver.find_elements_by_xpath('//div[@ class = \"_30jeq3\"]')\n",
    "len(price_tags)"
   ]
  },
  {
   "cell_type": "code",
   "execution_count": null,
   "id": "6b270395",
   "metadata": {},
   "outputs": [],
   "source": [
    "price2 = []\n",
    "for i in price_tags:\n",
    "    price2.append(i.text)\n",
    "price2[0:2]"
   ]
  },
  {
   "cell_type": "code",
   "execution_count": null,
   "id": "56a44be4",
   "metadata": {},
   "outputs": [],
   "source": [
    "# Fetching Discount:\n",
    "dis_tags = driver.find_elements_by_xpath('//div[@ class = \"_3Ay6Sb\"]')\n",
    "len(dis_tags)"
   ]
  },
  {
   "cell_type": "code",
   "execution_count": null,
   "id": "4651db78",
   "metadata": {},
   "outputs": [],
   "source": [
    "discount2 = []\n",
    "for i in dis_tags:\n",
    "    discount2.append(i.text)\n",
    "discount2[0:2]"
   ]
  },
  {
   "cell_type": "markdown",
   "id": "d1850199",
   "metadata": {},
   "source": [
    "# Clicking Next Button:"
   ]
  },
  {
   "cell_type": "code",
   "execution_count": null,
   "id": "35b8a50a",
   "metadata": {},
   "outputs": [],
   "source": [
    "click_next = driver.find_element_by_xpath('/html/body/div[1]/div/div[3]/div[1]/div[2]/div[12]/div/div/nav/a[12]/span')\n",
    "click_next"
   ]
  },
  {
   "cell_type": "code",
   "execution_count": null,
   "id": "03f9c5ea",
   "metadata": {},
   "outputs": [],
   "source": [
    "click_next.click()"
   ]
  },
  {
   "cell_type": "code",
   "execution_count": null,
   "id": "cba473f1",
   "metadata": {},
   "outputs": [],
   "source": [
    "# Fetching Company Name:\n",
    "com_tags = driver.find_elements_by_xpath('//div[@ class = \"_2WkVRV\"]')\n",
    "len(com_tags)"
   ]
  },
  {
   "cell_type": "code",
   "execution_count": null,
   "id": "ecbe4bd1",
   "metadata": {},
   "outputs": [],
   "source": [
    "com_name3 = []\n",
    "for i in com_tags:\n",
    "    com_name3.append(i.text)\n",
    "com_name3[0:2]"
   ]
  },
  {
   "cell_type": "code",
   "execution_count": null,
   "id": "e74e0848",
   "metadata": {},
   "outputs": [],
   "source": [
    "# Featching Iteam Name:\n",
    "iteam_tags = driver.find_elements_by_xpath('//a[@ class = \"IRpwTa\"]')\n",
    "len(iteam_tags)"
   ]
  },
  {
   "cell_type": "code",
   "execution_count": null,
   "id": "6724acc3",
   "metadata": {},
   "outputs": [],
   "source": [
    "iteam_name3 = []\n",
    "for i in iteam_tags:\n",
    "    iteam_name3.append(i.text)\n",
    "iteam_name3[0:2]"
   ]
  },
  {
   "cell_type": "code",
   "execution_count": null,
   "id": "5a702df6",
   "metadata": {},
   "outputs": [],
   "source": [
    "# Featching Price:\n",
    "price_tags = driver.find_elements_by_xpath('//div[@ class = \"_30jeq3\"]')\n",
    "len(price_tags)"
   ]
  },
  {
   "cell_type": "code",
   "execution_count": null,
   "id": "ce6bedc5",
   "metadata": {},
   "outputs": [],
   "source": [
    "price3 = []\n",
    "for i in price_tags:\n",
    "    price3.append(i.text)\n",
    "price3[0:2]"
   ]
  },
  {
   "cell_type": "code",
   "execution_count": null,
   "id": "caae219d",
   "metadata": {},
   "outputs": [],
   "source": [
    "# Fetching Discount:\n",
    "dis_tags = driver.find_elements_by_xpath('//div[@ class = \"_3Ay6Sb\"]')\n",
    "len(dis_tags)"
   ]
  },
  {
   "cell_type": "code",
   "execution_count": null,
   "id": "d19367e6",
   "metadata": {},
   "outputs": [],
   "source": [
    "discount3 = []\n",
    "for i in dis_tags:\n",
    "    discount3.append(i.text)\n",
    "discount3[0:2]"
   ]
  },
  {
   "cell_type": "code",
   "execution_count": null,
   "id": "170f3824",
   "metadata": {},
   "outputs": [],
   "source": [
    "# Calculating Length:\n",
    "len('com_name'), len('iteam_name'), len('price'), len('discount')"
   ]
  },
  {
   "cell_type": "code",
   "execution_count": null,
   "id": "8d97ca9d",
   "metadata": {},
   "outputs": [],
   "source": [
    "len('com_name1'), len('iteam_name1'), len('price1'), len('discount1')"
   ]
  },
  {
   "cell_type": "code",
   "execution_count": null,
   "id": "377392e6",
   "metadata": {},
   "outputs": [],
   "source": [
    "len('com_name2'), len('iteam_name2'), len('price2'), len('discount2')"
   ]
  },
  {
   "cell_type": "code",
   "execution_count": null,
   "id": "d462cd45",
   "metadata": {},
   "outputs": [],
   "source": [
    "len('com_name3'), len('iteam_name3'), len('price3'), len('discount3')"
   ]
  },
  {
   "cell_type": "markdown",
   "id": "d2f5d120",
   "metadata": {},
   "source": [
    "# Creating Data Frame:"
   ]
  },
  {
   "cell_type": "code",
   "execution_count": null,
   "id": "dd0d9861",
   "metadata": {},
   "outputs": [],
   "source": [
    "data = pd.DataFrame()\n",
    "data['Company Name'] = com_name[0:25]\n",
    "data['Sneaker Name'] = iteam_name[0:25]\n",
    "data['Price'] = price[0:25]\n",
    "data['Discount'] = discount[0:25]\n",
    "data\n"
   ]
  },
  {
   "cell_type": "code",
   "execution_count": null,
   "id": "2a6e6a84",
   "metadata": {},
   "outputs": [],
   "source": [
    "data1 = pd.DataFrame()\n",
    "data1['Company Name'] = com_name1[0:25]\n",
    "data1['Sneaker Name'] = iteam_name1[0:25]\n",
    "data1['Price'] = price1[0:25]\n",
    "data1['Discount'] = discount1[0:25]\n",
    "data1"
   ]
  },
  {
   "cell_type": "code",
   "execution_count": null,
   "id": "8a38ac96",
   "metadata": {},
   "outputs": [],
   "source": [
    "data2 = pd.DataFrame()\n",
    "data2['Company Name'] = com_name2[0:25]\n",
    "data2['Sneaker Name'] = iteam_name2[0:25]\n",
    "data2['Price'] = price2[0:25]\n",
    "data2['Discount'] = discount2[0:25]\n",
    "data2\n"
   ]
  },
  {
   "cell_type": "code",
   "execution_count": null,
   "id": "f3ac7a13",
   "metadata": {},
   "outputs": [],
   "source": [
    "data3 = pd.DataFrame()\n",
    "data3['Company Name'] = com_name[0:25]\n",
    "data3['Sneaker Name'] = iteam_name[0:25]\n",
    "data3['Price'] = price[0:25]\n",
    "data3['Discount'] = discount[0:25]\n",
    "data3"
   ]
  },
  {
   "cell_type": "code",
   "execution_count": null,
   "id": "4aa6f087",
   "metadata": {},
   "outputs": [],
   "source": [
    "#Now Append Data Frame\n",
    "df = data.append(data1, ignore_index = True)\n",
    "df"
   ]
  },
  {
   "cell_type": "code",
   "execution_count": null,
   "id": "152a1cf1",
   "metadata": {},
   "outputs": [],
   "source": [
    "df1 = data2.append(data3, ignore_index = True)\n",
    "len(df1)"
   ]
  },
  {
   "cell_type": "code",
   "execution_count": null,
   "id": "8a384299",
   "metadata": {},
   "outputs": [],
   "source": [
    "sneaker_df = df.append(df1, ignore_index = True)\n",
    "sneaker_df"
   ]
  },
  {
   "cell_type": "code",
   "execution_count": null,
   "id": "b78d60e3",
   "metadata": {},
   "outputs": [],
   "source": []
  },
  {
   "cell_type": "markdown",
   "id": "e91a9300",
   "metadata": {},
   "source": [
    "# Q7: The link - https://www.myntra.com/shoes Set Price filter to “Rs. 7149 to Rs. 14099 ” , Color filter to “Black”,Fetch Brand, Iteam, Price and Discount also."
   ]
  },
  {
   "cell_type": "code",
   "execution_count": 1,
   "id": "af1b63ea",
   "metadata": {},
   "outputs": [],
   "source": [
    "import selenium\n",
    "from selenium import webdriver\n",
    "import pandas as pd\n",
    "import warnings\n",
    "warnings.filterwarnings('ignore')"
   ]
  },
  {
   "cell_type": "code",
   "execution_count": 2,
   "id": "0281c90e",
   "metadata": {},
   "outputs": [],
   "source": [
    "driver = webdriver.Chrome('chromedriver.exe')"
   ]
  },
  {
   "cell_type": "code",
   "execution_count": 3,
   "id": "3c549a94",
   "metadata": {},
   "outputs": [],
   "source": [
    "url = 'https://www.myntra.com/'\n",
    "driver.get(url)"
   ]
  },
  {
   "cell_type": "code",
   "execution_count": 4,
   "id": "2761bfb3",
   "metadata": {},
   "outputs": [
    {
     "data": {
      "text/plain": [
       "<selenium.webdriver.remote.webelement.WebElement (session=\"155654968a4ea05193c1026768e459b6\", element=\"ed12d989-e156-4a2b-a7b0-ccc715cd0e7e\")>"
      ]
     },
     "execution_count": 4,
     "metadata": {},
     "output_type": "execute_result"
    }
   ],
   "source": [
    "# finding web element from search bar by using id:\n",
    "search_bar = driver.find_element_by_class_name('desktop-searchBar')\n",
    "search_bar"
   ]
  },
  {
   "cell_type": "code",
   "execution_count": 5,
   "id": "f91b794f",
   "metadata": {},
   "outputs": [],
   "source": [
    "search_bar.send_keys('shoes')"
   ]
  },
  {
   "cell_type": "code",
   "execution_count": 6,
   "id": "45f49ee4",
   "metadata": {},
   "outputs": [
    {
     "data": {
      "text/plain": [
       "<selenium.webdriver.remote.webelement.WebElement (session=\"155654968a4ea05193c1026768e459b6\", element=\"52666496-7207-4630-b342-0fa08da933d3\")>"
      ]
     },
     "execution_count": 6,
     "metadata": {},
     "output_type": "execute_result"
    }
   ],
   "source": [
    "# clicking search button:\n",
    "search_button = driver.find_element_by_xpath('/html/body/div[1]/div/div/header/div[2]/div[3]/a')\n",
    "search_button"
   ]
  },
  {
   "cell_type": "code",
   "execution_count": 7,
   "id": "e662472f",
   "metadata": {},
   "outputs": [],
   "source": [
    "search_button.click()"
   ]
  },
  {
   "cell_type": "markdown",
   "id": "2368ac73",
   "metadata": {},
   "source": [
    "# Filtering Price by Checking Box"
   ]
  },
  {
   "cell_type": "code",
   "execution_count": 8,
   "id": "b88bdb2d",
   "metadata": {},
   "outputs": [
    {
     "data": {
      "text/plain": [
       "<selenium.webdriver.remote.webelement.WebElement (session=\"155654968a4ea05193c1026768e459b6\", element=\"fff7c228-3a1d-48be-b8d9-b98801282d74\")>"
      ]
     },
     "execution_count": 8,
     "metadata": {},
     "output_type": "execute_result"
    }
   ],
   "source": [
    "search_price = driver.find_element_by_xpath('/html/body/div[2]/div/div[1]/main/div[3]/div[1]/section/div/div[5]/ul/li[2]/label/div')\n",
    "search_price"
   ]
  },
  {
   "cell_type": "code",
   "execution_count": 9,
   "id": "72ec2360",
   "metadata": {},
   "outputs": [],
   "source": [
    "search_price.click()"
   ]
  },
  {
   "cell_type": "markdown",
   "id": "f46cea6a",
   "metadata": {},
   "source": [
    "# Filtering Shoes Colour by Checking Box"
   ]
  },
  {
   "cell_type": "code",
   "execution_count": 10,
   "id": "3f00bf32",
   "metadata": {},
   "outputs": [
    {
     "data": {
      "text/plain": [
       "<selenium.webdriver.remote.webelement.WebElement (session=\"155654968a4ea05193c1026768e459b6\", element=\"5c7e58d7-116b-4b44-9936-ff0233e06763\")>"
      ]
     },
     "execution_count": 10,
     "metadata": {},
     "output_type": "execute_result"
    }
   ],
   "source": [
    "search_colour = driver.find_element_by_xpath('/html/body/div[2]/div/div[1]/main/div[3]/div[1]/section/div/div[6]/ul/li[1]/label/div')\n",
    "search_colour"
   ]
  },
  {
   "cell_type": "code",
   "execution_count": 11,
   "id": "bc78e725",
   "metadata": {},
   "outputs": [],
   "source": [
    "search_colour.click()"
   ]
  },
  {
   "cell_type": "markdown",
   "id": "d7e4a05f",
   "metadata": {},
   "source": [
    "# Extracting Shoes Info:"
   ]
  },
  {
   "cell_type": "code",
   "execution_count": 14,
   "id": "52a9cffa",
   "metadata": {},
   "outputs": [
    {
     "data": {
      "text/plain": [
       "<selenium.webdriver.remote.webelement.WebElement (session=\"7b2d7283c4b29f05c918f63a97664e20\", element=\"649ee09f-758a-4427-abbb-93d80e68abef\")>"
      ]
     },
     "execution_count": 14,
     "metadata": {},
     "output_type": "execute_result"
    }
   ],
   "source": [
    "# Clicking product to go actual site:\n",
    "click_pro = driver.find_element_by_xpath('/html/body/div[2]/div/div[1]/main/div[3]/div[2]/div/div[2]/section/ul/li[3]/div[3]')\n",
    "click_pro"
   ]
  },
  {
   "cell_type": "code",
   "execution_count": null,
   "id": "42658eb5",
   "metadata": {},
   "outputs": [],
   "source": [
    "click_pro.click()"
   ]
  },
  {
   "cell_type": "code",
   "execution_count": 16,
   "id": "a34056f4",
   "metadata": {},
   "outputs": [
    {
     "data": {
      "text/plain": [
       "0"
      ]
     },
     "execution_count": 16,
     "metadata": {},
     "output_type": "execute_result"
    }
   ],
   "source": [
    "# Fetching Brand Name:\n",
    "brand_tags = driver.find_elements_by_xpath('//h1[@ class = \"pdp-title\"]')\n",
    "len(brand_tags)"
   ]
  },
  {
   "cell_type": "code",
   "execution_count": null,
   "id": "ec55bd4c",
   "metadata": {},
   "outputs": [],
   "source": [
    "brand_name = []\n",
    "for i in brand_tags:\n",
    "    brand_name.append(i.text)\n",
    "brand_name[0:2]"
   ]
  },
  {
   "cell_type": "code",
   "execution_count": null,
   "id": "6514b65c",
   "metadata": {},
   "outputs": [],
   "source": []
  },
  {
   "cell_type": "markdown",
   "id": "17a16035",
   "metadata": {},
   "source": [
    "# Q8: Scrape webpage https://www.amazon.in/\n",
    "Enter “Laptop” in the search field and then click the search icon.\n",
    "Then set CPU Type filter to “Intel Core i7” and “Intel Core i9”"
   ]
  },
  {
   "cell_type": "code",
   "execution_count": 1,
   "id": "9c63a6c2",
   "metadata": {},
   "outputs": [],
   "source": [
    "import selenium\n",
    "from selenium import webdriver\n",
    "import pandas as pd\n",
    "import warnings\n",
    "warnings.filterwarnings('ignore')"
   ]
  },
  {
   "cell_type": "code",
   "execution_count": 2,
   "id": "02682372",
   "metadata": {},
   "outputs": [],
   "source": [
    "driver = webdriver.Chrome('chromedriver.exe')"
   ]
  },
  {
   "cell_type": "code",
   "execution_count": 4,
   "id": "0b75696d",
   "metadata": {},
   "outputs": [],
   "source": [
    "url = 'https://www.amazon.in/'\n",
    "driver.get(url)"
   ]
  },
  {
   "cell_type": "code",
   "execution_count": 5,
   "id": "e5bbae49",
   "metadata": {},
   "outputs": [
    {
     "data": {
      "text/plain": [
       "<selenium.webdriver.remote.webelement.WebElement (session=\"94cf2d40aac09b1c8ac40ea51b4f663c\", element=\"b126abe2-f595-4d46-a007-cc76762f2fe2\")>"
      ]
     },
     "execution_count": 5,
     "metadata": {},
     "output_type": "execute_result"
    }
   ],
   "source": [
    "# finding web element from search bar by using id:\n",
    "search_bar = driver.find_element_by_id('twotabsearchtextbox')\n",
    "search_bar"
   ]
  },
  {
   "cell_type": "code",
   "execution_count": 7,
   "id": "458dc7c8",
   "metadata": {},
   "outputs": [
    {
     "ename": "StaleElementReferenceException",
     "evalue": "Message: stale element reference: element is not attached to the page document\n  (Session info: chrome=99.0.4844.74)\nStacktrace:\nBacktrace:\n\tOrdinal0 [0x010D9943+2595139]\n\tOrdinal0 [0x0106C9F1+2148849]\n\tOrdinal0 [0x00F64528+1066280]\n\tOrdinal0 [0x00F66E04+1076740]\n\tOrdinal0 [0x00F66CBE+1076414]\n\tOrdinal0 [0x00F66F50+1077072]\n\tOrdinal0 [0x00F919F9+1251833]\n\tOrdinal0 [0x00F91AD4+1252052]\n\tOrdinal0 [0x00F8A197+1221015]\n\tOrdinal0 [0x00FAB9EC+1358316]\n\tOrdinal0 [0x00F87474+1209460]\n\tOrdinal0 [0x00FABC04+1358852]\n\tOrdinal0 [0x00FBBAF2+1424114]\n\tOrdinal0 [0x00FAB806+1357830]\n\tOrdinal0 [0x00F86086+1204358]\n\tOrdinal0 [0x00F86F96+1208214]\n\tGetHandleVerifier [0x0127B232+1658114]\n\tGetHandleVerifier [0x0133312C+2411516]\n\tGetHandleVerifier [0x0116F261+560433]\n\tGetHandleVerifier [0x0116E366+556598]\n\tOrdinal0 [0x0107286B+2173035]\n\tOrdinal0 [0x010775F8+2192888]\n\tOrdinal0 [0x010776E5+2193125]\n\tOrdinal0 [0x010811FC+2232828]\n\tBaseThreadInitThunk [0x75D2FA29+25]\n\tRtlGetAppContainerNamedObjectPath [0x77837A7E+286]\n\tRtlGetAppContainerNamedObjectPath [0x77837A4E+238]\n",
     "output_type": "error",
     "traceback": [
      "\u001b[1;31m---------------------------------------------------------------------------\u001b[0m",
      "\u001b[1;31mStaleElementReferenceException\u001b[0m            Traceback (most recent call last)",
      "\u001b[1;32m<ipython-input-7-bf2e254d29fd>\u001b[0m in \u001b[0;36m<module>\u001b[1;34m\u001b[0m\n\u001b[0;32m      1\u001b[0m \u001b[1;31m#search_bar = driver.find_element_by_xpath('/html/body/div[1]/header/div/div[1]/div[2]/div/form/div[3]/div/span/input')\u001b[0m\u001b[1;33m\u001b[0m\u001b[1;33m\u001b[0m\u001b[1;33m\u001b[0m\u001b[0m\n\u001b[1;32m----> 2\u001b[1;33m \u001b[0msearch_bar\u001b[0m\u001b[1;33m.\u001b[0m\u001b[0msend_keys\u001b[0m\u001b[1;33m(\u001b[0m\u001b[1;34m'Laptop'\u001b[0m\u001b[1;33m)\u001b[0m\u001b[1;33m\u001b[0m\u001b[1;33m\u001b[0m\u001b[0m\n\u001b[0m\u001b[0;32m      3\u001b[0m \u001b[0msearch_bar\u001b[0m\u001b[1;33m.\u001b[0m\u001b[0mclick\u001b[0m\u001b[1;33m(\u001b[0m\u001b[1;33m)\u001b[0m\u001b[1;33m\u001b[0m\u001b[1;33m\u001b[0m\u001b[0m\n",
      "\u001b[1;32mC:\\ProgramData\\Anaconda3\\lib\\site-packages\\selenium\\webdriver\\remote\\webelement.py\u001b[0m in \u001b[0;36msend_keys\u001b[1;34m(self, *value)\u001b[0m\n\u001b[0;32m    538\u001b[0m                 \u001b[0mvalue\u001b[0m \u001b[1;33m=\u001b[0m \u001b[1;34m'\\n'\u001b[0m\u001b[1;33m.\u001b[0m\u001b[0mjoin\u001b[0m\u001b[1;33m(\u001b[0m\u001b[0mremote_files\u001b[0m\u001b[1;33m)\u001b[0m\u001b[1;33m\u001b[0m\u001b[1;33m\u001b[0m\u001b[0m\n\u001b[0;32m    539\u001b[0m \u001b[1;33m\u001b[0m\u001b[0m\n\u001b[1;32m--> 540\u001b[1;33m         self._execute(Command.SEND_KEYS_TO_ELEMENT,\n\u001b[0m\u001b[0;32m    541\u001b[0m                       {'text': \"\".join(keys_to_typing(value)),\n\u001b[0;32m    542\u001b[0m                        'value': keys_to_typing(value)})\n",
      "\u001b[1;32mC:\\ProgramData\\Anaconda3\\lib\\site-packages\\selenium\\webdriver\\remote\\webelement.py\u001b[0m in \u001b[0;36m_execute\u001b[1;34m(self, command, params)\u001b[0m\n\u001b[0;32m    708\u001b[0m             \u001b[0mparams\u001b[0m \u001b[1;33m=\u001b[0m \u001b[1;33m{\u001b[0m\u001b[1;33m}\u001b[0m\u001b[1;33m\u001b[0m\u001b[1;33m\u001b[0m\u001b[0m\n\u001b[0;32m    709\u001b[0m         \u001b[0mparams\u001b[0m\u001b[1;33m[\u001b[0m\u001b[1;34m'id'\u001b[0m\u001b[1;33m]\u001b[0m \u001b[1;33m=\u001b[0m \u001b[0mself\u001b[0m\u001b[1;33m.\u001b[0m\u001b[0m_id\u001b[0m\u001b[1;33m\u001b[0m\u001b[1;33m\u001b[0m\u001b[0m\n\u001b[1;32m--> 710\u001b[1;33m         \u001b[1;32mreturn\u001b[0m \u001b[0mself\u001b[0m\u001b[1;33m.\u001b[0m\u001b[0m_parent\u001b[0m\u001b[1;33m.\u001b[0m\u001b[0mexecute\u001b[0m\u001b[1;33m(\u001b[0m\u001b[0mcommand\u001b[0m\u001b[1;33m,\u001b[0m \u001b[0mparams\u001b[0m\u001b[1;33m)\u001b[0m\u001b[1;33m\u001b[0m\u001b[1;33m\u001b[0m\u001b[0m\n\u001b[0m\u001b[0;32m    711\u001b[0m \u001b[1;33m\u001b[0m\u001b[0m\n\u001b[0;32m    712\u001b[0m     \u001b[1;32mdef\u001b[0m \u001b[0mfind_element\u001b[0m\u001b[1;33m(\u001b[0m\u001b[0mself\u001b[0m\u001b[1;33m,\u001b[0m \u001b[0mby\u001b[0m\u001b[1;33m=\u001b[0m\u001b[0mBy\u001b[0m\u001b[1;33m.\u001b[0m\u001b[0mID\u001b[0m\u001b[1;33m,\u001b[0m \u001b[0mvalue\u001b[0m\u001b[1;33m=\u001b[0m\u001b[1;32mNone\u001b[0m\u001b[1;33m)\u001b[0m\u001b[1;33m:\u001b[0m\u001b[1;33m\u001b[0m\u001b[1;33m\u001b[0m\u001b[0m\n",
      "\u001b[1;32mC:\\ProgramData\\Anaconda3\\lib\\site-packages\\selenium\\webdriver\\remote\\webdriver.py\u001b[0m in \u001b[0;36mexecute\u001b[1;34m(self, driver_command, params)\u001b[0m\n\u001b[0;32m    423\u001b[0m         \u001b[0mresponse\u001b[0m \u001b[1;33m=\u001b[0m \u001b[0mself\u001b[0m\u001b[1;33m.\u001b[0m\u001b[0mcommand_executor\u001b[0m\u001b[1;33m.\u001b[0m\u001b[0mexecute\u001b[0m\u001b[1;33m(\u001b[0m\u001b[0mdriver_command\u001b[0m\u001b[1;33m,\u001b[0m \u001b[0mparams\u001b[0m\u001b[1;33m)\u001b[0m\u001b[1;33m\u001b[0m\u001b[1;33m\u001b[0m\u001b[0m\n\u001b[0;32m    424\u001b[0m         \u001b[1;32mif\u001b[0m \u001b[0mresponse\u001b[0m\u001b[1;33m:\u001b[0m\u001b[1;33m\u001b[0m\u001b[1;33m\u001b[0m\u001b[0m\n\u001b[1;32m--> 425\u001b[1;33m             \u001b[0mself\u001b[0m\u001b[1;33m.\u001b[0m\u001b[0merror_handler\u001b[0m\u001b[1;33m.\u001b[0m\u001b[0mcheck_response\u001b[0m\u001b[1;33m(\u001b[0m\u001b[0mresponse\u001b[0m\u001b[1;33m)\u001b[0m\u001b[1;33m\u001b[0m\u001b[1;33m\u001b[0m\u001b[0m\n\u001b[0m\u001b[0;32m    426\u001b[0m             response['value'] = self._unwrap_value(\n\u001b[0;32m    427\u001b[0m                 response.get('value', None))\n",
      "\u001b[1;32mC:\\ProgramData\\Anaconda3\\lib\\site-packages\\selenium\\webdriver\\remote\\errorhandler.py\u001b[0m in \u001b[0;36mcheck_response\u001b[1;34m(self, response)\u001b[0m\n\u001b[0;32m    245\u001b[0m                 \u001b[0malert_text\u001b[0m \u001b[1;33m=\u001b[0m \u001b[0mvalue\u001b[0m\u001b[1;33m[\u001b[0m\u001b[1;34m'alert'\u001b[0m\u001b[1;33m]\u001b[0m\u001b[1;33m.\u001b[0m\u001b[0mget\u001b[0m\u001b[1;33m(\u001b[0m\u001b[1;34m'text'\u001b[0m\u001b[1;33m)\u001b[0m\u001b[1;33m\u001b[0m\u001b[1;33m\u001b[0m\u001b[0m\n\u001b[0;32m    246\u001b[0m             \u001b[1;32mraise\u001b[0m \u001b[0mexception_class\u001b[0m\u001b[1;33m(\u001b[0m\u001b[0mmessage\u001b[0m\u001b[1;33m,\u001b[0m \u001b[0mscreen\u001b[0m\u001b[1;33m,\u001b[0m \u001b[0mstacktrace\u001b[0m\u001b[1;33m,\u001b[0m \u001b[0malert_text\u001b[0m\u001b[1;33m)\u001b[0m  \u001b[1;31m# type: ignore[call-arg]  # mypy is not smart enough here\u001b[0m\u001b[1;33m\u001b[0m\u001b[1;33m\u001b[0m\u001b[0m\n\u001b[1;32m--> 247\u001b[1;33m         \u001b[1;32mraise\u001b[0m \u001b[0mexception_class\u001b[0m\u001b[1;33m(\u001b[0m\u001b[0mmessage\u001b[0m\u001b[1;33m,\u001b[0m \u001b[0mscreen\u001b[0m\u001b[1;33m,\u001b[0m \u001b[0mstacktrace\u001b[0m\u001b[1;33m)\u001b[0m\u001b[1;33m\u001b[0m\u001b[1;33m\u001b[0m\u001b[0m\n\u001b[0m\u001b[0;32m    248\u001b[0m \u001b[1;33m\u001b[0m\u001b[0m\n\u001b[0;32m    249\u001b[0m     \u001b[1;32mdef\u001b[0m \u001b[0m_value_or_default\u001b[0m\u001b[1;33m(\u001b[0m\u001b[0mself\u001b[0m\u001b[1;33m,\u001b[0m \u001b[0mobj\u001b[0m\u001b[1;33m:\u001b[0m \u001b[0mMapping\u001b[0m\u001b[1;33m[\u001b[0m\u001b[0m_KT\u001b[0m\u001b[1;33m,\u001b[0m \u001b[0m_VT\u001b[0m\u001b[1;33m]\u001b[0m\u001b[1;33m,\u001b[0m \u001b[0mkey\u001b[0m\u001b[1;33m:\u001b[0m \u001b[0m_KT\u001b[0m\u001b[1;33m,\u001b[0m \u001b[0mdefault\u001b[0m\u001b[1;33m:\u001b[0m \u001b[0m_VT\u001b[0m\u001b[1;33m)\u001b[0m \u001b[1;33m->\u001b[0m \u001b[0m_VT\u001b[0m\u001b[1;33m:\u001b[0m\u001b[1;33m\u001b[0m\u001b[1;33m\u001b[0m\u001b[0m\n",
      "\u001b[1;31mStaleElementReferenceException\u001b[0m: Message: stale element reference: element is not attached to the page document\n  (Session info: chrome=99.0.4844.74)\nStacktrace:\nBacktrace:\n\tOrdinal0 [0x010D9943+2595139]\n\tOrdinal0 [0x0106C9F1+2148849]\n\tOrdinal0 [0x00F64528+1066280]\n\tOrdinal0 [0x00F66E04+1076740]\n\tOrdinal0 [0x00F66CBE+1076414]\n\tOrdinal0 [0x00F66F50+1077072]\n\tOrdinal0 [0x00F919F9+1251833]\n\tOrdinal0 [0x00F91AD4+1252052]\n\tOrdinal0 [0x00F8A197+1221015]\n\tOrdinal0 [0x00FAB9EC+1358316]\n\tOrdinal0 [0x00F87474+1209460]\n\tOrdinal0 [0x00FABC04+1358852]\n\tOrdinal0 [0x00FBBAF2+1424114]\n\tOrdinal0 [0x00FAB806+1357830]\n\tOrdinal0 [0x00F86086+1204358]\n\tOrdinal0 [0x00F86F96+1208214]\n\tGetHandleVerifier [0x0127B232+1658114]\n\tGetHandleVerifier [0x0133312C+2411516]\n\tGetHandleVerifier [0x0116F261+560433]\n\tGetHandleVerifier [0x0116E366+556598]\n\tOrdinal0 [0x0107286B+2173035]\n\tOrdinal0 [0x010775F8+2192888]\n\tOrdinal0 [0x010776E5+2193125]\n\tOrdinal0 [0x010811FC+2232828]\n\tBaseThreadInitThunk [0x75D2FA29+25]\n\tRtlGetAppContainerNamedObjectPath [0x77837A7E+286]\n\tRtlGetAppContainerNamedObjectPath [0x77837A4E+238]\n"
     ]
    }
   ],
   "source": [
    "#search_bar = driver.find_element_by_xpath('/html/body/div[1]/header/div/div[1]/div[2]/div/form/div[3]/div/span/input')\n",
    "search_bar.send_keys('Laptop')\n",
    "search_bar.click()"
   ]
  },
  {
   "cell_type": "code",
   "execution_count": null,
   "id": "22070f34",
   "metadata": {},
   "outputs": [],
   "source": []
  },
  {
   "cell_type": "code",
   "execution_count": null,
   "id": "27c2b8fb",
   "metadata": {},
   "outputs": [],
   "source": []
  },
  {
   "cell_type": "code",
   "execution_count": null,
   "id": "b2fc0fdb",
   "metadata": {},
   "outputs": [],
   "source": []
  },
  {
   "cell_type": "code",
   "execution_count": null,
   "id": "5a00c051",
   "metadata": {},
   "outputs": [],
   "source": []
  }
 ],
 "metadata": {
  "kernelspec": {
   "display_name": "Python 3",
   "language": "python",
   "name": "python3"
  },
  "language_info": {
   "codemirror_mode": {
    "name": "ipython",
    "version": 3
   },
   "file_extension": ".py",
   "mimetype": "text/x-python",
   "name": "python",
   "nbconvert_exporter": "python",
   "pygments_lexer": "ipython3",
   "version": "3.8.8"
  }
 },
 "nbformat": 4,
 "nbformat_minor": 5
}
