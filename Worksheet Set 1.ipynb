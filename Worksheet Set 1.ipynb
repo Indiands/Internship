{
 "cells": [
  {
   "cell_type": "markdown",
   "id": "c049d8a9",
   "metadata": {},
   "source": [
    "# 1. Finding the factorial of a number."
   ]
  },
  {
   "cell_type": "code",
   "execution_count": 1,
   "id": "fbc2199b",
   "metadata": {},
   "outputs": [
    {
     "name": "stdout",
     "output_type": "stream",
     "text": [
      "Enter any number:5\n",
      "The factorial of given no. is : 120\n"
     ]
    }
   ],
   "source": [
    "a = int(input('Enter any number:'))\n",
    "f = 1\n",
    "for i in range(1, a+1):\n",
    "    f = f*i\n",
    "print('The factorial of given no. is :', f)"
   ]
  },
  {
   "cell_type": "markdown",
   "id": "568faa16",
   "metadata": {},
   "source": [
    "# 2. Finding whether a number is prime or composite."
   ]
  },
  {
   "cell_type": "code",
   "execution_count": 2,
   "id": "337d4c9a",
   "metadata": {},
   "outputs": [
    {
     "name": "stdout",
     "output_type": "stream",
     "text": [
      "Enter any number:45\n",
      "Given no. is a composite.\n"
     ]
    }
   ],
   "source": [
    "a = int(input('Enter any number:'))\n",
    "if a == 2 or a == 3 or a == 5:\n",
    "    print('Given no. is a prime.')\n",
    "elif a % 2 == 0 or a % 3 == 0 or a % 5 == 0:\n",
    "        print('Given no. is a composite.')\n",
    "else:\n",
    "    print('Given no. is a prime.')"
   ]
  },
  {
   "cell_type": "markdown",
   "id": "8dd484f2",
   "metadata": {},
   "source": [
    "# 3. Finsing whether a given string is palindrome or not."
   ]
  },
  {
   "cell_type": "code",
   "execution_count": 3,
   "id": "07cdfae0",
   "metadata": {},
   "outputs": [],
   "source": [
    "def isPalindrome(pal):\n",
    "    return pal == pal[::-1]"
   ]
  },
  {
   "cell_type": "code",
   "execution_count": 4,
   "id": "ad7afca6",
   "metadata": {},
   "outputs": [
    {
     "name": "stdout",
     "output_type": "stream",
     "text": [
      "Yes\n"
     ]
    }
   ],
   "source": [
    "pal = 'pop'\n",
    "ans = isPalindrome(pal)\n",
    "if ans:\n",
    "    print('Yes')\n",
    "else:\n",
    "    print('No')"
   ]
  },
  {
   "cell_type": "code",
   "execution_count": 5,
   "id": "1147dcca",
   "metadata": {},
   "outputs": [
    {
     "name": "stdout",
     "output_type": "stream",
     "text": [
      "Yes\n"
     ]
    }
   ],
   "source": [
    "pal = 'radar'\n",
    "ans = isPalindrome(pal)\n",
    "if ans:\n",
    "    print('Yes')\n",
    "else:\n",
    "    print('No')"
   ]
  },
  {
   "cell_type": "code",
   "execution_count": 6,
   "id": "e87a223b",
   "metadata": {},
   "outputs": [
    {
     "name": "stdout",
     "output_type": "stream",
     "text": [
      "No\n"
     ]
    }
   ],
   "source": [
    "pal = 'rose'\n",
    "ans = isPalindrome(pal)\n",
    "if ans:\n",
    "    print('Yes')\n",
    "else:\n",
    "    print('No')"
   ]
  },
  {
   "cell_type": "markdown",
   "id": "82e86e26",
   "metadata": {},
   "source": [
    "# 4. Finding the third side of right-angled triangle from two given sides."
   ]
  },
  {
   "cell_type": "code",
   "execution_count": 7,
   "id": "afb8107a",
   "metadata": {},
   "outputs": [
    {
     "name": "stdout",
     "output_type": "stream",
     "text": [
      "Enter the value of another angle:34.7\n",
      "Third side of triangle is 55.3\n"
     ]
    }
   ],
   "source": [
    "a = 90\n",
    "b = float(input('Enter the value of another angle:'))\n",
    "c = 180 - (a + b)\n",
    "print('Third side of triangle is',c)\n"
   ]
  },
  {
   "cell_type": "markdown",
   "id": "b4ad04de",
   "metadata": {},
   "source": [
    "# 5. A python program to print the frequency of each of the characters present in a given string."
   ]
  },
  {
   "cell_type": "code",
   "execution_count": 8,
   "id": "648ff464",
   "metadata": {},
   "outputs": [
    {
     "name": "stdout",
     "output_type": "stream",
     "text": [
      "Enter the string :INDIAINDIANINDDISSHJH\n",
      "{'I': 6, 'N': 4, 'D': 4, 'A': 2, 'S': 2, 'H': 2, 'J': 1}\n"
     ]
    }
   ],
   "source": [
    "str = input('Enter the string :')\n",
    "d = dict()\n",
    "for c in str:\n",
    "    if c in d:\n",
    "        d[c] = d[c] + 1\n",
    "    else:\n",
    "        d[c] = 1\n",
    "print(d)"
   ]
  },
  {
   "cell_type": "code",
   "execution_count": null,
   "id": "68bc3c36",
   "metadata": {},
   "outputs": [],
   "source": []
  }
 ],
 "metadata": {
  "kernelspec": {
   "display_name": "Python 3",
   "language": "python",
   "name": "python3"
  },
  "language_info": {
   "codemirror_mode": {
    "name": "ipython",
    "version": 3
   },
   "file_extension": ".py",
   "mimetype": "text/x-python",
   "name": "python",
   "nbconvert_exporter": "python",
   "pygments_lexer": "ipython3",
   "version": "3.8.8"
  }
 },
 "nbformat": 4,
 "nbformat_minor": 5
}
